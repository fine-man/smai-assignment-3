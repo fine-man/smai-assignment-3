{
 "cells": [
  {
   "cell_type": "markdown",
   "metadata": {},
   "source": [
    "# Assignment 3 - SMAI - Mutli Layer Perceptron"
   ]
  },
  {
   "cell_type": "code",
   "execution_count": 1,
   "metadata": {},
   "outputs": [
    {
     "name": "stdout",
     "output_type": "stream",
     "text": [
      "/home/richard/play/IIITH/sem5/smai/assignments/assignment-3-fine-man/datasets\n",
      "/home/richard/play/IIITH/sem5/smai/assignments/assignment-3-fine-man/yaml-files\n"
     ]
    }
   ],
   "source": [
    "import os\n",
    "import sys\n",
    "\n",
    "# enter the Foldername here:\n",
    "FOLDERNAME = \"/home/richard/play/IIITH/sem5/smai/assignments/assignment-3-fine-man\"\n",
    "\n",
    "if FOLDERNAME is None or not os.path.exists(FOLDERNAME):\n",
    "    FOLDERNAME = os.getcwd()\n",
    "\n",
    "PATHNAME = f\"{FOLDERNAME}\"\n",
    "sys.path.append(f\"{FOLDERNAME}\")\n",
    "\n",
    "# DATA_FOLDER = os.path.join(FOLDERNAME, \"SMAI-Dataset-release/IIIT-CFW\")\n",
    "DATA_FOLDER = os.path.join(FOLDERNAME, \"datasets\")\n",
    "YAML_FOLDER = os.path.join(FOLDERNAME, \"yaml-files\")\n",
    "print(DATA_FOLDER)\n",
    "print(YAML_FOLDER)"
   ]
  },
  {
   "cell_type": "code",
   "execution_count": 2,
   "metadata": {},
   "outputs": [],
   "source": [
    "# some magic so that the notebook will reload external python modules;\n",
    "# see https://stackoverflow.com/questions/1907993/autoreload-of-modules-in-ipython\n",
    "%load_ext autoreload\n",
    "%autoreload 2"
   ]
  },
  {
   "cell_type": "code",
   "execution_count": 3,
   "metadata": {},
   "outputs": [],
   "source": [
    "import numpy as np\n",
    "import pandas as pd\n",
    "import copy\n",
    "import os\n",
    "from random import randrange\n",
    "from matplotlib import pyplot as plt\n",
    "from PIL import Image\n",
    "\n",
    "from sklearn.model_selection import train_test_split\n",
    "from sklearn.preprocessing import StandardScaler\n",
    "from sklearn.decomposition import PCA\n",
    "\n",
    "import wandb"
   ]
  },
  {
   "cell_type": "code",
   "execution_count": 4,
   "metadata": {},
   "outputs": [],
   "source": [
    "from src import *\n",
    "from src.classifiers import *"
   ]
  },
  {
   "cell_type": "code",
   "execution_count": 5,
   "metadata": {},
   "outputs": [
    {
     "name": "stderr",
     "output_type": "stream",
     "text": [
      "Failed to detect the name of this notebook, you can set it manually with the WANDB_NOTEBOOK_NAME environment variable to enable code saving.\n",
      "\u001b[34m\u001b[1mwandb\u001b[0m: Currently logged in as: \u001b[33mvanshg\u001b[0m. Use \u001b[1m`wandb login --relogin`\u001b[0m to force relogin\n"
     ]
    },
    {
     "data": {
      "text/plain": [
       "True"
      ]
     },
     "execution_count": 5,
     "metadata": {},
     "output_type": "execute_result"
    }
   ],
   "source": [
    "wandb.login()"
   ]
  },
  {
   "cell_type": "markdown",
   "metadata": {},
   "source": [
    "## Problem 2 - Multi Layer Perceptron Classification"
   ]
  },
  {
   "cell_type": "markdown",
   "metadata": {},
   "source": [
    "## (2.0) - Data Loading and Preprocessing"
   ]
  },
  {
   "cell_type": "code",
   "execution_count": 6,
   "metadata": {},
   "outputs": [
    {
     "data": {
      "text/html": [
       "<div>\n",
       "<style scoped>\n",
       "    .dataframe tbody tr th:only-of-type {\n",
       "        vertical-align: middle;\n",
       "    }\n",
       "\n",
       "    .dataframe tbody tr th {\n",
       "        vertical-align: top;\n",
       "    }\n",
       "\n",
       "    .dataframe thead th {\n",
       "        text-align: right;\n",
       "    }\n",
       "</style>\n",
       "<table border=\"1\" class=\"dataframe\">\n",
       "  <thead>\n",
       "    <tr style=\"text-align: right;\">\n",
       "      <th></th>\n",
       "      <th>fixed acidity</th>\n",
       "      <th>volatile acidity</th>\n",
       "      <th>citric acid</th>\n",
       "      <th>residual sugar</th>\n",
       "      <th>chlorides</th>\n",
       "      <th>free sulfur dioxide</th>\n",
       "      <th>total sulfur dioxide</th>\n",
       "      <th>density</th>\n",
       "      <th>pH</th>\n",
       "      <th>sulphates</th>\n",
       "      <th>alcohol</th>\n",
       "      <th>quality</th>\n",
       "      <th>Id</th>\n",
       "    </tr>\n",
       "  </thead>\n",
       "  <tbody>\n",
       "    <tr>\n",
       "      <th>count</th>\n",
       "      <td>1143.000000</td>\n",
       "      <td>1143.000000</td>\n",
       "      <td>1143.000000</td>\n",
       "      <td>1143.000000</td>\n",
       "      <td>1143.000000</td>\n",
       "      <td>1143.000000</td>\n",
       "      <td>1143.000000</td>\n",
       "      <td>1143.000000</td>\n",
       "      <td>1143.000000</td>\n",
       "      <td>1143.000000</td>\n",
       "      <td>1143.000000</td>\n",
       "      <td>1143.000000</td>\n",
       "      <td>1143.000000</td>\n",
       "    </tr>\n",
       "    <tr>\n",
       "      <th>mean</th>\n",
       "      <td>8.311111</td>\n",
       "      <td>0.531339</td>\n",
       "      <td>0.268364</td>\n",
       "      <td>2.532152</td>\n",
       "      <td>0.086933</td>\n",
       "      <td>15.615486</td>\n",
       "      <td>45.914698</td>\n",
       "      <td>0.996730</td>\n",
       "      <td>3.311015</td>\n",
       "      <td>0.657708</td>\n",
       "      <td>10.442111</td>\n",
       "      <td>5.657043</td>\n",
       "      <td>804.969379</td>\n",
       "    </tr>\n",
       "    <tr>\n",
       "      <th>std</th>\n",
       "      <td>1.747595</td>\n",
       "      <td>0.179633</td>\n",
       "      <td>0.196686</td>\n",
       "      <td>1.355917</td>\n",
       "      <td>0.047267</td>\n",
       "      <td>10.250486</td>\n",
       "      <td>32.782130</td>\n",
       "      <td>0.001925</td>\n",
       "      <td>0.156664</td>\n",
       "      <td>0.170399</td>\n",
       "      <td>1.082196</td>\n",
       "      <td>0.805824</td>\n",
       "      <td>463.997116</td>\n",
       "    </tr>\n",
       "    <tr>\n",
       "      <th>min</th>\n",
       "      <td>4.600000</td>\n",
       "      <td>0.120000</td>\n",
       "      <td>0.000000</td>\n",
       "      <td>0.900000</td>\n",
       "      <td>0.012000</td>\n",
       "      <td>1.000000</td>\n",
       "      <td>6.000000</td>\n",
       "      <td>0.990070</td>\n",
       "      <td>2.740000</td>\n",
       "      <td>0.330000</td>\n",
       "      <td>8.400000</td>\n",
       "      <td>3.000000</td>\n",
       "      <td>0.000000</td>\n",
       "    </tr>\n",
       "    <tr>\n",
       "      <th>25%</th>\n",
       "      <td>7.100000</td>\n",
       "      <td>0.392500</td>\n",
       "      <td>0.090000</td>\n",
       "      <td>1.900000</td>\n",
       "      <td>0.070000</td>\n",
       "      <td>7.000000</td>\n",
       "      <td>21.000000</td>\n",
       "      <td>0.995570</td>\n",
       "      <td>3.205000</td>\n",
       "      <td>0.550000</td>\n",
       "      <td>9.500000</td>\n",
       "      <td>5.000000</td>\n",
       "      <td>411.000000</td>\n",
       "    </tr>\n",
       "    <tr>\n",
       "      <th>50%</th>\n",
       "      <td>7.900000</td>\n",
       "      <td>0.520000</td>\n",
       "      <td>0.250000</td>\n",
       "      <td>2.200000</td>\n",
       "      <td>0.079000</td>\n",
       "      <td>13.000000</td>\n",
       "      <td>37.000000</td>\n",
       "      <td>0.996680</td>\n",
       "      <td>3.310000</td>\n",
       "      <td>0.620000</td>\n",
       "      <td>10.200000</td>\n",
       "      <td>6.000000</td>\n",
       "      <td>794.000000</td>\n",
       "    </tr>\n",
       "    <tr>\n",
       "      <th>75%</th>\n",
       "      <td>9.100000</td>\n",
       "      <td>0.640000</td>\n",
       "      <td>0.420000</td>\n",
       "      <td>2.600000</td>\n",
       "      <td>0.090000</td>\n",
       "      <td>21.000000</td>\n",
       "      <td>61.000000</td>\n",
       "      <td>0.997845</td>\n",
       "      <td>3.400000</td>\n",
       "      <td>0.730000</td>\n",
       "      <td>11.100000</td>\n",
       "      <td>6.000000</td>\n",
       "      <td>1209.500000</td>\n",
       "    </tr>\n",
       "    <tr>\n",
       "      <th>max</th>\n",
       "      <td>15.900000</td>\n",
       "      <td>1.580000</td>\n",
       "      <td>1.000000</td>\n",
       "      <td>15.500000</td>\n",
       "      <td>0.611000</td>\n",
       "      <td>68.000000</td>\n",
       "      <td>289.000000</td>\n",
       "      <td>1.003690</td>\n",
       "      <td>4.010000</td>\n",
       "      <td>2.000000</td>\n",
       "      <td>14.900000</td>\n",
       "      <td>8.000000</td>\n",
       "      <td>1597.000000</td>\n",
       "    </tr>\n",
       "  </tbody>\n",
       "</table>\n",
       "</div>"
      ],
      "text/plain": [
       "       fixed acidity  volatile acidity  citric acid  residual sugar  \\\n",
       "count    1143.000000       1143.000000  1143.000000     1143.000000   \n",
       "mean        8.311111          0.531339     0.268364        2.532152   \n",
       "std         1.747595          0.179633     0.196686        1.355917   \n",
       "min         4.600000          0.120000     0.000000        0.900000   \n",
       "25%         7.100000          0.392500     0.090000        1.900000   \n",
       "50%         7.900000          0.520000     0.250000        2.200000   \n",
       "75%         9.100000          0.640000     0.420000        2.600000   \n",
       "max        15.900000          1.580000     1.000000       15.500000   \n",
       "\n",
       "         chlorides  free sulfur dioxide  total sulfur dioxide      density  \\\n",
       "count  1143.000000          1143.000000           1143.000000  1143.000000   \n",
       "mean      0.086933            15.615486             45.914698     0.996730   \n",
       "std       0.047267            10.250486             32.782130     0.001925   \n",
       "min       0.012000             1.000000              6.000000     0.990070   \n",
       "25%       0.070000             7.000000             21.000000     0.995570   \n",
       "50%       0.079000            13.000000             37.000000     0.996680   \n",
       "75%       0.090000            21.000000             61.000000     0.997845   \n",
       "max       0.611000            68.000000            289.000000     1.003690   \n",
       "\n",
       "                pH    sulphates      alcohol      quality           Id  \n",
       "count  1143.000000  1143.000000  1143.000000  1143.000000  1143.000000  \n",
       "mean      3.311015     0.657708    10.442111     5.657043   804.969379  \n",
       "std       0.156664     0.170399     1.082196     0.805824   463.997116  \n",
       "min       2.740000     0.330000     8.400000     3.000000     0.000000  \n",
       "25%       3.205000     0.550000     9.500000     5.000000   411.000000  \n",
       "50%       3.310000     0.620000    10.200000     6.000000   794.000000  \n",
       "75%       3.400000     0.730000    11.100000     6.000000  1209.500000  \n",
       "max       4.010000     2.000000    14.900000     8.000000  1597.000000  "
      ]
     },
     "execution_count": 6,
     "metadata": {},
     "output_type": "execute_result"
    }
   ],
   "source": [
    "wine_df = pd.read_csv(os.path.join(DATA_FOLDER, \"wineqt.csv\"))\n",
    "\n",
    "# printing the mean, standard deviation, min and max for each column\n",
    "wine_df.describe()"
   ]
  },
  {
   "cell_type": "code",
   "execution_count": 7,
   "metadata": {},
   "outputs": [
    {
     "name": "stdout",
     "output_type": "stream",
     "text": [
      "Shape of wine data: (1143, 11)\n",
      "Shape of wine target classes: (1143,)\n"
     ]
    }
   ],
   "source": [
    "def load_wine_dataset(path):\n",
    "    wine_df = pd.read_csv(path)\n",
    "    X, y = wine_df.iloc[:, :-2].to_numpy(), wine_df.iloc[:, -2].to_numpy()\n",
    "    y -= np.min(y) # making the range of classes to be between [0, 5]\n",
    "    return X, y\n",
    "\n",
    "X, y = load_wine_dataset(os.path.join(DATA_FOLDER, \"wineqt.csv\"))\n",
    "\n",
    "print(f\"Shape of wine data: {X.shape}\")\n",
    "print(f\"Shape of wine target classes: {y.shape}\")"
   ]
  },
  {
   "cell_type": "markdown",
   "metadata": {},
   "source": [
    "#### Train, Val, Test split"
   ]
  },
  {
   "cell_type": "code",
   "execution_count": 8,
   "metadata": {},
   "outputs": [
    {
     "name": "stdout",
     "output_type": "stream",
     "text": [
      "Size of training set: (800, 11)\n",
      "Size of validation set: (114, 11)\n",
      "Size of testing set: (229, 11)\n"
     ]
    }
   ],
   "source": [
    "X_train, X_test, y_train, y_test = train_test_split(\n",
    "    X, y, test_size=0.30, random_state=42\n",
    ")\n",
    "\n",
    "X_test, X_val, y_test, y_val = train_test_split(\n",
    "    X_test, y_test, test_size=0.33, random_state=42\n",
    ")\n",
    "\n",
    "print(f\"Size of training set: {X_train.shape}\")\n",
    "print(f\"Size of validation set: {X_val.shape}\")\n",
    "print(f\"Size of testing set: {X_test.shape}\")"
   ]
  },
  {
   "cell_type": "markdown",
   "metadata": {},
   "source": [
    "#### Standarizing the data"
   ]
  },
  {
   "cell_type": "code",
   "execution_count": 9,
   "metadata": {},
   "outputs": [
    {
     "name": "stdout",
     "output_type": "stream",
     "text": [
      "Mean of training features:\n",
      "[ 8.24225     0.52955625  0.2644375   2.5051875   0.08655875 15.703125\n",
      " 45.54125     0.99668604  3.314925    0.6580125  10.437125  ]\n",
      "\n",
      "Variance of training features: [2.84383994e+00 3.15808968e-02 3.70914336e-02 1.67394496e+00\n",
      " 2.14769905e-03 1.04172178e+02 9.53580798e+02 3.55576542e-06\n",
      " 2.28689944e-02 2.82864248e-02 1.13723701e+00]\n"
     ]
    }
   ],
   "source": [
    "scaler = StandardScaler()\n",
    "\n",
    "X_train = scaler.fit_transform(X_train)\n",
    "\n",
    "print(f\"Mean of training features:\\n{scaler.mean_}\\n\")\n",
    "print(f\"Variance of training features: {scaler.var_}\")\n",
    "\n",
    "X_val = scaler.transform(X_val)\n",
    "X_test = scaler.transform(X_test)"
   ]
  },
  {
   "cell_type": "markdown",
   "metadata": {},
   "source": [
    "### Dimensionality Reduction"
   ]
  },
  {
   "cell_type": "code",
   "execution_count": 10,
   "metadata": {},
   "outputs": [
    {
     "name": "stdout",
     "output_type": "stream",
     "text": [
      "Shape of reduced training set: (800, 2)\n",
      "Shape of reduced validation set: (114, 2)\n",
      "Shape of reduced testing set: (229, 2)\n"
     ]
    }
   ],
   "source": [
    "wine_pca = PCA(n_components=2)\n",
    "wine_pca.fit(X_train)\n",
    "\n",
    "X_train_reduced = wine_pca.transform(X_train)\n",
    "X_val_reduced = wine_pca.transform(X_val)\n",
    "X_test_reduced = wine_pca.transform(X_test)\n",
    "\n",
    "print(f\"Shape of reduced training set: {X_train_reduced.shape}\")\n",
    "print(f\"Shape of reduced validation set: {X_val_reduced.shape}\")\n",
    "print(f\"Shape of reduced testing set: {X_test_reduced.shape}\")"
   ]
  },
  {
   "cell_type": "code",
   "execution_count": 11,
   "metadata": {},
   "outputs": [
    {
     "data": {
      "image/png": "[encoded data removed]",
      "text/plain": [
       "<Figure size 640x480 with 1 Axes>"
      ]
     },
     "metadata": {},
     "output_type": "display_data"
    }
   ],
   "source": [
    "plt.scatter(X_train_reduced[:, 0], X_train_reduced[:, 1], c=y_train)\n",
    "plt.title(\"Plot of first two principal components of training data\")\n",
    "plt.xlabel(\"Principal Component 1\")\n",
    "plt.ylabel(\"Principal Component 2\")\n",
    "plt.show()"
   ]
  },
  {
   "cell_type": "code",
   "execution_count": 17,
   "metadata": {},
   "outputs": [
    {
     "name": "stdout",
     "output_type": "stream",
     "text": [
      "Size of training set: (800, 11), (800,)\n",
      "Size of validation set: (114, 11), (114,)\n",
      "Size of testing set: (229, 11), (229,)\n"
     ]
    }
   ],
   "source": [
    "wine_data_path = os.path.join(DATA_FOLDER, \"wineqt.csv\")\n",
    "X_train, X_val, X_test, y_train, y_val, y_test = get_and_process_wine_dataset(wine_data_path)\n",
    "\n",
    "print(f\"Size of training set: {X_train.shape}, {y_train.shape}\")\n",
    "print(f\"Size of validation set: {X_val.shape}, {y_val.shape}\")\n",
    "print(f\"Size of testing set: {X_test.shape}, {y_test.shape}\")"
   ]
  },
  {
   "cell_type": "markdown",
   "metadata": {},
   "source": [
    "### Single Wandb config"
   ]
  },
  {
   "cell_type": "code",
   "execution_count": 19,
   "metadata": {},
   "outputs": [
    {
     "name": "stdout",
     "output_type": "stream",
     "text": [
      "[11, 8]\n",
      "dict_keys(['W1', 'b1', 'W2', 'b2', 'W3', 'b3'])\n",
      "Epoch: 1 | Train Accuracy: 39.875 | Val Accuracy: 43.860 | Train loss: 5.2518 | Val loss: 5.7145\n",
      "\n",
      "Epoch: 2 | Train Accuracy: 45.125 | Val Accuracy: 43.860 | Train loss: 3.2000 | Val loss: 3.8410\n",
      "\n",
      "Epoch: 3 | Train Accuracy: 48.500 | Val Accuracy: 45.614 | Train loss: 2.5845 | Val loss: 3.1433\n",
      "\n",
      "Iteration: 100/2500 | loss = 3.6418\n",
      "Epoch: 4 | Train Accuracy: 49.750 | Val Accuracy: 46.491 | Train loss: 2.2870 | Val loss: 2.6847\n",
      "\n",
      "Epoch: 5 | Train Accuracy: 49.625 | Val Accuracy: 46.491 | Train loss: 2.0659 | Val loss: 2.3728\n",
      "\n",
      "Epoch: 6 | Train Accuracy: 50.375 | Val Accuracy: 47.368 | Train loss: 1.9111 | Val loss: 2.1096\n",
      "\n",
      "Epoch: 7 | Train Accuracy: 51.000 | Val Accuracy: 48.246 | Train loss: 1.7853 | Val loss: 1.9593\n",
      "\n",
      "Iteration: 200/2500 | loss = 2.1746\n",
      "Epoch: 8 | Train Accuracy: 50.750 | Val Accuracy: 51.754 | Train loss: 1.6752 | Val loss: 1.8365\n",
      "\n",
      "Epoch: 9 | Train Accuracy: 51.250 | Val Accuracy: 46.491 | Train loss: 1.5877 | Val loss: 1.7544\n",
      "\n",
      "Epoch: 10 | Train Accuracy: 51.875 | Val Accuracy: 50.877 | Train loss: 1.5161 | Val loss: 1.6543\n",
      "\n",
      "Epoch: 11 | Train Accuracy: 51.250 | Val Accuracy: 50.000 | Train loss: 1.4544 | Val loss: 1.5942\n",
      "\n",
      "Iteration: 300/2500 | loss = 0.6373\n",
      "Epoch: 12 | Train Accuracy: 53.000 | Val Accuracy: 51.754 | Train loss: 1.4072 | Val loss: 1.5411\n",
      "\n",
      "Epoch: 13 | Train Accuracy: 53.500 | Val Accuracy: 51.754 | Train loss: 1.3692 | Val loss: 1.4999\n",
      "\n",
      "Epoch: 14 | Train Accuracy: 53.000 | Val Accuracy: 53.509 | Train loss: 1.3326 | Val loss: 1.4646\n",
      "\n",
      "Epoch: 15 | Train Accuracy: 54.500 | Val Accuracy: 56.140 | Train loss: 1.3054 | Val loss: 1.4354\n",
      "\n",
      "Iteration: 400/2500 | loss = 1.1111\n",
      "Epoch: 16 | Train Accuracy: 53.750 | Val Accuracy: 58.772 | Train loss: 1.2772 | Val loss: 1.4062\n",
      "\n",
      "Epoch: 17 | Train Accuracy: 54.750 | Val Accuracy: 58.772 | Train loss: 1.2503 | Val loss: 1.3785\n",
      "\n",
      "Epoch: 18 | Train Accuracy: 55.000 | Val Accuracy: 59.649 | Train loss: 1.2245 | Val loss: 1.3591\n",
      "\n",
      "Epoch: 19 | Train Accuracy: 54.000 | Val Accuracy: 57.018 | Train loss: 1.2043 | Val loss: 1.3492\n",
      "\n",
      "Iteration: 500/2500 | loss = 1.0532\n",
      "Epoch: 20 | Train Accuracy: 54.125 | Val Accuracy: 57.018 | Train loss: 1.1823 | Val loss: 1.3334\n",
      "\n",
      "Epoch: 21 | Train Accuracy: 54.250 | Val Accuracy: 61.404 | Train loss: 1.1786 | Val loss: 1.3058\n",
      "\n",
      "Epoch: 22 | Train Accuracy: 55.250 | Val Accuracy: 56.140 | Train loss: 1.1515 | Val loss: 1.2916\n",
      "\n",
      "Epoch: 23 | Train Accuracy: 55.125 | Val Accuracy: 56.140 | Train loss: 1.1435 | Val loss: 1.2952\n",
      "\n",
      "Iteration: 600/2500 | loss = 1.2734\n",
      "Epoch: 24 | Train Accuracy: 56.250 | Val Accuracy: 57.018 | Train loss: 1.1421 | Val loss: 1.2938\n",
      "\n",
      "Epoch: 25 | Train Accuracy: 55.750 | Val Accuracy: 57.018 | Train loss: 1.1206 | Val loss: 1.2581\n",
      "\n",
      "Epoch: 26 | Train Accuracy: 55.000 | Val Accuracy: 57.895 | Train loss: 1.1140 | Val loss: 1.2465\n",
      "\n",
      "Epoch: 27 | Train Accuracy: 54.500 | Val Accuracy: 58.772 | Train loss: 1.1251 | Val loss: 1.2532\n",
      "\n",
      "Iteration: 700/2500 | loss = 1.6004\n",
      "Epoch: 28 | Train Accuracy: 55.500 | Val Accuracy: 56.140 | Train loss: 1.0987 | Val loss: 1.2361\n",
      "\n",
      "Epoch: 29 | Train Accuracy: 56.000 | Val Accuracy: 56.140 | Train loss: 1.0919 | Val loss: 1.2308\n",
      "\n",
      "Epoch: 30 | Train Accuracy: 56.375 | Val Accuracy: 56.140 | Train loss: 1.0830 | Val loss: 1.2273\n",
      "\n",
      "Epoch: 31 | Train Accuracy: 56.750 | Val Accuracy: 57.018 | Train loss: 1.0805 | Val loss: 1.2349\n",
      "\n",
      "Iteration: 800/2500 | loss = 1.2232\n",
      "Epoch: 32 | Train Accuracy: 56.750 | Val Accuracy: 57.018 | Train loss: 1.0760 | Val loss: 1.2162\n",
      "\n",
      "Epoch: 33 | Train Accuracy: 58.250 | Val Accuracy: 56.140 | Train loss: 1.0650 | Val loss: 1.2146\n",
      "\n",
      "Epoch: 34 | Train Accuracy: 57.250 | Val Accuracy: 57.018 | Train loss: 1.0649 | Val loss: 1.2235\n",
      "\n",
      "Epoch: 35 | Train Accuracy: 56.500 | Val Accuracy: 54.386 | Train loss: 1.0581 | Val loss: 1.2049\n",
      "\n",
      "Iteration: 900/2500 | loss = 1.2379\n",
      "Epoch: 36 | Train Accuracy: 56.125 | Val Accuracy: 57.018 | Train loss: 1.0686 | Val loss: 1.2030\n",
      "\n",
      "Epoch: 37 | Train Accuracy: 58.375 | Val Accuracy: 57.895 | Train loss: 1.0492 | Val loss: 1.2064\n",
      "\n",
      "Epoch: 38 | Train Accuracy: 58.500 | Val Accuracy: 57.018 | Train loss: 1.0452 | Val loss: 1.1910\n",
      "\n",
      "Epoch: 39 | Train Accuracy: 56.625 | Val Accuracy: 54.386 | Train loss: 1.0593 | Val loss: 1.2325\n",
      "\n",
      "Iteration: 1000/2500 | loss = 0.9571\n",
      "Epoch: 40 | Train Accuracy: 58.750 | Val Accuracy: 57.018 | Train loss: 1.0379 | Val loss: 1.1874\n",
      "\n",
      "Epoch: 41 | Train Accuracy: 58.000 | Val Accuracy: 56.140 | Train loss: 1.0348 | Val loss: 1.1873\n",
      "\n",
      "Epoch: 42 | Train Accuracy: 58.000 | Val Accuracy: 56.140 | Train loss: 1.0313 | Val loss: 1.1867\n",
      "\n",
      "Epoch: 43 | Train Accuracy: 58.250 | Val Accuracy: 57.895 | Train loss: 1.0280 | Val loss: 1.1893\n",
      "\n",
      "Iteration: 1100/2500 | loss = 0.8595\n",
      "Epoch: 44 | Train Accuracy: 57.875 | Val Accuracy: 54.386 | Train loss: 1.0442 | Val loss: 1.2218\n",
      "\n",
      "Epoch: 45 | Train Accuracy: 58.500 | Val Accuracy: 56.140 | Train loss: 1.0208 | Val loss: 1.1811\n",
      "\n",
      "Epoch: 46 | Train Accuracy: 57.875 | Val Accuracy: 57.895 | Train loss: 1.0217 | Val loss: 1.1789\n",
      "\n",
      "Epoch: 47 | Train Accuracy: 58.125 | Val Accuracy: 57.018 | Train loss: 1.0182 | Val loss: 1.1767\n",
      "\n",
      "Iteration: 1200/2500 | loss = 0.9474\n",
      "Epoch: 48 | Train Accuracy: 59.125 | Val Accuracy: 57.895 | Train loss: 1.0118 | Val loss: 1.1760\n",
      "\n",
      "Epoch: 49 | Train Accuracy: 57.750 | Val Accuracy: 57.018 | Train loss: 1.0149 | Val loss: 1.1766\n",
      "\n",
      "Epoch: 50 | Train Accuracy: 60.000 | Val Accuracy: 58.772 | Train loss: 1.0065 | Val loss: 1.1737\n",
      "\n",
      "Epoch: 51 | Train Accuracy: 58.375 | Val Accuracy: 58.772 | Train loss: 1.0062 | Val loss: 1.1839\n",
      "\n",
      "Iteration: 1300/2500 | loss = 1.0723\n",
      "Epoch: 52 | Train Accuracy: 59.250 | Val Accuracy: 57.895 | Train loss: 1.0046 | Val loss: 1.1692\n",
      "\n",
      "Epoch: 53 | Train Accuracy: 59.625 | Val Accuracy: 57.895 | Train loss: 1.0014 | Val loss: 1.1652\n",
      "\n",
      "Epoch: 54 | Train Accuracy: 58.875 | Val Accuracy: 57.895 | Train loss: 0.9977 | Val loss: 1.1742\n",
      "\n",
      "Epoch: 55 | Train Accuracy: 59.625 | Val Accuracy: 59.649 | Train loss: 0.9953 | Val loss: 1.1708\n",
      "\n",
      "Iteration: 1400/2500 | loss = 1.0973\n",
      "Epoch: 56 | Train Accuracy: 59.750 | Val Accuracy: 59.649 | Train loss: 0.9935 | Val loss: 1.1666\n",
      "\n",
      "Epoch: 57 | Train Accuracy: 59.375 | Val Accuracy: 59.649 | Train loss: 0.9929 | Val loss: 1.1697\n",
      "\n",
      "Epoch: 58 | Train Accuracy: 58.125 | Val Accuracy: 53.509 | Train loss: 1.0058 | Val loss: 1.2048\n",
      "\n",
      "Epoch: 59 | Train Accuracy: 58.875 | Val Accuracy: 58.772 | Train loss: 0.9936 | Val loss: 1.1633\n",
      "\n",
      "Iteration: 1500/2500 | loss = 1.1913\n",
      "Epoch: 60 | Train Accuracy: 59.375 | Val Accuracy: 60.526 | Train loss: 0.9881 | Val loss: 1.1681\n",
      "\n",
      "Epoch: 61 | Train Accuracy: 58.875 | Val Accuracy: 58.772 | Train loss: 0.9862 | Val loss: 1.1606\n",
      "\n",
      "Epoch: 62 | Train Accuracy: 59.000 | Val Accuracy: 58.772 | Train loss: 0.9832 | Val loss: 1.1731\n",
      "\n",
      "Epoch: 63 | Train Accuracy: 59.500 | Val Accuracy: 59.649 | Train loss: 0.9813 | Val loss: 1.1631\n",
      "\n",
      "Iteration: 1600/2500 | loss = 0.9450\n",
      "Epoch: 64 | Train Accuracy: 60.625 | Val Accuracy: 60.526 | Train loss: 0.9776 | Val loss: 1.1591\n",
      "\n",
      "Epoch: 65 | Train Accuracy: 59.500 | Val Accuracy: 57.018 | Train loss: 0.9821 | Val loss: 1.1814\n",
      "\n",
      "Epoch: 66 | Train Accuracy: 60.250 | Val Accuracy: 60.526 | Train loss: 0.9735 | Val loss: 1.1632\n",
      "\n",
      "Epoch: 67 | Train Accuracy: 59.625 | Val Accuracy: 57.895 | Train loss: 0.9769 | Val loss: 1.1746\n",
      "\n",
      "Iteration: 1700/2500 | loss = 1.2910\n",
      "Epoch: 68 | Train Accuracy: 60.250 | Val Accuracy: 60.526 | Train loss: 0.9706 | Val loss: 1.1585\n",
      "\n",
      "Epoch: 69 | Train Accuracy: 60.000 | Val Accuracy: 59.649 | Train loss: 0.9735 | Val loss: 1.1653\n",
      "\n",
      "Epoch: 70 | Train Accuracy: 59.750 | Val Accuracy: 59.649 | Train loss: 0.9705 | Val loss: 1.1555\n",
      "\n",
      "Epoch: 71 | Train Accuracy: 60.250 | Val Accuracy: 59.649 | Train loss: 0.9669 | Val loss: 1.1624\n",
      "\n",
      "Iteration: 1800/2500 | loss = 0.8498\n",
      "Epoch: 72 | Train Accuracy: 59.875 | Val Accuracy: 59.649 | Train loss: 0.9659 | Val loss: 1.1634\n",
      "\n",
      "Epoch: 73 | Train Accuracy: 59.125 | Val Accuracy: 56.140 | Train loss: 0.9758 | Val loss: 1.1543\n",
      "\n",
      "Epoch: 74 | Train Accuracy: 59.625 | Val Accuracy: 57.895 | Train loss: 0.9651 | Val loss: 1.1539\n",
      "\n",
      "Epoch: 75 | Train Accuracy: 59.750 | Val Accuracy: 57.895 | Train loss: 0.9645 | Val loss: 1.1705\n",
      "\n",
      "Iteration: 1900/2500 | loss = 1.1822\n",
      "Epoch: 76 | Train Accuracy: 60.000 | Val Accuracy: 59.649 | Train loss: 0.9599 | Val loss: 1.1543\n",
      "\n",
      "Epoch: 77 | Train Accuracy: 61.000 | Val Accuracy: 59.649 | Train loss: 0.9589 | Val loss: 1.1609\n",
      "\n",
      "Epoch: 78 | Train Accuracy: 60.875 | Val Accuracy: 59.649 | Train loss: 0.9551 | Val loss: 1.1539\n",
      "\n",
      "Epoch: 79 | Train Accuracy: 61.125 | Val Accuracy: 59.649 | Train loss: 0.9554 | Val loss: 1.1595\n",
      "\n",
      "Iteration: 2000/2500 | loss = 1.3601\n",
      "Epoch: 80 | Train Accuracy: 60.500 | Val Accuracy: 59.649 | Train loss: 0.9529 | Val loss: 1.1535\n",
      "\n",
      "Epoch: 81 | Train Accuracy: 59.875 | Val Accuracy: 59.649 | Train loss: 0.9552 | Val loss: 1.1503\n",
      "\n",
      "Epoch: 82 | Train Accuracy: 60.875 | Val Accuracy: 60.526 | Train loss: 0.9502 | Val loss: 1.1488\n",
      "\n",
      "Epoch: 83 | Train Accuracy: 61.000 | Val Accuracy: 60.526 | Train loss: 0.9490 | Val loss: 1.1508\n",
      "\n",
      "Iteration: 2100/2500 | loss = 1.1527\n",
      "Epoch: 84 | Train Accuracy: 60.000 | Val Accuracy: 57.895 | Train loss: 0.9572 | Val loss: 1.1681\n",
      "\n",
      "Epoch: 85 | Train Accuracy: 60.500 | Val Accuracy: 57.895 | Train loss: 0.9498 | Val loss: 1.1466\n",
      "\n",
      "Epoch: 86 | Train Accuracy: 59.875 | Val Accuracy: 57.895 | Train loss: 0.9494 | Val loss: 1.1458\n",
      "\n",
      "Epoch: 87 | Train Accuracy: 59.875 | Val Accuracy: 58.772 | Train loss: 0.9506 | Val loss: 1.1514\n",
      "\n",
      "Iteration: 2200/2500 | loss = 1.0510\n",
      "Epoch: 88 | Train Accuracy: 60.750 | Val Accuracy: 56.140 | Train loss: 0.9500 | Val loss: 1.1683\n",
      "\n",
      "Epoch: 89 | Train Accuracy: 61.375 | Val Accuracy: 58.772 | Train loss: 0.9423 | Val loss: 1.1530\n",
      "\n",
      "Epoch: 90 | Train Accuracy: 61.375 | Val Accuracy: 57.018 | Train loss: 0.9475 | Val loss: 1.1685\n",
      "\n",
      "Epoch: 91 | Train Accuracy: 61.250 | Val Accuracy: 59.649 | Train loss: 0.9397 | Val loss: 1.1508\n",
      "\n",
      "Iteration: 2300/2500 | loss = 1.0758\n",
      "Epoch: 92 | Train Accuracy: 61.250 | Val Accuracy: 56.140 | Train loss: 0.9409 | Val loss: 1.1559\n",
      "\n",
      "Epoch: 93 | Train Accuracy: 61.250 | Val Accuracy: 56.140 | Train loss: 0.9393 | Val loss: 1.1561\n",
      "\n",
      "Epoch: 94 | Train Accuracy: 60.625 | Val Accuracy: 57.895 | Train loss: 0.9433 | Val loss: 1.1624\n",
      "\n",
      "Epoch: 95 | Train Accuracy: 61.625 | Val Accuracy: 60.526 | Train loss: 0.9357 | Val loss: 1.1508\n",
      "\n",
      "Iteration: 2400/2500 | loss = 0.7012\n",
      "Epoch: 96 | Train Accuracy: 60.500 | Val Accuracy: 57.895 | Train loss: 0.9432 | Val loss: 1.1488\n",
      "\n",
      "Epoch: 97 | Train Accuracy: 61.250 | Val Accuracy: 58.772 | Train loss: 0.9353 | Val loss: 1.1534\n",
      "\n",
      "Epoch: 98 | Train Accuracy: 60.375 | Val Accuracy: 60.526 | Train loss: 0.9363 | Val loss: 1.1545\n",
      "\n",
      "Epoch: 99 | Train Accuracy: 60.625 | Val Accuracy: 59.649 | Train loss: 0.9344 | Val loss: 1.1479\n",
      "\n",
      "Iteration: 2500/2500 | loss = 1.2031\n",
      "Epoch: 100 | Train Accuracy: 61.625 | Val Accuracy: 59.649 | Train loss: 0.9321 | Val loss: 1.1427\n",
      "\n",
      "\n",
      "BEST VAL ACCURACY : 61.4035 | epoch: 21 | Val loss: 1.3058\n",
      "Best Parameters have been loaded in the model\n"
     ]
    }
   ],
   "source": [
    "# testing out sweep using a single config\n",
    "config = {\n",
    "    \"method\": \"grid\",\n",
    "    \"name\": \"sgd-grid-search\",\n",
    "    \"parameters\": {\n",
    "        \"criterion\": \"adam\",\n",
    "        \"model\": {\n",
    "            \"input_dim\" : 11,\n",
    "            \"activation\": \"relu\",\n",
    "            \"hidden_dims1\": 8,\n",
    "            \"num_classes\": 6,\n",
    "        },\n",
    "        \"optimizer\": {\n",
    "            \"update_rule\" : \"sgd\",\n",
    "            \"learning_rate\": 1e-2,\n",
    "        },\n",
    "        \"training\": {\n",
    "            \"update_type\": \"minibatch\",\n",
    "            \"batch_size\": 32,\n",
    "            \"epochs\": 100,\n",
    "            \"print_every\": 100,\n",
    "            # \"log_wandb\": True,\n",
    "            \"verbose\": True\n",
    "        }\n",
    "    }\n",
    "}\n",
    "\n",
    "best_model = trigger_training(config[\"parameters\"], X_train, y_train, X_val, y_val)"
   ]
  },
  {
   "cell_type": "code",
   "execution_count": 16,
   "metadata": {},
   "outputs": [
    {
     "data": {
      "text/html": [
       "Tracking run with wandb version 0.15.12"
      ],
      "text/plain": [
       "<IPython.core.display.HTML object>"
      ]
     },
     "metadata": {},
     "output_type": "display_data"
    },
    {
     "data": {
      "text/html": [
       "Run data is saved locally in <code>/home/richard/play/IIITH/sem5/smai/assignments/assignment-3-fine-man/wandb/run-20231013_115713-936iud3o</code>"
      ],
      "text/plain": [
       "<IPython.core.display.HTML object>"
      ]
     },
     "metadata": {},
     "output_type": "display_data"
    },
    {
     "data": {
      "text/html": [
       "Syncing run <strong><a href='https://wandb.ai/vanshg/smai-assignment3-task2/runs/936iud3o' target=\"_blank\">chocolate-frost-10</a></strong> to <a href='https://wandb.ai/vanshg/smai-assignment3-task2' target=\"_blank\">Weights & Biases</a> (<a href='https://wandb.me/run' target=\"_blank\">docs</a>)<br/>"
      ],
      "text/plain": [
       "<IPython.core.display.HTML object>"
      ]
     },
     "metadata": {},
     "output_type": "display_data"
    },
    {
     "data": {
      "text/html": [
       " View project at <a href='https://wandb.ai/vanshg/smai-assignment3-task2' target=\"_blank\">https://wandb.ai/vanshg/smai-assignment3-task2</a>"
      ],
      "text/plain": [
       "<IPython.core.display.HTML object>"
      ]
     },
     "metadata": {},
     "output_type": "display_data"
    },
    {
     "data": {
      "text/html": [
       " View run at <a href='https://wandb.ai/vanshg/smai-assignment3-task2/runs/936iud3o' target=\"_blank\">https://wandb.ai/vanshg/smai-assignment3-task2/runs/936iud3o</a>"
      ],
      "text/plain": [
       "<IPython.core.display.HTML object>"
      ]
     },
     "metadata": {},
     "output_type": "display_data"
    },
    {
     "name": "stdout",
     "output_type": "stream",
     "text": [
      "Epoch: 1 | Train Accuracy: 21.250 | Val Accuracy: 19.298 | Train loss: 2.5582 | Val loss: 3.0968\n",
      "\n",
      "Epoch: 2 | Train Accuracy: 27.875 | Val Accuracy: 25.439 | Train loss: 1.8777 | Val loss: 2.3546\n",
      "\n",
      "Epoch: 3 | Train Accuracy: 37.375 | Val Accuracy: 33.333 | Train loss: 1.5456 | Val loss: 2.0332\n",
      "\n",
      "Iteration: 100/2500 | loss = 1.3907\n",
      "Epoch: 4 | Train Accuracy: 42.000 | Val Accuracy: 38.596 | Train loss: 1.4069 | Val loss: 1.8392\n",
      "\n",
      "Epoch: 5 | Train Accuracy: 34.500 | Val Accuracy: 34.211 | Train loss: 1.4358 | Val loss: 1.8244\n",
      "\n",
      "Epoch: 6 | Train Accuracy: 34.250 | Val Accuracy: 34.211 | Train loss: 1.5331 | Val loss: 1.9131\n",
      "\n",
      "Epoch: 7 | Train Accuracy: 50.375 | Val Accuracy: 45.614 | Train loss: 1.6374 | Val loss: 2.0740\n",
      "\n",
      "Iteration: 200/2500 | loss = 1.6440\n",
      "Epoch: 8 | Train Accuracy: 50.875 | Val Accuracy: 44.737 | Train loss: 1.2495 | Val loss: 1.6202\n",
      "\n",
      "Epoch: 9 | Train Accuracy: 48.625 | Val Accuracy: 42.105 | Train loss: 1.2401 | Val loss: 1.6219\n",
      "\n",
      "Epoch: 10 | Train Accuracy: 46.875 | Val Accuracy: 41.228 | Train loss: 1.2323 | Val loss: 1.6011\n",
      "\n",
      "Epoch: 11 | Train Accuracy: 46.375 | Val Accuracy: 39.474 | Train loss: 1.2442 | Val loss: 1.6115\n",
      "\n",
      "Iteration: 300/2500 | loss = 1.1927\n",
      "Epoch: 12 | Train Accuracy: 52.125 | Val Accuracy: 51.754 | Train loss: 1.2550 | Val loss: 1.6228\n",
      "\n",
      "Epoch: 13 | Train Accuracy: 51.375 | Val Accuracy: 49.123 | Train loss: 1.3589 | Val loss: 1.7405\n",
      "\n",
      "Epoch: 14 | Train Accuracy: 52.375 | Val Accuracy: 50.000 | Train loss: 1.3582 | Val loss: 1.7440\n",
      "\n",
      "Epoch: 15 | Train Accuracy: 53.250 | Val Accuracy: 46.491 | Train loss: 1.1774 | Val loss: 1.5627\n",
      "\n",
      "Iteration: 400/2500 | loss = 1.0683\n",
      "Epoch: 16 | Train Accuracy: 53.500 | Val Accuracy: 50.877 | Train loss: 1.2030 | Val loss: 1.5648\n",
      "\n",
      "Epoch: 17 | Train Accuracy: 53.375 | Val Accuracy: 50.000 | Train loss: 1.1590 | Val loss: 1.5256\n",
      "\n",
      "Epoch: 18 | Train Accuracy: 54.000 | Val Accuracy: 48.246 | Train loss: 1.2626 | Val loss: 1.6107\n",
      "\n",
      "Epoch: 19 | Train Accuracy: 46.625 | Val Accuracy: 41.228 | Train loss: 1.1900 | Val loss: 1.5599\n",
      "\n",
      "Iteration: 500/2500 | loss = 1.3559\n",
      "Epoch: 20 | Train Accuracy: 46.875 | Val Accuracy: 41.228 | Train loss: 1.1876 | Val loss: 1.5621\n",
      "\n",
      "Epoch: 21 | Train Accuracy: 51.000 | Val Accuracy: 42.982 | Train loss: 1.1356 | Val loss: 1.4854\n",
      "\n",
      "Epoch: 22 | Train Accuracy: 54.125 | Val Accuracy: 51.754 | Train loss: 1.1437 | Val loss: 1.4912\n",
      "\n",
      "Epoch: 23 | Train Accuracy: 53.750 | Val Accuracy: 50.877 | Train loss: 1.1050 | Val loss: 1.4585\n",
      "\n",
      "Iteration: 600/2500 | loss = 1.2441\n",
      "Epoch: 24 | Train Accuracy: 53.500 | Val Accuracy: 42.982 | Train loss: 1.1150 | Val loss: 1.4731\n",
      "\n",
      "Epoch: 25 | Train Accuracy: 54.750 | Val Accuracy: 52.632 | Train loss: 1.1438 | Val loss: 1.4835\n",
      "\n",
      "Epoch: 26 | Train Accuracy: 53.875 | Val Accuracy: 50.877 | Train loss: 1.0998 | Val loss: 1.4719\n",
      "\n",
      "Epoch: 27 | Train Accuracy: 54.250 | Val Accuracy: 47.368 | Train loss: 1.0851 | Val loss: 1.4239\n",
      "\n",
      "Iteration: 700/2500 | loss = 0.9516\n",
      "Epoch: 28 | Train Accuracy: 54.500 | Val Accuracy: 51.754 | Train loss: 1.0824 | Val loss: 1.4183\n",
      "\n",
      "Epoch: 29 | Train Accuracy: 55.875 | Val Accuracy: 53.509 | Train loss: 1.0887 | Val loss: 1.4210\n",
      "\n",
      "Epoch: 30 | Train Accuracy: 55.125 | Val Accuracy: 50.000 | Train loss: 1.0676 | Val loss: 1.4167\n",
      "\n",
      "Epoch: 31 | Train Accuracy: 55.125 | Val Accuracy: 50.877 | Train loss: 1.0654 | Val loss: 1.4054\n",
      "\n",
      "Iteration: 800/2500 | loss = 1.0536\n",
      "Epoch: 32 | Train Accuracy: 55.875 | Val Accuracy: 51.754 | Train loss: 1.0770 | Val loss: 1.4176\n",
      "\n",
      "Epoch: 33 | Train Accuracy: 52.375 | Val Accuracy: 42.105 | Train loss: 1.0889 | Val loss: 1.4269\n",
      "\n",
      "Epoch: 34 | Train Accuracy: 53.875 | Val Accuracy: 44.737 | Train loss: 1.0759 | Val loss: 1.4246\n",
      "\n",
      "Epoch: 35 | Train Accuracy: 54.875 | Val Accuracy: 46.491 | Train loss: 1.0603 | Val loss: 1.4003\n",
      "\n",
      "Iteration: 900/2500 | loss = 1.2823\n",
      "Epoch: 36 | Train Accuracy: 56.625 | Val Accuracy: 54.386 | Train loss: 1.0523 | Val loss: 1.4317\n",
      "\n",
      "Epoch: 37 | Train Accuracy: 55.000 | Val Accuracy: 46.491 | Train loss: 1.0519 | Val loss: 1.4342\n",
      "\n",
      "Epoch: 38 | Train Accuracy: 57.750 | Val Accuracy: 54.386 | Train loss: 1.0514 | Val loss: 1.4447\n",
      "\n",
      "Epoch: 39 | Train Accuracy: 57.000 | Val Accuracy: 54.386 | Train loss: 1.0421 | Val loss: 1.4198\n",
      "\n",
      "Iteration: 1000/2500 | loss = 1.1686\n",
      "Epoch: 40 | Train Accuracy: 57.000 | Val Accuracy: 53.509 | Train loss: 1.0896 | Val loss: 1.4663\n",
      "\n",
      "Epoch: 41 | Train Accuracy: 56.375 | Val Accuracy: 54.386 | Train loss: 1.0340 | Val loss: 1.4105\n",
      "\n",
      "Epoch: 42 | Train Accuracy: 57.875 | Val Accuracy: 55.263 | Train loss: 1.0599 | Val loss: 1.4295\n",
      "\n",
      "Epoch: 43 | Train Accuracy: 56.875 | Val Accuracy: 53.509 | Train loss: 1.0286 | Val loss: 1.3987\n",
      "\n",
      "Iteration: 1100/2500 | loss = 1.2547\n",
      "Epoch: 44 | Train Accuracy: 56.750 | Val Accuracy: 54.386 | Train loss: 1.0267 | Val loss: 1.4061\n",
      "\n",
      "Epoch: 45 | Train Accuracy: 58.375 | Val Accuracy: 54.386 | Train loss: 1.0263 | Val loss: 1.3840\n",
      "\n",
      "Epoch: 46 | Train Accuracy: 58.375 | Val Accuracy: 56.140 | Train loss: 1.0256 | Val loss: 1.3781\n",
      "\n",
      "Epoch: 47 | Train Accuracy: 58.250 | Val Accuracy: 56.140 | Train loss: 1.0509 | Val loss: 1.4027\n",
      "\n",
      "Iteration: 1200/2500 | loss = 0.9400\n",
      "Epoch: 48 | Train Accuracy: 58.375 | Val Accuracy: 55.263 | Train loss: 1.0173 | Val loss: 1.3968\n",
      "\n",
      "Epoch: 49 | Train Accuracy: 55.500 | Val Accuracy: 50.000 | Train loss: 1.0282 | Val loss: 1.4054\n",
      "\n",
      "Epoch: 50 | Train Accuracy: 58.750 | Val Accuracy: 57.018 | Train loss: 1.0440 | Val loss: 1.4145\n",
      "\n",
      "Epoch: 51 | Train Accuracy: 58.000 | Val Accuracy: 56.140 | Train loss: 1.0394 | Val loss: 1.4104\n",
      "\n",
      "Iteration: 1300/2500 | loss = 0.9056\n",
      "Epoch: 52 | Train Accuracy: 59.500 | Val Accuracy: 55.263 | Train loss: 1.0161 | Val loss: 1.3892\n",
      "\n",
      "Epoch: 53 | Train Accuracy: 56.875 | Val Accuracy: 50.877 | Train loss: 1.0143 | Val loss: 1.3984\n",
      "\n",
      "Epoch: 54 | Train Accuracy: 58.625 | Val Accuracy: 55.263 | Train loss: 1.0051 | Val loss: 1.3810\n",
      "\n",
      "Epoch: 55 | Train Accuracy: 58.875 | Val Accuracy: 55.263 | Train loss: 1.0213 | Val loss: 1.4016\n",
      "\n",
      "Iteration: 1400/2500 | loss = 0.9198\n",
      "Epoch: 56 | Train Accuracy: 59.000 | Val Accuracy: 55.263 | Train loss: 1.0059 | Val loss: 1.3871\n",
      "\n",
      "Epoch: 57 | Train Accuracy: 59.000 | Val Accuracy: 55.263 | Train loss: 1.0029 | Val loss: 1.3897\n",
      "\n",
      "Epoch: 58 | Train Accuracy: 58.875 | Val Accuracy: 55.263 | Train loss: 1.0150 | Val loss: 1.4020\n",
      "\n",
      "Epoch: 59 | Train Accuracy: 59.250 | Val Accuracy: 55.263 | Train loss: 1.0003 | Val loss: 1.3909\n",
      "\n",
      "Iteration: 1500/2500 | loss = 1.3655\n",
      "Epoch: 60 | Train Accuracy: 56.500 | Val Accuracy: 50.877 | Train loss: 1.0112 | Val loss: 1.4111\n",
      "\n",
      "Epoch: 61 | Train Accuracy: 59.375 | Val Accuracy: 54.386 | Train loss: 0.9963 | Val loss: 1.3885\n",
      "\n",
      "Epoch: 62 | Train Accuracy: 56.000 | Val Accuracy: 48.246 | Train loss: 1.0200 | Val loss: 1.4337\n",
      "\n",
      "Epoch: 63 | Train Accuracy: 59.625 | Val Accuracy: 55.263 | Train loss: 0.9955 | Val loss: 1.3894\n",
      "\n",
      "Iteration: 1600/2500 | loss = 1.0760\n",
      "Epoch: 64 | Train Accuracy: 59.125 | Val Accuracy: 55.263 | Train loss: 0.9968 | Val loss: 1.3980\n",
      "\n",
      "Epoch: 65 | Train Accuracy: 60.000 | Val Accuracy: 55.263 | Train loss: 0.9907 | Val loss: 1.3912\n",
      "\n",
      "Epoch: 66 | Train Accuracy: 59.875 | Val Accuracy: 55.263 | Train loss: 0.9898 | Val loss: 1.3910\n",
      "\n",
      "Epoch: 67 | Train Accuracy: 59.750 | Val Accuracy: 54.386 | Train loss: 0.9866 | Val loss: 1.3867\n",
      "\n",
      "Iteration: 1700/2500 | loss = 1.3715\n",
      "Epoch: 68 | Train Accuracy: 58.500 | Val Accuracy: 55.263 | Train loss: 0.9878 | Val loss: 1.3947\n",
      "\n",
      "Epoch: 69 | Train Accuracy: 59.625 | Val Accuracy: 55.263 | Train loss: 0.9822 | Val loss: 1.3870\n",
      "\n",
      "Epoch: 70 | Train Accuracy: 57.375 | Val Accuracy: 48.246 | Train loss: 0.9996 | Val loss: 1.3933\n",
      "\n",
      "Epoch: 71 | Train Accuracy: 60.625 | Val Accuracy: 56.140 | Train loss: 0.9868 | Val loss: 1.3863\n",
      "\n",
      "Iteration: 1800/2500 | loss = 0.9510\n",
      "Epoch: 72 | Train Accuracy: 60.625 | Val Accuracy: 55.263 | Train loss: 0.9874 | Val loss: 1.4047\n",
      "\n",
      "Epoch: 73 | Train Accuracy: 60.000 | Val Accuracy: 55.263 | Train loss: 0.9758 | Val loss: 1.4030\n",
      "\n",
      "Epoch: 74 | Train Accuracy: 60.250 | Val Accuracy: 54.386 | Train loss: 0.9782 | Val loss: 1.3663\n",
      "\n",
      "Epoch: 75 | Train Accuracy: 59.500 | Val Accuracy: 54.386 | Train loss: 0.9698 | Val loss: 1.3808\n",
      "\n",
      "Iteration: 1900/2500 | loss = 1.0808\n",
      "Epoch: 76 | Train Accuracy: 60.625 | Val Accuracy: 54.386 | Train loss: 0.9739 | Val loss: 1.3898\n",
      "\n",
      "Epoch: 77 | Train Accuracy: 56.750 | Val Accuracy: 47.368 | Train loss: 0.9975 | Val loss: 1.4077\n",
      "\n",
      "Epoch: 78 | Train Accuracy: 60.875 | Val Accuracy: 55.263 | Train loss: 0.9664 | Val loss: 1.3932\n",
      "\n",
      "Epoch: 79 | Train Accuracy: 60.875 | Val Accuracy: 56.140 | Train loss: 0.9648 | Val loss: 1.3902\n",
      "\n",
      "Iteration: 2000/2500 | loss = 0.9498\n",
      "Epoch: 80 | Train Accuracy: 60.500 | Val Accuracy: 53.509 | Train loss: 0.9662 | Val loss: 1.3888\n",
      "\n",
      "Epoch: 81 | Train Accuracy: 59.375 | Val Accuracy: 51.754 | Train loss: 0.9719 | Val loss: 1.3952\n",
      "\n",
      "Epoch: 82 | Train Accuracy: 59.625 | Val Accuracy: 54.386 | Train loss: 0.9687 | Val loss: 1.4025\n",
      "\n",
      "Epoch: 83 | Train Accuracy: 61.250 | Val Accuracy: 56.140 | Train loss: 0.9696 | Val loss: 1.3852\n",
      "\n",
      "Iteration: 2100/2500 | loss = 0.6667\n",
      "Epoch: 84 | Train Accuracy: 60.625 | Val Accuracy: 55.263 | Train loss: 0.9599 | Val loss: 1.3939\n",
      "\n",
      "Epoch: 85 | Train Accuracy: 61.500 | Val Accuracy: 57.018 | Train loss: 0.9695 | Val loss: 1.4139\n",
      "\n",
      "Epoch: 86 | Train Accuracy: 61.250 | Val Accuracy: 56.140 | Train loss: 0.9556 | Val loss: 1.3897\n",
      "\n",
      "Epoch: 87 | Train Accuracy: 62.250 | Val Accuracy: 54.386 | Train loss: 0.9562 | Val loss: 1.3896\n",
      "\n",
      "Iteration: 2200/2500 | loss = 0.9310\n",
      "Epoch: 88 | Train Accuracy: 61.625 | Val Accuracy: 55.263 | Train loss: 0.9543 | Val loss: 1.3861\n",
      "\n",
      "Epoch: 89 | Train Accuracy: 62.625 | Val Accuracy: 55.263 | Train loss: 0.9558 | Val loss: 1.3929\n",
      "\n",
      "Epoch: 90 | Train Accuracy: 60.250 | Val Accuracy: 54.386 | Train loss: 0.9752 | Val loss: 1.4222\n",
      "\n",
      "Epoch: 91 | Train Accuracy: 61.250 | Val Accuracy: 57.018 | Train loss: 0.9668 | Val loss: 1.4163\n",
      "\n",
      "Iteration: 2300/2500 | loss = 1.0227\n",
      "Epoch: 92 | Train Accuracy: 60.875 | Val Accuracy: 55.263 | Train loss: 0.9471 | Val loss: 1.3909\n",
      "\n",
      "Epoch: 93 | Train Accuracy: 63.250 | Val Accuracy: 54.386 | Train loss: 0.9469 | Val loss: 1.4013\n",
      "\n",
      "Epoch: 94 | Train Accuracy: 61.375 | Val Accuracy: 55.263 | Train loss: 0.9512 | Val loss: 1.4031\n",
      "\n",
      "Epoch: 95 | Train Accuracy: 62.250 | Val Accuracy: 56.140 | Train loss: 0.9458 | Val loss: 1.4189\n",
      "\n",
      "Iteration: 2400/2500 | loss = 1.1176\n",
      "Epoch: 96 | Train Accuracy: 61.875 | Val Accuracy: 55.263 | Train loss: 0.9461 | Val loss: 1.3949\n",
      "\n",
      "Epoch: 97 | Train Accuracy: 61.500 | Val Accuracy: 56.140 | Train loss: 0.9603 | Val loss: 1.4463\n",
      "\n",
      "Epoch: 98 | Train Accuracy: 61.375 | Val Accuracy: 55.263 | Train loss: 0.9461 | Val loss: 1.3937\n",
      "\n",
      "Epoch: 99 | Train Accuracy: 60.875 | Val Accuracy: 54.386 | Train loss: 0.9475 | Val loss: 1.4115\n",
      "\n",
      "Iteration: 2500/2500 | loss = 0.9708\n",
      "Epoch: 100 | Train Accuracy: 63.000 | Val Accuracy: 55.263 | Train loss: 0.9406 | Val loss: 1.4190\n",
      "\n",
      "\n",
      "BEST VAL ACCURACY : 57.0175 | epoch: 50 | Val loss: 1.4145\n",
      "Best Parameters have been loaded in the model\n"
     ]
    },
    {
     "data": {
      "text/html": [
       "Waiting for W&B process to finish... <strong style=\"color:green\">(success).</strong>"
      ],
      "text/plain": [
       "<IPython.core.display.HTML object>"
      ]
     },
     "metadata": {},
     "output_type": "display_data"
    },
    {
     "name": "stderr",
     "output_type": "stream",
     "text": [
      "wandb: WARNING Source type is set to 'repo' but some required information is missing from the environment. A job will not be created from this run. See https://docs.wandb.ai/guides/launch/create-job\n"
     ]
    },
    {
     "data": {
      "text/html": [
       "<style>\n",
       "    table.wandb td:nth-child(1) { padding: 0 10px; text-align: left ; width: auto;} td:nth-child(2) {text-align: left ; width: 100%}\n",
       "    .wandb-row { display: flex; flex-direction: row; flex-wrap: wrap; justify-content: flex-start; width: 100% }\n",
       "    .wandb-col { display: flex; flex-direction: column; flex-basis: 100%; flex: 1; padding: 10px; }\n",
       "    </style>\n",
       "<div class=\"wandb-row\"><div class=\"wandb-col\"><h3>Run history:</h3><br/><table class=\"wandb\"><tr><td>epoch</td><td>▁▁▁▁▂▂▂▂▂▃▃▃▃▃▃▄▄▄▄▄▅▅▅▅▅▅▆▆▆▆▆▇▇▇▇▇▇███</td></tr><tr><td>train_acc</td><td>▁▄▃▆▅▆▆▆▆▆▆▇▇▆▇▇▇▇▇▇▇▇▇▇▇▇▇▇██▇█▇███████</td></tr><tr><td>train_loss</td><td>█▄▄▂▂▃▂▂▂▂▂▂▂▂▁▁▁▁▁▁▁▁▁▁▁▁▁▁▁▁▁▁▁▁▁▁▁▁▁▁</td></tr><tr><td>val_acc</td><td>▁▄▄▆▅▇▇▇▅▇▇▇▇▆█████▇██████████▆█████████</td></tr><tr><td>val_loss</td><td>█▄▃▂▂▃▂▂▁▁▁▁▁▁▁▁▁▁▁▁▁▁▁▁▁▁▁▁▁▁▁▁▁▁▁▁▁▁▁▁</td></tr></table><br/></div><div class=\"wandb-col\"><h3>Run summary:</h3><br/><table class=\"wandb\"><tr><td>epoch</td><td>100</td></tr><tr><td>train_acc</td><td>0.63</td></tr><tr><td>train_loss</td><td>0.94063</td></tr><tr><td>val_acc</td><td>0.55263</td></tr><tr><td>val_loss</td><td>1.41898</td></tr></table><br/></div></div>"
      ],
      "text/plain": [
       "<IPython.core.display.HTML object>"
      ]
     },
     "metadata": {},
     "output_type": "display_data"
    },
    {
     "data": {
      "text/html": [
       " View run <strong style=\"color:#cdcd00\">chocolate-frost-10</strong> at: <a href='https://wandb.ai/vanshg/smai-assignment3-task2/runs/936iud3o' target=\"_blank\">https://wandb.ai/vanshg/smai-assignment3-task2/runs/936iud3o</a><br/>Synced 6 W&B file(s), 0 media file(s), 0 artifact file(s) and 0 other file(s)"
      ],
      "text/plain": [
       "<IPython.core.display.HTML object>"
      ]
     },
     "metadata": {},
     "output_type": "display_data"
    },
    {
     "data": {
      "text/html": [
       "Find logs at: <code>./wandb/run-20231013_115713-936iud3o/logs</code>"
      ],
      "text/plain": [
       "<IPython.core.display.HTML object>"
      ]
     },
     "metadata": {},
     "output_type": "display_data"
    }
   ],
   "source": [
    "wandb.init(\n",
    "    project=\"smai-assignment3-task2\",\n",
    "    config=config\n",
    ")\n",
    "\n",
    "wandb.run.name = \"testing\"\n",
    "trigger_training(config[\"parameters\"])\n",
    "wandb.finish()"
   ]
  },
  {
   "cell_type": "code",
   "execution_count": 29,
   "metadata": {},
   "outputs": [
    {
     "name": "stdout",
     "output_type": "stream",
     "text": [
      "Iteration: 1/80 | loss = 27.7780\n",
      "Iteration: 2/80 | loss = 29.4186\n",
      "Iteration: 3/80 | loss = 26.1625\n",
      "Iteration: 4/80 | loss = 17.3935\n",
      "Iteration: 5/80 | loss = 17.0890\n",
      "Iteration: 6/80 | loss = 18.3250\n",
      "Iteration: 7/80 | loss = 13.9286\n",
      "Iteration: 8/80 | loss = 10.9384\n",
      "Epoch: 1 | Train Accuracy: 37.125 | Val Accuracy: 35.965 | Train loss: 10.8477 | Val loss: 9.5482\n",
      "\n",
      "Iteration: 9/80 | loss = 9.9217\n",
      "Iteration: 10/80 | loss = 12.1679\n",
      "Iteration: 11/80 | loss = 10.2497\n",
      "Iteration: 12/80 | loss = 8.0382\n",
      "Iteration: 13/80 | loss = 6.7345\n",
      "Iteration: 14/80 | loss = 7.6644\n",
      "Iteration: 15/80 | loss = 8.3755\n",
      "Iteration: 16/80 | loss = 8.9932\n",
      "Epoch: 2 | Train Accuracy: 48.125 | Val Accuracy: 56.140 | Train loss: 7.7569 | Val loss: 6.5811\n",
      "\n",
      "Iteration: 17/80 | loss = 7.4656\n",
      "Iteration: 18/80 | loss = 8.9643\n",
      "Iteration: 19/80 | loss = 8.3291\n",
      "Iteration: 20/80 | loss = 6.6001\n",
      "Iteration: 21/80 | loss = 5.7609\n",
      "Iteration: 22/80 | loss = 5.4624\n",
      "Iteration: 23/80 | loss = 5.7367\n",
      "Iteration: 24/80 | loss = 6.0742\n",
      "Epoch: 3 | Train Accuracy: 54.500 | Val Accuracy: 57.018 | Train loss: 5.3792 | Val loss: 5.2683\n",
      "\n",
      "Iteration: 25/80 | loss = 5.4027\n",
      "Iteration: 26/80 | loss = 4.6276\n",
      "Iteration: 27/80 | loss = 5.0656\n",
      "Iteration: 28/80 | loss = 6.1265\n",
      "Iteration: 29/80 | loss = 4.5319\n",
      "Iteration: 30/80 | loss = 4.9120\n",
      "Iteration: 31/80 | loss = 5.2268\n",
      "Iteration: 32/80 | loss = 5.3150\n",
      "Epoch: 4 | Train Accuracy: 52.250 | Val Accuracy: 57.895 | Train loss: 4.5001 | Val loss: 5.1503\n",
      "\n",
      "Iteration: 33/80 | loss = 3.8282\n",
      "Iteration: 34/80 | loss = 4.9051\n",
      "Iteration: 35/80 | loss = 4.2932\n",
      "Iteration: 36/80 | loss = 3.8905\n",
      "Iteration: 37/80 | loss = 4.1812\n",
      "Iteration: 38/80 | loss = 3.8950\n",
      "Iteration: 39/80 | loss = 4.4099\n",
      "Iteration: 40/80 | loss = 2.9885\n",
      "Epoch: 5 | Train Accuracy: 50.500 | Val Accuracy: 55.263 | Train loss: 3.6297 | Val loss: 4.5015\n",
      "\n",
      "Iteration: 41/80 | loss = 3.6438\n",
      "Iteration: 42/80 | loss = 3.4631\n",
      "Iteration: 43/80 | loss = 5.2997\n",
      "Iteration: 44/80 | loss = 3.0286\n",
      "Iteration: 45/80 | loss = 2.8835\n",
      "Iteration: 46/80 | loss = 2.1531\n",
      "Iteration: 47/80 | loss = 3.6199\n",
      "Iteration: 48/80 | loss = 3.0540\n",
      "Epoch: 6 | Train Accuracy: 53.000 | Val Accuracy: 56.140 | Train loss: 3.0071 | Val loss: 4.0119\n",
      "\n",
      "Iteration: 49/80 | loss = 3.4431\n",
      "Iteration: 50/80 | loss = 2.8909\n",
      "Iteration: 51/80 | loss = 2.1045\n",
      "Iteration: 52/80 | loss = 3.3383\n",
      "Iteration: 53/80 | loss = 2.9059\n",
      "Iteration: 54/80 | loss = 2.4794\n",
      "Iteration: 55/80 | loss = 2.7627\n",
      "Iteration: 56/80 | loss = 3.4786\n",
      "Epoch: 7 | Train Accuracy: 54.875 | Val Accuracy: 62.281 | Train loss: 2.6370 | Val loss: 3.8207\n",
      "\n",
      "Iteration: 57/80 | loss = 2.0484\n",
      "Iteration: 58/80 | loss = 2.0729\n",
      "Iteration: 59/80 | loss = 2.3488\n",
      "Iteration: 60/80 | loss = 3.2280\n",
      "Iteration: 61/80 | loss = 2.7431\n",
      "Iteration: 62/80 | loss = 2.3160\n",
      "Iteration: 63/80 | loss = 2.7319\n",
      "Iteration: 64/80 | loss = 2.9343\n",
      "Epoch: 8 | Train Accuracy: 55.125 | Val Accuracy: 60.526 | Train loss: 2.3404 | Val loss: 3.6472\n",
      "\n",
      "Iteration: 65/80 | loss = 3.0635\n",
      "Iteration: 66/80 | loss = 2.3365\n",
      "Iteration: 67/80 | loss = 2.3950\n",
      "Iteration: 68/80 | loss = 2.5744\n",
      "Iteration: 69/80 | loss = 1.3903\n",
      "Iteration: 70/80 | loss = 2.5453\n",
      "Iteration: 71/80 | loss = 2.2426\n",
      "Iteration: 72/80 | loss = 2.0412\n",
      "Epoch: 9 | Train Accuracy: 56.875 | Val Accuracy: 59.649 | Train loss: 2.0960 | Val loss: 3.3903\n",
      "\n",
      "Iteration: 73/80 | loss = 2.3909\n",
      "Iteration: 74/80 | loss = 2.3951\n",
      "Iteration: 75/80 | loss = 2.3866\n",
      "Iteration: 76/80 | loss = 1.7839\n",
      "Iteration: 77/80 | loss = 1.7536\n",
      "Iteration: 78/80 | loss = 1.4971\n",
      "Iteration: 79/80 | loss = 2.2973\n",
      "Iteration: 80/80 | loss = 2.1950\n",
      "Epoch: 10 | Train Accuracy: 57.750 | Val Accuracy: 58.772 | Train loss: 1.9184 | Val loss: 3.4082\n",
      "\n",
      "\n",
      "BEST VAL ACCURACY : 62.2807 | epoch: 7 | Val loss: 3.8207\n",
      "Best Parameters have been loaded in the model\n",
      "Hurray\n"
     ]
    }
   ],
   "source": [
    "np.random.seed(42)\n",
    "model = FullyConnectedNet(X_train.shape[-1], [100], 6, activation='relu')\n",
    "criterion = softmax_loss\n",
    "optimizer = Optimizer(model, update_rule='adam', optim_config={\"learning_rate\": 1e-2})\n",
    "train(\n",
    "    model, criterion, optimizer, X_train, y_train, X_val, y_val, \n",
    "    num_epochs=1, print_every=1)\n",
    "\n",
    "print(\"Hurray\")"
   ]
  },
  {
   "cell_type": "markdown",
   "metadata": {},
   "source": [
    "## Wandb Sweep"
   ]
  },
  {
   "cell_type": "code",
   "execution_count": 13,
   "metadata": {},
   "outputs": [],
   "source": [
    "def make_wandb_run_name(config):\n",
    "    model_config = config[\"model\"]\n",
    "    optim_config = config[\"optimizer\"]\n",
    "    train_config = config[\"training\"]\n",
    "\n",
    "    num_layers = model_config.get(\"num_layers\", 1)\n",
    "    \n",
    "    hidden_dims = []\n",
    "    for i in range(1, num_layers + 1):\n",
    "        dim = model_config[f\"hidden_dims{i}\"]\n",
    "        hidden_dims.append(str(dim))\n",
    "    \n",
    "    h = \"-\".join(hidden_dims)\n",
    "\n",
    "    activ = model_config[\"activation\"]\n",
    "    lr = optim_config[\"learning_rate\"]\n",
    "    update_rule = optim_config[\"update_rule\"]\n",
    "    update_type = train_config[\"update_type\"]\n",
    "    batch = train_config[\"batch_size\"]\n",
    "\n",
    "    run_name = f\"H{h}-{activ}-lr{lr}-{update_type}-{update_rule}-batch{batch}\"\n",
    "    return run_name\n",
    "\n",
    "def re_nest_config(config_dict):\n",
    "    nested_config = copy.deepcopy(config_dict)\n",
    "    flattened_params = [key for key in config_dict.keys() if '.' in key]\n",
    "    for param in flattened_params:\n",
    "        value = nested_config.pop(param)\n",
    "        param_levels = param.split('.')\n",
    "        parent = nested_config\n",
    "        for i, level in enumerate(param_levels):\n",
    "            if not isinstance(parent, dict):\n",
    "                break\n",
    "            if i + 1 == len(param_levels):\n",
    "                parent[level] = value\n",
    "            \n",
    "            if level not in parent.keys():\n",
    "                parent[level] = {}\n",
    "            \n",
    "            parent = parent[level]\n",
    "\n",
    "    return nested_config\n",
    "\n",
    "def sweep_agent_manager():\n",
    "    run = wandb.init()\n",
    "    config = re_nest_config(dict(wandb.config))\n",
    "    # setting the wandb run name for the current config\n",
    "    run_name = make_wandb_run_name(config)\n",
    "    print(f\"Run Name: {run_name}\")\n",
    "    run.name = run_name\n",
    "    # start the training\n",
    "    trigger_training(config)"
   ]
  },
  {
   "cell_type": "code",
   "execution_count": 52,
   "metadata": {},
   "outputs": [],
   "source": [
    "sweep_configuration = {\n",
    "    \"method\": \"grid\",\n",
    "    \"name\": \"single-layer-sgd-grid-search\",\n",
    "    \"parameters\": {\n",
    "        \"criterion\": {\"value\": \"softmax\"},\n",
    "        \"model\": {\n",
    "            \"parameters\": {\n",
    "                \"input_dim\" : {\"value\": 11},\n",
    "                \"activation\": {\n",
    "                    \"values\": [\"relu\", \"sigmoid\", \"tanh\"]\n",
    "                },\n",
    "                \"hidden_dims\": {\n",
    "                    \"values\": [8, 16, 32, 64, 128]\n",
    "                },\n",
    "                \"num_classes\": {\"value\": 6}\n",
    "            }\n",
    "        },\n",
    "        \"optimizer\": {\n",
    "            \"parameters\": {\n",
    "                \"update_rule\" : {\"values\": \"sgd\"},\n",
    "                \"learning_rate\": {\n",
    "                    \"values\": [1e-4, 5e-4, 1e-3, 1e-2, 0.1],\n",
    "                },\n",
    "            }\n",
    "        },\n",
    "        \"training\": {\n",
    "            \"parameters\": {\n",
    "                \"update_type\": {\n",
    "                    \"values\": [\"minibatch\", \"batch\", \"stochastic\"]\n",
    "                },\n",
    "                \"batch_size\": {\n",
    "                    \"values\": [16, 32, 64, 128]\n",
    "                },\n",
    "                \"epochs\": {\n",
    "                    \"value\": 500\n",
    "                },\n",
    "                \"log_wandb\": {\"values\": True}\n",
    "            }\n",
    "        }\n",
    "    }\n",
    "}"
   ]
  },
  {
   "cell_type": "code",
   "execution_count": 43,
   "metadata": {},
   "outputs": [],
   "source": [
    "sweep_configuration = {\n",
    "    \"method\": \"grid\",\n",
    "    \"name\": \"single-layer-sgd-grid-search\",\n",
    "    \"parameters\": {\n",
    "        \"criterion\": {\"value\": \"softmax\"},\n",
    "\n",
    "        # model config\n",
    "        \"model.input_dim\": {\"value\": 11},\n",
    "        \"model.activation\": {\n",
    "            \"values\": [\"relu\", \"sigmoid\", \"tanh\"]\n",
    "        },\n",
    "        \"model.hidden_dims\": {\n",
    "            \"values\": [8, 16, 32, 64, 128]\n",
    "        },\n",
    "        \"model.num_classes\": {\"value\": 6},\n",
    "\n",
    "        # optimizer config\n",
    "        \"optimizer.update_rule\": {\"values\": [\"sgd\"]},\n",
    "        \"optimizer.learning_rate\": {\n",
    "            \"values\": [1e-4, 5e-4, 1e-3, 1e-2, 0.1],\n",
    "        },\n",
    "\n",
    "        # training config\n",
    "        \"training.update_type\": {\n",
    "            \"values\": [\"minibatch\", \"batch\", \"stochastic\"]\n",
    "        },\n",
    "        \"training.batch_size\": {\n",
    "            \"values\": [16, 32, 64, 128]\n",
    "        },\n",
    "        \"training.epochs\": {\n",
    "            \"value\": 500\n",
    "        },\n",
    "        \"training.log_wandb\": {\"values\": [True]},\n",
    "        \"training.verbose\": {\"value\": False}\n",
    "    }\n",
    "}"
   ]
  },
  {
   "cell_type": "code",
   "execution_count": 14,
   "metadata": {},
   "outputs": [],
   "source": [
    "# testing out sweep using a single config\n",
    "config = {\n",
    "    \"method\": \"grid\",\n",
    "    \"name\": \"sgd-grid-search\",\n",
    "    \"parameters\": {\n",
    "        \"criterion\": \"adam\",\n",
    "        \"model\": {\n",
    "            \"input_dim\" : 11,\n",
    "            \"activation\": \"relu\",\n",
    "            \"hidden_dims\": 128,\n",
    "            \"num_classes\": 6\n",
    "        },\n",
    "        \"optimizer\": {\n",
    "            \"update_rule\" : \"sgd\",\n",
    "            \"learning_rate\": 1e-2,\n",
    "        },\n",
    "        \"training\": {\n",
    "            \"update_type\": \"minibatch\",\n",
    "            \"batch_size\": 32,\n",
    "            \"epochs\": 100,\n",
    "            \"print_every\": 100,\n",
    "            \"log_wandb\": True,\n",
    "            \"verbose\": True\n",
    "        }\n",
    "    }\n",
    "}\n",
    "\n",
    "# best_model = trigger_training(config[\"parameters\"])"
   ]
  },
  {
   "cell_type": "code",
   "execution_count": 24,
   "metadata": {},
   "outputs": [
    {
     "name": "stdout",
     "output_type": "stream",
     "text": [
      "dict_values(['grid', 'single-layer-sgd-grid-search', {'criterion': {'value': 'softmax'}, 'model.input_dim': {'value': 11}, 'model.activation': {'values': ['relu', 'sigmoid', 'tanh']}, 'model.num_layers': {'value': 2}, 'model.hidden_dims1': {'values': [8, 16, 32, 64, 128]}, 'model.hidden_dims2': {'values': [16]}, 'model.num_classes': {'value': 6}, 'optimizer.update_rule': {'value': 'sgd'}, 'optimizer.learning_rate': {'values': [0.0001, 0.0005, 0.001, 0.01, 0.1]}, 'training.update_type': {'values': ['minibatch', 'batch', 'stochastic']}, 'training.batch_size': {'values': [8, 16, 64, 128]}, 'training.epochs': {'value': 500}, 'training.log_wandb': {'value': True}, 'training.verbose': {'value': False}}])\n"
     ]
    }
   ],
   "source": [
    "import yaml\n",
    "\n",
    "f = open(os.path.join(YAML_FOLDER, \"single-layer-sgd-grid-search.yaml\"), \"r\")\n",
    "\n",
    "sweep_configuration = yaml.safe_load(f)\n",
    "print(sweep_configuration.values())"
   ]
  },
  {
   "cell_type": "code",
   "execution_count": 15,
   "metadata": {},
   "outputs": [
    {
     "name": "stdout",
     "output_type": "stream",
     "text": [
      "Create sweep with ID: odn97shn\n",
      "Sweep URL: https://wandb.ai/vanshg/smai-assignment3-task2/sweeps/odn97shn\n"
     ]
    }
   ],
   "source": [
    "sweep_id = wandb.sweep(sweep=sweep_configuration, project=\"smai-assignment3-task2\")"
   ]
  },
  {
   "cell_type": "code",
   "execution_count": 16,
   "metadata": {},
   "outputs": [
    {
     "name": "stderr",
     "output_type": "stream",
     "text": [
      "\u001b[34m\u001b[1mwandb\u001b[0m: Agent Starting Run: u2qg7opf with config:\n",
      "\u001b[34m\u001b[1mwandb\u001b[0m: \tcriterion: softmax\n",
      "\u001b[34m\u001b[1mwandb\u001b[0m: \tmodel.activation: relu\n",
      "\u001b[34m\u001b[1mwandb\u001b[0m: \tmodel.hidden_dims1: 8\n",
      "\u001b[34m\u001b[1mwandb\u001b[0m: \tmodel.hidden_dims2: 16\n",
      "\u001b[34m\u001b[1mwandb\u001b[0m: \tmodel.input_dim: 11\n",
      "\u001b[34m\u001b[1mwandb\u001b[0m: \tmodel.num_classes: 6\n",
      "\u001b[34m\u001b[1mwandb\u001b[0m: \tmodel.num_layers: 2\n",
      "\u001b[34m\u001b[1mwandb\u001b[0m: \toptimizer.learning_rate: 0.0001\n",
      "\u001b[34m\u001b[1mwandb\u001b[0m: \toptimizer.update_rule: sgd\n",
      "\u001b[34m\u001b[1mwandb\u001b[0m: \ttraining.batch_size: 8\n",
      "\u001b[34m\u001b[1mwandb\u001b[0m: \ttraining.epochs: 500\n",
      "\u001b[34m\u001b[1mwandb\u001b[0m: \ttraining.log_wandb: True\n",
      "\u001b[34m\u001b[1mwandb\u001b[0m: \ttraining.update_type: minibatch\n",
      "\u001b[34m\u001b[1mwandb\u001b[0m: \ttraining.verbose: False\n",
      "Failed to detect the name of this notebook, you can set it manually with the WANDB_NOTEBOOK_NAME environment variable to enable code saving.\n"
     ]
    },
    {
     "data": {
      "text/html": [
       "Tracking run with wandb version 0.15.12"
      ],
      "text/plain": [
       "<IPython.core.display.HTML object>"
      ]
     },
     "metadata": {},
     "output_type": "display_data"
    },
    {
     "data": {
      "text/html": [
       "Run data is saved locally in <code>/home/richard/play/IIITH/sem5/smai/assignments/assignment-3-fine-man/wandb/run-20231016_195958-u2qg7opf</code>"
      ],
      "text/plain": [
       "<IPython.core.display.HTML object>"
      ]
     },
     "metadata": {},
     "output_type": "display_data"
    },
    {
     "data": {
      "text/html": [
       "Syncing run <strong><a href='https://wandb.ai/vanshg/smai-assignment3-task2/runs/u2qg7opf' target=\"_blank\">legendary-sweep-1</a></strong> to <a href='https://wandb.ai/vanshg/smai-assignment3-task2' target=\"_blank\">Weights & Biases</a> (<a href='https://wandb.me/run' target=\"_blank\">docs</a>)<br/>Sweep page: <a href='https://wandb.ai/vanshg/smai-assignment3-task2/sweeps/odn97shn' target=\"_blank\">https://wandb.ai/vanshg/smai-assignment3-task2/sweeps/odn97shn</a>"
      ],
      "text/plain": [
       "<IPython.core.display.HTML object>"
      ]
     },
     "metadata": {},
     "output_type": "display_data"
    },
    {
     "data": {
      "text/html": [
       " View project at <a href='https://wandb.ai/vanshg/smai-assignment3-task2' target=\"_blank\">https://wandb.ai/vanshg/smai-assignment3-task2</a>"
      ],
      "text/plain": [
       "<IPython.core.display.HTML object>"
      ]
     },
     "metadata": {},
     "output_type": "display_data"
    },
    {
     "data": {
      "text/html": [
       " View sweep at <a href='https://wandb.ai/vanshg/smai-assignment3-task2/sweeps/odn97shn' target=\"_blank\">https://wandb.ai/vanshg/smai-assignment3-task2/sweeps/odn97shn</a>"
      ],
      "text/plain": [
       "<IPython.core.display.HTML object>"
      ]
     },
     "metadata": {},
     "output_type": "display_data"
    },
    {
     "data": {
      "text/html": [
       " View run at <a href='https://wandb.ai/vanshg/smai-assignment3-task2/runs/u2qg7opf' target=\"_blank\">https://wandb.ai/vanshg/smai-assignment3-task2/runs/u2qg7opf</a>"
      ],
      "text/plain": [
       "<IPython.core.display.HTML object>"
      ]
     },
     "metadata": {},
     "output_type": "display_data"
    },
    {
     "name": "stdout",
     "output_type": "stream",
     "text": [
      "{'criterion': 'softmax', 'model': {'activation': 'relu', 'hidden_dims1': 8, 'hidden_dims2': 16, 'input_dim': 11, 'num_classes': 6, 'num_layers': 2}, 'optimizer': {'learning_rate': 0.0001, 'update_rule': 'sgd'}, 'training': {'batch_size': 8, 'epochs': 500, 'log_wandb': True, 'update_type': 'minibatch', 'verbose': False}}\n",
      "8-16\n",
      "Run Name: H8-16-relu-lr0.0001-minibatch-sgd-batch8\n",
      "dict_keys(['W1', 'b1', 'W2', 'b2', 'W3', 'b3', 'W4', 'b4', 'W5', 'b5'])\n",
      "\n",
      "BEST VAL ACCURACY : 62.2807 | epoch: 421 | Val loss: 1.2490\n",
      "Best Parameters have been loaded in the model\n"
     ]
    },
    {
     "data": {
      "text/html": [
       "Waiting for W&B process to finish... <strong style=\"color:green\">(success).</strong>"
      ],
      "text/plain": [
       "<IPython.core.display.HTML object>"
      ]
     },
     "metadata": {},
     "output_type": "display_data"
    },
    {
     "data": {
      "text/html": [
       "<style>\n",
       "    table.wandb td:nth-child(1) { padding: 0 10px; text-align: left ; width: auto;} td:nth-child(2) {text-align: left ; width: 100%}\n",
       "    .wandb-row { display: flex; flex-direction: row; flex-wrap: wrap; justify-content: flex-start; width: 100% }\n",
       "    .wandb-col { display: flex; flex-direction: column; flex-basis: 100%; flex: 1; padding: 10px; }\n",
       "    </style>\n",
       "<div class=\"wandb-row\"><div class=\"wandb-col\"><h3>Run history:</h3><br/><table class=\"wandb\"><tr><td>epoch</td><td>▁▁▁▂▂▂▂▂▂▃▃▃▃▃▄▄▄▄▄▄▅▅▅▅▅▅▆▆▆▆▆▇▇▇▇▇▇███</td></tr><tr><td>train_acc</td><td>▁▄▄▄▄▄▅▅▅▅▅▅▆▆▆▇▆▆▆▆▇▇▇▇▇▇▇▇▇▇██▇██▇█▇██</td></tr><tr><td>train_loss</td><td>█▃▃▂▂▂▁▁▁▁▁▁▁▁▁▁▁▁▁▁▁▁▁▁▁▁▁▁▁▁▁▁▁▁▁▁▁▁▁▁</td></tr><tr><td>val_acc</td><td>▁▄▅▅▅▆▅▅▅▅▆▅▅▅▅▅▅▅▅▄▆▆▅▅▆▇▆▇▇▇▇▇▇▇▇▆██▆▇</td></tr><tr><td>val_loss</td><td>█▃▃▂▂▂▂▂▁▁▁▁▁▁▁▁▁▁▁▁▁▁▁▁▁▁▁▁▁▁▁▁▁▁▁▁▁▁▁▁</td></tr></table><br/></div><div class=\"wandb-col\"><h3>Run summary:</h3><br/><table class=\"wandb\"><tr><td>epoch</td><td>500</td></tr><tr><td>train_acc</td><td>0.5625</td></tr><tr><td>train_loss</td><td>1.09294</td></tr><tr><td>val_acc</td><td>0.57018</td></tr><tr><td>val_loss</td><td>1.23378</td></tr></table><br/></div></div>"
      ],
      "text/plain": [
       "<IPython.core.display.HTML object>"
      ]
     },
     "metadata": {},
     "output_type": "display_data"
    },
    {
     "data": {
      "text/html": [
       " View run <strong style=\"color:#cdcd00\">legendary-sweep-1</strong> at: <a href='https://wandb.ai/vanshg/smai-assignment3-task2/runs/u2qg7opf' target=\"_blank\">https://wandb.ai/vanshg/smai-assignment3-task2/runs/u2qg7opf</a><br/>Synced 6 W&B file(s), 0 media file(s), 0 artifact file(s) and 0 other file(s)"
      ],
      "text/plain": [
       "<IPython.core.display.HTML object>"
      ]
     },
     "metadata": {},
     "output_type": "display_data"
    },
    {
     "data": {
      "text/html": [
       "Find logs at: <code>./wandb/run-20231016_195958-u2qg7opf/logs</code>"
      ],
      "text/plain": [
       "<IPython.core.display.HTML object>"
      ]
     },
     "metadata": {},
     "output_type": "display_data"
    },
    {
     "name": "stderr",
     "output_type": "stream",
     "text": [
      "\u001b[34m\u001b[1mwandb\u001b[0m: Agent Starting Run: pba0v04d with config:\n",
      "\u001b[34m\u001b[1mwandb\u001b[0m: \tcriterion: softmax\n",
      "\u001b[34m\u001b[1mwandb\u001b[0m: \tmodel.activation: relu\n",
      "\u001b[34m\u001b[1mwandb\u001b[0m: \tmodel.hidden_dims1: 8\n",
      "\u001b[34m\u001b[1mwandb\u001b[0m: \tmodel.hidden_dims2: 16\n",
      "\u001b[34m\u001b[1mwandb\u001b[0m: \tmodel.input_dim: 11\n",
      "\u001b[34m\u001b[1mwandb\u001b[0m: \tmodel.num_classes: 6\n",
      "\u001b[34m\u001b[1mwandb\u001b[0m: \tmodel.num_layers: 2\n",
      "\u001b[34m\u001b[1mwandb\u001b[0m: \toptimizer.learning_rate: 0.0001\n",
      "\u001b[34m\u001b[1mwandb\u001b[0m: \toptimizer.update_rule: sgd\n",
      "\u001b[34m\u001b[1mwandb\u001b[0m: \ttraining.batch_size: 8\n",
      "\u001b[34m\u001b[1mwandb\u001b[0m: \ttraining.epochs: 500\n",
      "\u001b[34m\u001b[1mwandb\u001b[0m: \ttraining.log_wandb: True\n",
      "\u001b[34m\u001b[1mwandb\u001b[0m: \ttraining.update_type: batch\n",
      "\u001b[34m\u001b[1mwandb\u001b[0m: \ttraining.verbose: False\n",
      "Failed to detect the name of this notebook, you can set it manually with the WANDB_NOTEBOOK_NAME environment variable to enable code saving.\n"
     ]
    },
    {
     "data": {
      "text/html": [
       "Tracking run with wandb version 0.15.12"
      ],
      "text/plain": [
       "<IPython.core.display.HTML object>"
      ]
     },
     "metadata": {},
     "output_type": "display_data"
    },
    {
     "data": {
      "text/html": [
       "Run data is saved locally in <code>/home/richard/play/IIITH/sem5/smai/assignments/assignment-3-fine-man/wandb/run-20231016_200052-pba0v04d</code>"
      ],
      "text/plain": [
       "<IPython.core.display.HTML object>"
      ]
     },
     "metadata": {},
     "output_type": "display_data"
    },
    {
     "data": {
      "text/html": [
       "Syncing run <strong><a href='https://wandb.ai/vanshg/smai-assignment3-task2/runs/pba0v04d' target=\"_blank\">swift-sweep-2</a></strong> to <a href='https://wandb.ai/vanshg/smai-assignment3-task2' target=\"_blank\">Weights & Biases</a> (<a href='https://wandb.me/run' target=\"_blank\">docs</a>)<br/>Sweep page: <a href='https://wandb.ai/vanshg/smai-assignment3-task2/sweeps/odn97shn' target=\"_blank\">https://wandb.ai/vanshg/smai-assignment3-task2/sweeps/odn97shn</a>"
      ],
      "text/plain": [
       "<IPython.core.display.HTML object>"
      ]
     },
     "metadata": {},
     "output_type": "display_data"
    },
    {
     "data": {
      "text/html": [
       " View project at <a href='https://wandb.ai/vanshg/smai-assignment3-task2' target=\"_blank\">https://wandb.ai/vanshg/smai-assignment3-task2</a>"
      ],
      "text/plain": [
       "<IPython.core.display.HTML object>"
      ]
     },
     "metadata": {},
     "output_type": "display_data"
    },
    {
     "data": {
      "text/html": [
       " View sweep at <a href='https://wandb.ai/vanshg/smai-assignment3-task2/sweeps/odn97shn' target=\"_blank\">https://wandb.ai/vanshg/smai-assignment3-task2/sweeps/odn97shn</a>"
      ],
      "text/plain": [
       "<IPython.core.display.HTML object>"
      ]
     },
     "metadata": {},
     "output_type": "display_data"
    },
    {
     "data": {
      "text/html": [
       " View run at <a href='https://wandb.ai/vanshg/smai-assignment3-task2/runs/pba0v04d' target=\"_blank\">https://wandb.ai/vanshg/smai-assignment3-task2/runs/pba0v04d</a>"
      ],
      "text/plain": [
       "<IPython.core.display.HTML object>"
      ]
     },
     "metadata": {},
     "output_type": "display_data"
    },
    {
     "name": "stdout",
     "output_type": "stream",
     "text": [
      "{'criterion': 'softmax', 'model': {'activation': 'relu', 'hidden_dims1': 8, 'hidden_dims2': 16, 'input_dim': 11, 'num_classes': 6, 'num_layers': 2}, 'optimizer': {'learning_rate': 0.0001, 'update_rule': 'sgd'}, 'training': {'batch_size': 8, 'epochs': 500, 'log_wandb': True, 'update_type': 'batch', 'verbose': False}}\n",
      "8-16\n",
      "Run Name: H8-16-relu-lr0.0001-batch-sgd-batch8\n",
      "dict_keys(['W1', 'b1', 'W2', 'b2', 'W3', 'b3', 'W4', 'b4', 'W5', 'b5'])\n",
      "\n",
      "BEST VAL ACCURACY : 37.7193 | epoch: 442 | Val loss: 8.7036\n",
      "Best Parameters have been loaded in the model\n"
     ]
    },
    {
     "data": {
      "text/html": [
       "Waiting for W&B process to finish... <strong style=\"color:green\">(success).</strong>"
      ],
      "text/plain": [
       "<IPython.core.display.HTML object>"
      ]
     },
     "metadata": {},
     "output_type": "display_data"
    },
    {
     "data": {
      "text/html": [
       "<style>\n",
       "    table.wandb td:nth-child(1) { padding: 0 10px; text-align: left ; width: auto;} td:nth-child(2) {text-align: left ; width: 100%}\n",
       "    .wandb-row { display: flex; flex-direction: row; flex-wrap: wrap; justify-content: flex-start; width: 100% }\n",
       "    .wandb-col { display: flex; flex-direction: column; flex-basis: 100%; flex: 1; padding: 10px; }\n",
       "    </style>\n",
       "<div class=\"wandb-row\"><div class=\"wandb-col\"><h3>Run history:</h3><br/><table class=\"wandb\"><tr><td>epoch</td><td>▁▁▁▂▂▂▂▂▂▃▃▃▃▃▄▄▄▄▄▄▅▅▅▅▅▅▆▆▆▆▆▇▇▇▇▇▇███</td></tr><tr><td>train_acc</td><td>█▆▅▄▃▁▂▂▁▁▁▁▂▃▃▃▂▂▂▁▁▁▂▂▂▂▂▂▂▂▂▂▂▁▂▂▂▂▂▂</td></tr><tr><td>train_loss</td><td>█▇▆▅▄▄▃▃▃▃▂▂▂▂▂▂▂▂▂▂▂▂▂▂▁▁▁▁▁▁▁▁▁▁▁▁▁▁▁▁</td></tr><tr><td>val_acc</td><td>▂▃▂▂▂▂▁▂▂▆▆▅▅▅▂▂▄▄▅▅▄▅▅▅▅▅▅▅▆▇▇▇▇▇▇█▇█▇▇</td></tr><tr><td>val_loss</td><td>█▇▆▅▄▄▃▃▃▂▂▂▂▂▂▂▂▂▂▂▂▂▂▁▁▁▁▁▁▁▁▁▁▁▁▁▁▁▁▁</td></tr></table><br/></div><div class=\"wandb-col\"><h3>Run summary:</h3><br/><table class=\"wandb\"><tr><td>epoch</td><td>500</td></tr><tr><td>train_acc</td><td>0.285</td></tr><tr><td>train_loss</td><td>9.68455</td></tr><tr><td>val_acc</td><td>0.36842</td></tr><tr><td>val_loss</td><td>7.95756</td></tr></table><br/></div></div>"
      ],
      "text/plain": [
       "<IPython.core.display.HTML object>"
      ]
     },
     "metadata": {},
     "output_type": "display_data"
    },
    {
     "data": {
      "text/html": [
       " View run <strong style=\"color:#cdcd00\">swift-sweep-2</strong> at: <a href='https://wandb.ai/vanshg/smai-assignment3-task2/runs/pba0v04d' target=\"_blank\">https://wandb.ai/vanshg/smai-assignment3-task2/runs/pba0v04d</a><br/>Synced 6 W&B file(s), 0 media file(s), 0 artifact file(s) and 0 other file(s)"
      ],
      "text/plain": [
       "<IPython.core.display.HTML object>"
      ]
     },
     "metadata": {},
     "output_type": "display_data"
    },
    {
     "data": {
      "text/html": [
       "Find logs at: <code>./wandb/run-20231016_200052-pba0v04d/logs</code>"
      ],
      "text/plain": [
       "<IPython.core.display.HTML object>"
      ]
     },
     "metadata": {},
     "output_type": "display_data"
    },
    {
     "name": "stderr",
     "output_type": "stream",
     "text": [
      "\u001b[34m\u001b[1mwandb\u001b[0m: Agent Starting Run: lp681rzv with config:\n",
      "\u001b[34m\u001b[1mwandb\u001b[0m: \tcriterion: softmax\n",
      "\u001b[34m\u001b[1mwandb\u001b[0m: \tmodel.activation: relu\n",
      "\u001b[34m\u001b[1mwandb\u001b[0m: \tmodel.hidden_dims1: 8\n",
      "\u001b[34m\u001b[1mwandb\u001b[0m: \tmodel.hidden_dims2: 16\n",
      "\u001b[34m\u001b[1mwandb\u001b[0m: \tmodel.input_dim: 11\n",
      "\u001b[34m\u001b[1mwandb\u001b[0m: \tmodel.num_classes: 6\n",
      "\u001b[34m\u001b[1mwandb\u001b[0m: \tmodel.num_layers: 2\n",
      "\u001b[34m\u001b[1mwandb\u001b[0m: \toptimizer.learning_rate: 0.0001\n",
      "\u001b[34m\u001b[1mwandb\u001b[0m: \toptimizer.update_rule: sgd\n",
      "\u001b[34m\u001b[1mwandb\u001b[0m: \ttraining.batch_size: 8\n",
      "\u001b[34m\u001b[1mwandb\u001b[0m: \ttraining.epochs: 500\n",
      "\u001b[34m\u001b[1mwandb\u001b[0m: \ttraining.log_wandb: True\n",
      "\u001b[34m\u001b[1mwandb\u001b[0m: \ttraining.update_type: stochastic\n",
      "\u001b[34m\u001b[1mwandb\u001b[0m: \ttraining.verbose: False\n",
      "Failed to detect the name of this notebook, you can set it manually with the WANDB_NOTEBOOK_NAME environment variable to enable code saving.\n",
      "\u001b[34m\u001b[1mwandb\u001b[0m: \u001b[32m\u001b[41mERROR\u001b[0m Error while calling W&B API: could not find agent cfub3ff8 during agentHeartbeat (<Response [404]>)\n",
      "Exception in thread Thread-6 (_heartbeat):\n",
      "Traceback (most recent call last):\n",
      "  File \"/home/richard/anaconda3/envs/smai/lib/python3.11/site-packages/wandb/sdk/lib/retry.py\", line 131, in __call__\n",
      "    result = self._call_fn(*args, **kwargs)\n",
      "             ^^^^^^^^^^^^^^^^^^^^^^^^^^^^^^\n",
      "  File \"/home/richard/anaconda3/envs/smai/lib/python3.11/site-packages/wandb/sdk/internal/internal_api.py\", line 366, in execute\n",
      "    return self.client.execute(*args, **kwargs)  # type: ignore\n",
      "           ^^^^^^^^^^^^^^^^^^^^^^^^^^^^^^^^^^^^\n",
      "  File \"/home/richard/anaconda3/envs/smai/lib/python3.11/site-packages/wandb/vendor/gql-0.2.0/wandb_gql/client.py\", line 52, in execute\n",
      "    result = self._get_result(document, *args, **kwargs)\n",
      "             ^^^^^^^^^^^^^^^^^^^^^^^^^^^^^^^^^^^^^^^^^^^\n",
      "  File \"/home/richard/anaconda3/envs/smai/lib/python3.11/site-packages/wandb/vendor/gql-0.2.0/wandb_gql/client.py\", line 60, in _get_result\n",
      "    return self.transport.execute(document, *args, **kwargs)\n",
      "           ^^^^^^^^^^^^^^^^^^^^^^^^^^^^^^^^^^^^^^^^^^^^^^^^^\n",
      "  File \"/home/richard/anaconda3/envs/smai/lib/python3.11/site-packages/wandb/sdk/lib/gql_request.py\", line 59, in execute\n",
      "    request.raise_for_status()\n",
      "  File \"/home/richard/anaconda3/envs/smai/lib/python3.11/site-packages/requests/models.py\", line 1021, in raise_for_status\n",
      "    raise HTTPError(http_error_msg, response=self)\n",
      "requests.exceptions.HTTPError: 404 Client Error: Not Found for url: https://api.wandb.ai/graphql\n",
      "\n",
      "During handling of the above exception, another exception occurred:\n",
      "\n",
      "Traceback (most recent call last):\n",
      "  File \"/home/richard/anaconda3/envs/smai/lib/python3.11/site-packages/wandb/sdk/internal/internal_api.py\", line 2777, in agent_heartbeat\n",
      "    response = self.gql(\n",
      "               ^^^^^^^^^\n",
      "  File \"/home/richard/anaconda3/envs/smai/lib/python3.11/site-packages/wandb/sdk/internal/internal_api.py\", line 338, in gql\n",
      "    ret = self._retry_gql(\n",
      "          ^^^^^^^^^^^^^^^^\n",
      "  File \"/home/richard/anaconda3/envs/smai/lib/python3.11/site-packages/wandb/sdk/lib/retry.py\", line 147, in __call__\n",
      "    retry_timedelta_triggered = check_retry_fn(e)\n",
      "                                ^^^^^^^^^^^^^^^^^\n",
      "  File \"/home/richard/anaconda3/envs/smai/lib/python3.11/site-packages/wandb/util.py\", line 906, in no_retry_auth\n",
      "    raise CommError(\n",
      "wandb.errors.CommError: It appears that you do not have permission to access the requested resource. Please reach out to the project owner to grant you access. If you have the correct permissions, verify that there are no issues with your networking setup.(Error 404: Not Found)\n",
      "\n",
      "During handling of the above exception, another exception occurred:\n",
      "\n",
      "Traceback (most recent call last):\n",
      "  File \"/home/richard/anaconda3/envs/smai/lib/python3.11/threading.py\", line 1038, in _bootstrap_inner\n",
      "    self.run()\n",
      "  File \"/home/richard/anaconda3/envs/smai/lib/python3.11/threading.py\", line 975, in run\n",
      "    self._target(*self._args, **self._kwargs)\n",
      "  File \"/home/richard/anaconda3/envs/smai/lib/python3.11/site-packages/wandb/agents/pyagent.py\", line 166, in _heartbeat\n",
      "    commands = self._api.agent_heartbeat(self._agent_id, {}, run_status)\n",
      "               ^^^^^^^^^^^^^^^^^^^^^^^^^^^^^^^^^^^^^^^^^^^^^^^^^^^^^^^^^\n",
      "  File \"/home/richard/anaconda3/envs/smai/lib/python3.11/site-packages/wandb/apis/internal.py\", line 153, in agent_heartbeat\n",
      "    return self.api.agent_heartbeat(*args, **kwargs)\n",
      "           ^^^^^^^^^^^^^^^^^^^^^^^^^^^^^^^^^^^^^^^^^\n",
      "  File \"/home/richard/anaconda3/envs/smai/lib/python3.11/site-packages/wandb/sdk/internal/internal_api.py\", line 2788, in agent_heartbeat\n",
      "    message = ast.literal_eval(e.args[0])[\"message\"]\n",
      "              ^^^^^^^^^^^^^^^^^^^^^^^^^^^\n",
      "  File \"/home/richard/anaconda3/envs/smai/lib/python3.11/ast.py\", line 64, in literal_eval\n",
      "    node_or_string = parse(node_or_string.lstrip(\" \\t\"), mode='eval')\n",
      "                     ^^^^^^^^^^^^^^^^^^^^^^^^^^^^^^^^^^^^^^^^^^^^^^^^\n",
      "  File \"/home/richard/anaconda3/envs/smai/lib/python3.11/ast.py\", line 50, in parse\n",
      "    return compile(source, filename, mode, flags,\n",
      "           ^^^^^^^^^^^^^^^^^^^^^^^^^^^^^^^^^^^^^^\n",
      "  File \"<unknown>\", line 1\n",
      "    It appears that you do not have permission to access the requested resource. Please reach out to the project owner to grant you access. If you have the correct permissions, verify that there are no issues with your networking setup.(Error 404: Not Found)\n",
      "       ^^^^^^^\n",
      "SyntaxError: invalid syntax\n"
     ]
    },
    {
     "data": {
      "text/html": [
       "Tracking run with wandb version 0.15.12"
      ],
      "text/plain": [
       "<IPython.core.display.HTML object>"
      ]
     },
     "metadata": {},
     "output_type": "display_data"
    },
    {
     "data": {
      "text/html": [
       "Run data is saved locally in <code>/home/richard/play/IIITH/sem5/smai/assignments/assignment-3-fine-man/wandb/run-20231016_200135-lp681rzv</code>"
      ],
      "text/plain": [
       "<IPython.core.display.HTML object>"
      ]
     },
     "metadata": {},
     "output_type": "display_data"
    },
    {
     "data": {
      "text/html": [
       "Syncing run <strong><a href='https://wandb.ai/vanshg/smai-assignment3-task2/runs/lp681rzv' target=\"_blank\">balmy-sweep-3</a></strong> to <a href='https://wandb.ai/vanshg/smai-assignment3-task2' target=\"_blank\">Weights & Biases</a> (<a href='https://wandb.me/run' target=\"_blank\">docs</a>)<br/>Sweep page: <a href='https://wandb.ai/vanshg/smai-assignment3-task2/sweeps/odn97shn' target=\"_blank\">https://wandb.ai/vanshg/smai-assignment3-task2/sweeps/odn97shn</a>"
      ],
      "text/plain": [
       "<IPython.core.display.HTML object>"
      ]
     },
     "metadata": {},
     "output_type": "display_data"
    },
    {
     "data": {
      "text/html": [
       " View project at <a href='https://wandb.ai/vanshg/smai-assignment3-task2' target=\"_blank\">https://wandb.ai/vanshg/smai-assignment3-task2</a>"
      ],
      "text/plain": [
       "<IPython.core.display.HTML object>"
      ]
     },
     "metadata": {},
     "output_type": "display_data"
    },
    {
     "data": {
      "text/html": [
       " View sweep at <a href='https://wandb.ai/vanshg/smai-assignment3-task2/sweeps/odn97shn' target=\"_blank\">https://wandb.ai/vanshg/smai-assignment3-task2/sweeps/odn97shn</a>"
      ],
      "text/plain": [
       "<IPython.core.display.HTML object>"
      ]
     },
     "metadata": {},
     "output_type": "display_data"
    },
    {
     "data": {
      "text/html": [
       " View run at <a href='https://wandb.ai/vanshg/smai-assignment3-task2/runs/lp681rzv' target=\"_blank\">https://wandb.ai/vanshg/smai-assignment3-task2/runs/lp681rzv</a>"
      ],
      "text/plain": [
       "<IPython.core.display.HTML object>"
      ]
     },
     "metadata": {},
     "output_type": "display_data"
    },
    {
     "name": "stdout",
     "output_type": "stream",
     "text": [
      "{'criterion': 'softmax', 'model': {'activation': 'relu', 'hidden_dims1': 8, 'hidden_dims2': 16, 'input_dim': 11, 'num_classes': 6, 'num_layers': 2}, 'optimizer': {'learning_rate': 0.0001, 'update_rule': 'sgd'}, 'training': {'batch_size': 8, 'epochs': 500, 'log_wandb': True, 'update_type': 'stochastic', 'verbose': False}}\n",
      "8-16\n",
      "Run Name: H8-16-relu-lr0.0001-stochastic-sgd-batch8\n",
      "dict_keys(['W1', 'b1', 'W2', 'b2', 'W3', 'b3', 'W4', 'b4', 'W5', 'b5'])\n"
     ]
    },
    {
     "name": "stderr",
     "output_type": "stream",
     "text": [
      "wandb: ERROR Error while calling W&B API: run smai-assignment3-task2/lp681rzv not found during createRunFiles (<Response [404]>)\n",
      "wandb: ERROR Error while calling W&B API: sweep odn97shn not found (<Response [404]>)\n",
      "wandb: ERROR Dropped streaming file chunk (see wandb/debug-internal.log)\n",
      "wandb: ERROR Dropped streaming file chunk (see wandb/debug-internal.log)\n",
      "\u001b[34m\u001b[1mwandb\u001b[0m: Ctrl + C detected. Stopping sweep.\n"
     ]
    },
    {
     "name": "stderr",
     "output_type": "stream",
     "text": [
      "wandb: ERROR Dropped streaming file chunk (see wandb/debug-internal.log)\n",
      "wandb: ERROR Dropped streaming file chunk (see wandb/debug-internal.log)\n",
      "wandb: ERROR Dropped streaming file chunk (see wandb/debug-internal.log)\n",
      "wandb: ERROR Dropped streaming file chunk (see wandb/debug-internal.log)\n",
      "wandb: ERROR Dropped streaming file chunk (see wandb/debug-internal.log)\n",
      "wandb: ERROR Dropped streaming file chunk (see wandb/debug-internal.log)\n",
      "wandb: ERROR Dropped streaming file chunk (see wandb/debug-internal.log)\n",
      "wandb: ERROR Dropped streaming file chunk (see wandb/debug-internal.log)\n",
      "wandb: ERROR Dropped streaming file chunk (see wandb/debug-internal.log)\n",
      "wandb: ERROR Dropped streaming file chunk (see wandb/debug-internal.log)\n"
     ]
    },
    {
     "name": "stdout",
     "output_type": "stream",
     "text": [
      "\n",
      "BEST VAL ACCURACY : 62.2807 | epoch: 421 | Val loss: 1.2490"
     ]
    },
    {
     "name": "stderr",
     "output_type": "stream",
     "text": [
      "wandb: ERROR Error while calling W&B API: run vanshg/smai-assignment3-task2/lp681rzv was previously created and deleted; try a new run name (<Response [409]>)\n",
      "wandb: ERROR Dropped streaming file chunk (see wandb/debug-internal.log)\n",
      "\u001b[34m\u001b[1mwandb\u001b[0m: \u001b[32m\u001b[41mERROR\u001b[0m Problem finishing run\n",
      "Exception in thread Thread-14 (_run_job):\n",
      "Traceback (most recent call last):\n",
      "  File \"/home/richard/anaconda3/envs/smai/lib/python3.11/site-packages/wandb/agents/pyagent.py\", line 298, in _run_job\n",
      "    self._function()\n",
      "  File \"/tmp/ipykernel_328769/2713679733.py\", line 54, in sweep_agent_manager\n",
      "  File \"/tmp/ipykernel_328769/3315037542.py\", line 13, in trigger_training\n",
      "  File \"/home/richard/play/IIITH/sem5/smai/assignments/assignment-3-fine-man/src/utils.py\", line 160, in train\n",
      "    print(f\"\\nBEST VAL ACCURACY : {best_val_acc*100:.4f} | epoch: {best_epoch} | Val loss: {loss_at_best_val:.4f}\")\n",
      "  File \"/home/richard/anaconda3/envs/smai/lib/python3.11/site-packages/wandb/sdk/lib/redirect.py\", line 640, in write\n",
      "    self._old_write(data)\n",
      "  File \"/home/richard/anaconda3/envs/smai/lib/python3.11/site-packages/ipykernel/iostream.py\", line 664, in write\n",
      "    self._schedule_flush()\n",
      "  File \"/home/richard/anaconda3/envs/smai/lib/python3.11/site-packages/ipykernel/iostream.py\", line 561, in _schedule_flush\n",
      "    self.pub_thread.schedule(_schedule_in_thread)\n",
      "  File \"/home/richard/anaconda3/envs/smai/lib/python3.11/site-packages/ipykernel/iostream.py\", line 267, in schedule\n",
      "    self._event_pipe.send(b\"\")\n",
      "  File \"/home/richard/anaconda3/envs/smai/lib/python3.11/site-packages/zmq/sugar/socket.py\", line 618, in send\n",
      "    return super().send(data, flags=flags, copy=copy, track=track)\n",
      "           ^^^^^^^^^^^^^^^^^^^^^^^^^^^^^^^^^^^^^^^^^^^^^^^^^^^^^^^\n",
      "  File \"zmq/backend/cython/socket.pyx\", line 740, in zmq.backend.cython.socket.Socket.send\n",
      "  File \"zmq/backend/cython/socket.pyx\", line 781, in zmq.backend.cython.socket.Socket.send\n",
      "  File \"zmq/backend/cython/socket.pyx\", line 137, in zmq.backend.cython.socket._check_closed\n",
      "zmq.error.ZMQError: Socket operation on non-socket\n",
      "\n",
      "During handling of the above exception, another exception occurred:\n",
      "\n",
      "Traceback (most recent call last):\n",
      "  File \"/home/richard/anaconda3/envs/smai/lib/python3.11/site-packages/wandb/sdk/wandb_run.py\", line 2177, in _atexit_cleanup\n",
      "    self._on_finish()\n",
      "  File \"/home/richard/anaconda3/envs/smai/lib/python3.11/site-packages/wandb/sdk/wandb_run.py\", line 2412, in _on_finish\n",
      "    self._footer_exit_status_info(\n",
      "  File \"/home/richard/anaconda3/envs/smai/lib/python3.11/site-packages/wandb/sdk/wandb_run.py\", line 3397, in _footer_exit_status_info\n",
      "    printer.display(f'{\" \".join(info)}')\n",
      "  File \"/home/richard/anaconda3/envs/smai/lib/python3.11/site-packages/wandb/sdk/lib/printer.py\", line 68, in display\n",
      "    self._display(text, level=level, default_text=default_text)\n",
      "  File \"/home/richard/anaconda3/envs/smai/lib/python3.11/site-packages/wandb/sdk/lib/printer.py\", line 247, in _display\n",
      "    self._display_fn_mapping(level)(text)\n",
      "  File \"/home/richard/anaconda3/envs/smai/lib/python3.11/site-packages/wandb/sdk/lib/ipython.py\", line 81, in display_html\n",
      "    return display(HTML(html))\n",
      "           ^^^^^^^^^^^^^^^^^^^\n",
      "  File \"/home/richard/anaconda3/envs/smai/lib/python3.11/site-packages/IPython/core/display_functions.py\", line 305, in display\n",
      "    publish_display_data(data=format_dict, metadata=md_dict, **kwargs)\n",
      "  File \"/home/richard/anaconda3/envs/smai/lib/python3.11/site-packages/IPython/core/display_functions.py\", line 93, in publish_display_data\n",
      "    display_pub.publish(\n",
      "  File \"/home/richard/anaconda3/envs/smai/lib/python3.11/site-packages/ipykernel/zmqshell.py\", line 102, in publish\n",
      "    self._flush_streams()\n",
      "  File \"/home/richard/anaconda3/envs/smai/lib/python3.11/site-packages/ipykernel/zmqshell.py\", line 65, in _flush_streams\n",
      "    sys.stdout.flush()\n",
      "  File \"/home/richard/anaconda3/envs/smai/lib/python3.11/site-packages/ipykernel/iostream.py\", line 575, in flush\n",
      "    self.pub_thread.schedule(self._flush)\n",
      "  File \"/home/richard/anaconda3/envs/smai/lib/python3.11/site-packages/ipykernel/iostream.py\", line 267, in schedule\n",
      "    self._event_pipe.send(b\"\")\n",
      "  File \"/home/richard/anaconda3/envs/smai/lib/python3.11/site-packages/zmq/sugar/socket.py\", line 618, in send\n",
      "    return super().send(data, flags=flags, copy=copy, track=track)\n",
      "           ^^^^^^^^^^^^^^^^^^^^^^^^^^^^^^^^^^^^^^^^^^^^^^^^^^^^^^^\n",
      "  File \"zmq/backend/cython/socket.pyx\", line 740, in zmq.backend.cython.socket.Socket.send\n",
      "  File \"zmq/backend/cython/socket.pyx\", line 781, in zmq.backend.cython.socket.Socket.send\n",
      "  File \"zmq/backend/cython/socket.pyx\", line 137, in zmq.backend.cython.socket._check_closed\n",
      "zmq.error.ZMQError: Socket operation on non-socket\n",
      "\n",
      "During handling of the above exception, another exception occurred:\n",
      "\n",
      "Traceback (most recent call last):\n",
      "  File \"/home/richard/anaconda3/envs/smai/lib/python3.11/threading.py\", line 1038, in _bootstrap_inner\n",
      "    self.run()\n",
      "  File \"/home/richard/anaconda3/envs/smai/lib/python3.11/threading.py\", line 975, in run\n",
      "    self._target(*self._args, **self._kwargs)\n",
      "  File \"/home/richard/anaconda3/envs/smai/lib/python3.11/site-packages/wandb/agents/pyagent.py\", line 303, in _run_job\n",
      "    wandb.finish(exit_code=1)\n",
      "  File \"/home/richard/anaconda3/envs/smai/lib/python3.11/site-packages/wandb/sdk/wandb_run.py\", line 3852, in finish\n",
      "    wandb.run.finish(exit_code=exit_code, quiet=quiet)\n",
      "  File \"/home/richard/anaconda3/envs/smai/lib/python3.11/site-packages/wandb/sdk/wandb_run.py\", line 419, in wrapper\n",
      "    return func(self, *args, **kwargs)\n",
      "           ^^^^^^^^^^^^^^^^^^^^^^^^^^^\n",
      "  File \"/home/richard/anaconda3/envs/smai/lib/python3.11/site-packages/wandb/sdk/wandb_run.py\", line 360, in wrapper\n",
      "    return func(self, *args, **kwargs)\n",
      "           ^^^^^^^^^^^^^^^^^^^^^^^^^^^\n",
      "  File \"/home/richard/anaconda3/envs/smai/lib/python3.11/site-packages/wandb/sdk/wandb_run.py\", line 1925, in finish\n",
      "    return self._finish(exit_code, quiet)\n",
      "           ^^^^^^^^^^^^^^^^^^^^^^^^^^^^^^\n",
      "  File \"/home/richard/anaconda3/envs/smai/lib/python3.11/site-packages/wandb/sdk/wandb_run.py\", line 1940, in _finish\n",
      "    self._atexit_cleanup(exit_code=exit_code)\n",
      "  File \"/home/richard/anaconda3/envs/smai/lib/python3.11/site-packages/wandb/sdk/wandb_run.py\", line 2190, in _atexit_cleanup\n",
      "    wandb.termerror(\"Problem finishing run\")\n",
      "  File \"/home/richard/anaconda3/envs/smai/lib/python3.11/site-packages/wandb/errors/term.py\", line 61, in termerror\n",
      "    _log(\n",
      "  File \"/home/richard/anaconda3/envs/smai/lib/python3.11/site-packages/wandb/errors/term.py\", line 95, in _log\n",
      "    click.echo(line, file=sys.stderr, nl=newline)\n",
      "  File \"/home/richard/anaconda3/envs/smai/lib/python3.11/site-packages/click/utils.py\", line 319, in echo\n",
      "    file.flush()\n",
      "  File \"/home/richard/anaconda3/envs/smai/lib/python3.11/site-packages/ipykernel/iostream.py\", line 575, in flush\n",
      "    self.pub_thread.schedule(self._flush)\n",
      "  File \"/home/richard/anaconda3/envs/smai/lib/python3.11/site-packages/ipykernel/iostream.py\", line 267, in schedule\n",
      "    self._event_pipe.send(b\"\")\n",
      "  File \"/home/richard/anaconda3/envs/smai/lib/python3.11/site-packages/zmq/sugar/socket.py\", line 618, in send\n",
      "    return super().send(data, flags=flags, copy=copy, track=track)\n",
      "           ^^^^^^^^^^^^^^^^^^^^^^^^^^^^^^^^^^^^^^^^^^^^^^^^^^^^^^^\n",
      "  File \"zmq/backend/cython/socket.pyx\", line 740, in zmq.backend.cython.socket.Socket.send\n",
      "  File \"zmq/backend/cython/socket.pyx\", line 781, in zmq.backend.cython.socket.Socket.send\n",
      "  File \"zmq/backend/cython/socket.pyx\", line 137, in zmq.backend.cython.socket._check_closed\n",
      "zmq.error.ZMQError: Socket operation on non-socket\n",
      "Exception in threading.excepthook:\n",
      "Exception ignored in thread started by: <bound method Thread._bootstrap of <Thread(Thread-14 (_run_job), stopped 140006379210432)>>\n",
      "Traceback (most recent call last):\n",
      "  File \"/home/richard/anaconda3/envs/smai/lib/python3.11/threading.py\", line 995, in _bootstrap\n",
      "    self._bootstrap_inner()\n",
      "  File \"/home/richard/anaconda3/envs/smai/lib/python3.11/threading.py\", line 1040, in _bootstrap_inner\n",
      "    self._invoke_excepthook(self)\n",
      "  File \"/home/richard/anaconda3/envs/smai/lib/python3.11/threading.py\", line 1352, in invoke_excepthook\n",
      "    local_print(\"Exception in threading.excepthook:\",\n",
      "  File \"/home/richard/anaconda3/envs/smai/lib/python3.11/site-packages/ipykernel/iostream.py\", line 575, in flush\n",
      "    self.pub_thread.schedule(self._flush)\n",
      "  File \"/home/richard/anaconda3/envs/smai/lib/python3.11/site-packages/ipykernel/iostream.py\", line 267, in schedule\n",
      "    self._event_pipe.send(b\"\")\n",
      "  File \"/home/richard/anaconda3/envs/smai/lib/python3.11/site-packages/zmq/sugar/socket.py\", line 618, in send\n",
      "    return super().send(data, flags=flags, copy=copy, track=track)\n",
      "           ^^^^^^^^^^^^^^^^^^^^^^^^^^^^^^^^^^^^^^^^^^^^^^^^^^^^^^^\n",
      "  File \"zmq/backend/cython/socket.pyx\", line 740, in zmq.backend.cython.socket.Socket.send\n",
      "  File \"zmq/backend/cython/socket.pyx\", line 781, in zmq.backend.cython.socket.Socket.send\n",
      "  File \"zmq/backend/cython/socket.pyx\", line 137, in zmq.backend.cython.socket._check_closed\n",
      "zmq.error.ZMQError: Socket operation on non-socket\n",
      "Exception ignored in sys.unraisablehook: <built-in function unraisablehook>\n",
      "Traceback (most recent call last):\n",
      "  File \"/home/richard/anaconda3/envs/smai/lib/python3.11/site-packages/ipykernel/iostream.py\", line 575, in flush\n",
      "    self.pub_thread.schedule(self._flush)\n",
      "  File \"/home/richard/anaconda3/envs/smai/lib/python3.11/site-packages/ipykernel/iostream.py\", line 267, in schedule\n",
      "    self._event_pipe.send(b\"\")\n",
      "  File \"/home/richard/anaconda3/envs/smai/lib/python3.11/site-packages/zmq/sugar/socket.py\", line 618, in send\n",
      "    return super().send(data, flags=flags, copy=copy, track=track)\n",
      "           ^^^^^^^^^^^^^^^^^^^^^^^^^^^^^^^^^^^^^^^^^^^^^^^^^^^^^^^\n",
      "  File \"zmq/backend/cython/socket.pyx\", line 740, in zmq.backend.cython.socket.Socket.send\n",
      "  File \"zmq/backend/cython/socket.pyx\", line 781, in zmq.backend.cython.socket.Socket.send\n",
      "  File \"zmq/backend/cython/socket.pyx\", line 137, in zmq.backend.cython.socket._check_closed\n",
      "zmq.error.ZMQError: Socket operation on non-socket\n",
      "wandb: ERROR Error while calling W&B API: run vanshg/smai-assignment3-task2/lp681rzv was previously created and deleted; try a new run name (<Response [409]>)\n",
      "wandb: ERROR Error while calling W&B API: run vanshg/smai-assignment3-task2/lp681rzv was previously created and deleted; try a new run name (<Response [409]>)\n",
      "wandb: ERROR Error while calling W&B API: run vanshg/smai-assignment3-task2/lp681rzv was previously created and deleted; try a new run name (<Response [409]>)\n",
      "wandb: ERROR Error while calling W&B API: run vanshg/smai-assignment3-task2/lp681rzv was previously created and deleted; try a new run name (<Response [409]>)\n",
      "wandb: ERROR Error while calling W&B API: run vanshg/smai-assignment3-task2/lp681rzv was previously created and deleted; try a new run name (<Response [409]>)\n",
      "wandb: ERROR Error while calling W&B API: run vanshg/smai-assignment3-task2/lp681rzv was previously created and deleted; try a new run name (<Response [409]>)\n"
     ]
    }
   ],
   "source": [
    "wandb.agent(sweep_id=sweep_id, function=sweep_agent_manager)"
   ]
  }
 ],
 "metadata": {
  "kernelspec": {
   "display_name": "smai",
   "language": "python",
   "name": "python3"
  },
  "language_info": {
   "codemirror_mode": {
    "name": "ipython",
    "version": 3
   },
   "file_extension": ".py",
   "mimetype": "text/x-python",
   "name": "python",
   "nbconvert_exporter": "python",
   "pygments_lexer": "ipython3",
   "version": "3.11.5"
  }
 },
 "nbformat": 4,
 "nbformat_minor": 2
}
