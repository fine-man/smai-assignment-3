{
 "cells": [
  {
   "cell_type": "markdown",
   "metadata": {},
   "source": [
    "# Assignment 3 - SMAI - DoubleMNIST and PermutedMnist"
   ]
  },
  {
   "cell_type": "code",
   "execution_count": 2,
   "metadata": {},
   "outputs": [
    {
     "name": "stdout",
     "output_type": "stream",
     "text": [
      "/home/vanshg/play/IIIITH/sem5/smai/assignments/assignment-3-fine-man/datasets\n",
      "/home/vanshg/play/IIIITH/sem5/smai/assignments/assignment-3-fine-man/yaml-files\n"
     ]
    }
   ],
   "source": [
    "import os\n",
    "import sys\n",
    "\n",
    "# enter the Foldername here:\n",
    "FOLDERNAME = \"/home/richard/play/IIITH/sem5/smai/assignments/assignment-3-fine-man\"\n",
    "\n",
    "if FOLDERNAME is None or not os.path.exists(FOLDERNAME):\n",
    "    FOLDERNAME = os.getcwd()\n",
    "\n",
    "PATHNAME = f\"{FOLDERNAME}\"\n",
    "sys.path.append(f\"{FOLDERNAME}\")\n",
    "\n",
    "# DATA_FOLDER = os.path.join(FOLDERNAME, \"SMAI-Dataset-release/IIIT-CFW\")\n",
    "DATA_FOLDER = os.path.join(FOLDERNAME, \"datasets\")\n",
    "YAML_FOLDER = os.path.join(FOLDERNAME, \"yaml-files\")\n",
    "print(DATA_FOLDER)\n",
    "print(YAML_FOLDER)"
   ]
  },
  {
   "cell_type": "code",
   "execution_count": 3,
   "metadata": {},
   "outputs": [],
   "source": [
    "# some magic so that the notebook will reload external python modules;\n",
    "# see https://stackoverflow.com/questions/1907993/autoreload-of-modules-in-ipython\n",
    "%load_ext autoreload\n",
    "%autoreload 2"
   ]
  },
  {
   "cell_type": "code",
   "execution_count": 4,
   "metadata": {},
   "outputs": [],
   "source": [
    "import numpy as np\n",
    "import pandas as pd\n",
    "import glob\n",
    "import cv2\n",
    "import scipy\n",
    "import scipy.io\n",
    "import os\n",
    "from random import randrange\n",
    "from matplotlib import pyplot as plt\n",
    "from PIL import Image\n",
    "import wandb\n",
    "import yaml\n",
    "\n",
    "from sklearn.metrics import classification_report, confusion_matrix\n",
    "\n",
    "import torch\n",
    "import torch.nn as nn\n",
    "import torch.optim as optim\n",
    "from torch.utils.data import Dataset, DataLoader, TensorDataset, Subset\n",
    "from torch.utils.data import random_split\n",
    "\n",
    "import torchvision\n",
    "from torchvision import transforms"
   ]
  },
  {
   "cell_type": "code",
   "execution_count": 5,
   "metadata": {},
   "outputs": [],
   "source": [
    "from src_torch import *\n",
    "from src_torch.classifiers import *"
   ]
  },
  {
   "cell_type": "code",
   "execution_count": 6,
   "metadata": {},
   "outputs": [],
   "source": [
    "device = torch.device('cuda' if torch.cuda.is_available() else 'cpu')"
   ]
  },
  {
   "cell_type": "code",
   "execution_count": 7,
   "metadata": {},
   "outputs": [
    {
     "name": "stderr",
     "output_type": "stream",
     "text": [
      "Failed to detect the name of this notebook, you can set it manually with the WANDB_NOTEBOOK_NAME environment variable to enable code saving.\n",
      "\u001b[34m\u001b[1mwandb\u001b[0m: Currently logged in as: \u001b[33mvanshg\u001b[0m. Use \u001b[1m`wandb login --relogin`\u001b[0m to force relogin\n"
     ]
    },
    {
     "data": {
      "text/plain": [
       "True"
      ]
     },
     "execution_count": 7,
     "metadata": {},
     "output_type": "execute_result"
    }
   ],
   "source": [
    "wandb.login()"
   ]
  },
  {
   "cell_type": "markdown",
   "metadata": {},
   "source": [
    "## (5.1) Multi-digit Recognition on Multi-MNIST Dataset"
   ]
  },
  {
   "cell_type": "markdown",
   "metadata": {},
   "source": [
    "### (5.1.0) Data Loading, Preprocessing and Visualization"
   ]
  },
  {
   "cell_type": "code",
   "execution_count": 8,
   "metadata": {},
   "outputs": [
    {
     "name": "stdout",
     "output_type": "stream",
     "text": [
      "Shape of Training data: torch.Size([58000, 1, 64, 64])\n",
      "Shape of Validation data: torch.Size([14000, 1, 64, 64])\n",
      "Shape of Testing Data: torch.Size([18000, 1, 64, 64])\n"
     ]
    }
   ],
   "source": [
    "DOUBLE_MNIST_FOLDER = os.path.join(DATA_FOLDER, \"DOUBLE_MNIST\")\n",
    "\n",
    "train_images = []\n",
    "train_labels = []\n",
    "val_images = []\n",
    "val_labels = []\n",
    "test_images = []\n",
    "test_labels = []\n",
    "\n",
    "forbidden_labels = [11 * i for i in range(10)]\n",
    "\n",
    "# Saving path of all images in train set\n",
    "for img_folder in glob.glob(os.path.join(DOUBLE_MNIST_FOLDER, \"train/*\")):\n",
    "    label = int(os.path.basename(img_folder))\n",
    "    if label in forbidden_labels:\n",
    "        continue\n",
    "    for img_file in glob.glob(os.path.join(img_folder, \"*\")):\n",
    "        image = torchvision.io.read_image(img_file)\n",
    "        train_labels.append(label)\n",
    "        train_images.append(image)\n",
    "\n",
    "# Saving path of all images in val set\n",
    "for img_folder in glob.glob(os.path.join(DOUBLE_MNIST_FOLDER, \"val/*\")):\n",
    "    label = int(os.path.basename(img_folder))\n",
    "    if label in forbidden_labels:\n",
    "        continue\n",
    "    for img_file in glob.glob(os.path.join(img_folder, \"*\")):\n",
    "        image = torchvision.io.read_image(img_file)\n",
    "        val_labels.append(label)\n",
    "        val_images.append(image)\n",
    "\n",
    "# Saving path of all images in test set\n",
    "for img_folder in glob.glob(os.path.join(DOUBLE_MNIST_FOLDER, \"test/*\")):\n",
    "    label = int(os.path.basename(img_folder))\n",
    "    if label in forbidden_labels:\n",
    "        continue\n",
    "    for img_file in glob.glob(os.path.join(img_folder, \"*\")):\n",
    "        image = torchvision.io.read_image(img_file)\n",
    "        test_labels.append(label)\n",
    "        test_images.append(image)\n",
    "\n",
    "train_images = torch.stack(train_images, dim=0)\n",
    "val_images = torch.stack(val_images, dim=0)\n",
    "test_images = torch.stack(test_images, dim=0)\n",
    "\n",
    "print(f\"Shape of Training data: {train_images.shape}\")\n",
    "print(f\"Shape of Validation data: {val_images.shape}\")\n",
    "print(f\"Shape of Testing Data: {test_images.shape}\")"
   ]
  },
  {
   "cell_type": "code",
   "execution_count": 9,
   "metadata": {},
   "outputs": [],
   "source": [
    "# Pre-processing and creating a Pytorch Tensor Dataset\n",
    "def convert_to_onehot(label):\n",
    "    one_hot_label = torch.zeros(10)\n",
    "    first_digit = label % 10\n",
    "    one_hot_label[first_digit] = 1.0\n",
    "    label = label // 10\n",
    "    if label:\n",
    "        second_digit = label % 10\n",
    "        one_hot_label[second_digit] = 1.0\n",
    "    else:\n",
    "        one_hot_label[0] = 1.0\n",
    "    \n",
    "    return one_hot_label\n",
    "\n",
    "def onehot_to_number(onehot_label):\n",
    "    number = 0\n",
    "    for i, num in enumerate(onehot_label[1:]):\n",
    "        if num:\n",
    "            number = number * 10 + num *  (i + 1)\n",
    "    \n",
    "    if onehot_label[0]:\n",
    "        number = number * 10\n",
    "    \n",
    "    return int(number)\n",
    "\n",
    "train_dataset = DoubleMNIST(train_images, train_labels, target_transform=convert_to_onehot)\n",
    "val_dataset = DoubleMNIST(val_images, val_labels, target_transform=convert_to_onehot)\n",
    "test_dataset = DoubleMNIST(test_images, test_labels, target_transform=convert_to_onehot)"
   ]
  },
  {
   "cell_type": "code",
   "execution_count": 10,
   "metadata": {},
   "outputs": [
    {
     "name": "stdout",
     "output_type": "stream",
     "text": [
      "tensor([10, 12, 13, 14, 15, 16, 18, 19, 20, 23, 24, 26, 27, 28, 29, 30, 34, 35,\n",
      "        36, 37, 38, 40, 45, 47, 48, 49, 50, 56, 57, 58, 59, 60, 67, 69, 70, 78,\n",
      "        79, 80, 89, 90])\n"
     ]
    }
   ],
   "source": [
    "y_values = []\n",
    "for x, y in train_dataset:\n",
    "    y_values.append(onehot_to_number(y))\n",
    "\n",
    "y_values = torch.tensor(y_values)\n",
    "train_classes = torch.unique(y_values)\n",
    "print(train_classes)"
   ]
  },
  {
   "cell_type": "code",
   "execution_count": 11,
   "metadata": {},
   "outputs": [
    {
     "data": {
      "image/png": "[encoded data removed]",
      "text/plain": [
       "<Figure size 2000x1200 with 32 Axes>"
      ]
     },
     "metadata": {},
     "output_type": "display_data"
    }
   ],
   "source": [
    "# Visualizing Images\n",
    "num_display = 32\n",
    "indices = np.random.choice(np.arange(len(train_dataset)), num_display)\n",
    "\n",
    "plots_per_row = 8\n",
    "num_rows = num_display // plots_per_row\n",
    "if num_display % plots_per_row:\n",
    "    num_rows += 1\n",
    "\n",
    "fig, axs = plt.subplots(num_rows, plots_per_row, figsize=(20, 12))\n",
    "axs = axs.flatten()\n",
    "\n",
    "for i, idx in enumerate(indices):\n",
    "    image, label = train_dataset[idx]\n",
    "    label = onehot_to_number(label)\n",
    "    axs[i].set_title(f\"Label: {label}\")\n",
    "    axs[i].axis('off')\n",
    "    axs[i].imshow(image.squeeze(), cmap='gray')\n",
    "\n",
    "plt.show()"
   ]
  },
  {
   "cell_type": "markdown",
   "metadata": {},
   "source": [
    "### (5.1.1) MLP on DoubleMnist"
   ]
  },
  {
   "cell_type": "code",
   "execution_count": 47,
   "metadata": {},
   "outputs": [
    {
     "name": "stdout",
     "output_type": "stream",
     "text": [
      "\n",
      "Model is on device: cuda\n",
      "\n",
      "Number of Iterations Per Epoch: 580\n",
      "Iteration: 1/11600 | loss = 0.6960338950157166\n",
      "Iteration: 250/11600 | loss = 0.392140656709671\n",
      "Iteration: 500/11600 | loss = 0.3577534258365631\n",
      "Epoch: 1 | Train Accuracy: 9.293 | Val Accuracy: 1.400|  Train loss: 0.3394 | Val loss: 0.4802\n",
      "\n",
      "Iteration: 750/11600 | loss = 0.353179007768631\n",
      "Iteration: 1000/11600 | loss = 0.3120650351047516\n",
      "Epoch: 2 | Train Accuracy: 16.603 | Val Accuracy: 2.986|  Train loss: 0.2872 | Val loss: 0.4918\n",
      "\n",
      "Iteration: 1250/11600 | loss = 0.27855196595191956\n",
      "Iteration: 1500/11600 | loss = 0.2803225815296173\n",
      "Epoch: 3 | Train Accuracy: 19.617 | Val Accuracy: 3.271|  Train loss: 0.2646 | Val loss: 0.4936\n",
      "\n",
      "Iteration: 1750/11600 | loss = 0.25538334250450134\n",
      "Iteration: 2000/11600 | loss = 0.29189175367355347\n",
      "Iteration: 2250/11600 | loss = 0.2749367356300354\n",
      "Epoch: 4 | Train Accuracy: 24.083 | Val Accuracy: 3.064|  Train loss: 0.2462 | Val loss: 0.4991\n",
      "\n",
      "Iteration: 2500/11600 | loss = 0.22842666506767273\n",
      "Iteration: 2750/11600 | loss = 0.2790829539299011\n",
      "Epoch: 5 | Train Accuracy: 28.953 | Val Accuracy: 3.793|  Train loss: 0.2387 | Val loss: 0.5088\n",
      "\n",
      "Iteration: 3000/11600 | loss = 0.2679876983165741\n",
      "Iteration: 3250/11600 | loss = 0.21397317945957184\n",
      "Epoch: 6 | Train Accuracy: 30.264 | Val Accuracy: 3.593|  Train loss: 0.2232 | Val loss: 0.5227\n",
      "\n",
      "Iteration: 3500/11600 | loss = 0.18531827628612518\n",
      "Iteration: 3750/11600 | loss = 0.23344013094902039\n",
      "Iteration: 4000/11600 | loss = 0.23081043362617493\n",
      "Epoch: 7 | Train Accuracy: 32.671 | Val Accuracy: 4.029|  Train loss: 0.2196 | Val loss: 0.5557\n",
      "\n",
      "Iteration: 4250/11600 | loss = 0.22568243741989136\n",
      "Iteration: 4500/11600 | loss = 0.26508429646492004\n",
      "Epoch: 8 | Train Accuracy: 34.221 | Val Accuracy: 3.579|  Train loss: 0.2121 | Val loss: 0.5864\n",
      "\n",
      "Iteration: 4750/11600 | loss = 0.2470642775297165\n",
      "Iteration: 5000/11600 | loss = 0.2441226691007614\n",
      "Epoch: 9 | Train Accuracy: 33.816 | Val Accuracy: 4.357|  Train loss: 0.2107 | Val loss: 0.5691\n",
      "\n",
      "Iteration: 5250/11600 | loss = 0.20817314088344574\n",
      "Iteration: 5500/11600 | loss = 0.23410330712795258\n",
      "Iteration: 5750/11600 | loss = 0.21111316978931427\n",
      "Epoch: 10 | Train Accuracy: 38.055 | Val Accuracy: 3.736|  Train loss: 0.1970 | Val loss: 0.5980\n",
      "\n",
      "Iteration: 6000/11600 | loss = 0.215709388256073\n",
      "Iteration: 6250/11600 | loss = 0.23384833335876465\n",
      "Epoch: 11 | Train Accuracy: 40.045 | Val Accuracy: 3.836|  Train loss: 0.1934 | Val loss: 0.6131\n",
      "\n",
      "Iteration: 6500/11600 | loss = 0.16705499589443207\n",
      "Iteration: 6750/11600 | loss = 0.23471201956272125\n",
      "Epoch: 12 | Train Accuracy: 39.017 | Val Accuracy: 4.043|  Train loss: 0.1928 | Val loss: 0.6435\n",
      "\n",
      "Iteration: 7000/11600 | loss = 0.21287919580936432\n",
      "Iteration: 7250/11600 | loss = 0.18822705745697021\n",
      "Iteration: 7500/11600 | loss = 0.2126380205154419\n",
      "Epoch: 13 | Train Accuracy: 42.772 | Val Accuracy: 3.736|  Train loss: 0.1874 | Val loss: 0.6775\n",
      "\n",
      "Iteration: 7750/11600 | loss = 0.22189222276210785\n",
      "Iteration: 8000/11600 | loss = 0.22015394270420074\n",
      "Epoch: 14 | Train Accuracy: 41.217 | Val Accuracy: 4.479|  Train loss: 0.1842 | Val loss: 0.6565\n",
      "\n",
      "Iteration: 8250/11600 | loss = 0.18031318485736847\n",
      "Iteration: 8500/11600 | loss = 0.20956571400165558\n",
      "Epoch: 15 | Train Accuracy: 43.790 | Val Accuracy: 3.736|  Train loss: 0.1787 | Val loss: 0.6788\n",
      "\n",
      "Iteration: 8750/11600 | loss = 0.18244412541389465\n",
      "Iteration: 9000/11600 | loss = 0.16534316539764404\n",
      "Iteration: 9250/11600 | loss = 0.18853120505809784\n",
      "Epoch: 16 | Train Accuracy: 44.293 | Val Accuracy: 3.657|  Train loss: 0.1719 | Val loss: 0.7142\n",
      "\n",
      "Iteration: 9500/11600 | loss = 0.16833600401878357\n",
      "Iteration: 9750/11600 | loss = 0.1610463708639145\n",
      "Epoch: 17 | Train Accuracy: 45.590 | Val Accuracy: 4.421|  Train loss: 0.1693 | Val loss: 0.6939\n",
      "\n",
      "Iteration: 10000/11600 | loss = 0.187485471367836\n",
      "Iteration: 10250/11600 | loss = 0.18324518203735352\n",
      "Epoch: 18 | Train Accuracy: 46.516 | Val Accuracy: 3.043|  Train loss: 0.1677 | Val loss: 0.7759\n",
      "\n",
      "Iteration: 10500/11600 | loss = 0.15466149151325226\n",
      "Iteration: 10750/11600 | loss = 0.16057628393173218\n",
      "Iteration: 11000/11600 | loss = 0.1715172529220581\n",
      "Epoch: 19 | Train Accuracy: 47.462 | Val Accuracy: 3.786|  Train loss: 0.1626 | Val loss: 0.7516\n",
      "\n",
      "Iteration: 11250/11600 | loss = 0.16767661273479462\n",
      "Iteration: 11500/11600 | loss = 0.18594452738761902\n",
      "Epoch: 20 | Train Accuracy: 48.048 | Val Accuracy: 3.300|  Train loss: 0.1614 | Val loss: 0.7850\n",
      "\n",
      "\n",
      "BEST VAL ACCURACY : 4.4786 | Best Epoch: 14 | Val loss: 0.6565\n"
     ]
    }
   ],
   "source": [
    "torch.manual_seed(42)\n",
    "mlp_model = SimpleMLP(input_dim=64*64, hidden_dims=[1024], num_classes=10, flatten_first=True)\n",
    "criterion = nn.BCEWithLogitsLoss()\n",
    "optimizer = optim.Adam(mlp_model.parameters(), lr=0.01)\n",
    "\n",
    "train_config = {\n",
    "    \"device\": device,\n",
    "    \"epochs\": 20,\n",
    "    \"print_every\": 250,\n",
    "    \"argmax\": False\n",
    "}\n",
    "\n",
    "_ = train(mlp_model, criterion, optimizer, train_dataset, val_dataset, **train_config)"
   ]
  },
  {
   "cell_type": "code",
   "execution_count": 13,
   "metadata": {},
   "outputs": [
    {
     "name": "stdout",
     "output_type": "stream",
     "text": [
      "Test Accuracy: 4.5778 | Test Loss: 4.2048\n"
     ]
    }
   ],
   "source": [
    "eval_config = {\n",
    "    \"device\": device,\n",
    "    \"argmax\": False\n",
    "}\n",
    "\n",
    "test_acc, test_loss = evaluate(mlp_model, test_dataset, **eval_config)\n",
    "print(f\"Test Accuracy: {test_acc*100:.4f} | Test Loss: {test_loss:.4f}\")"
   ]
  },
  {
   "cell_type": "markdown",
   "metadata": {},
   "source": [
    "#### (5.1.1.2) - Hyper-parameter Tuning with Wandb"
   ]
  },
  {
   "cell_type": "code",
   "execution_count": 32,
   "metadata": {},
   "outputs": [
    {
     "name": "stdout",
     "output_type": "stream",
     "text": [
      "Model Type: MLP\n",
      "SimpleMLP(\n",
      "  (linears): ModuleList(\n",
      "    (0): Linear(in_features=4096, out_features=1024, bias=True)\n",
      "    (1): ReLU()\n",
      "    (2): Linear(in_features=1024, out_features=10, bias=True)\n",
      "    (3): Sigmoid()\n",
      "  )\n",
      ")\n",
      "\n",
      "Model is on device: cuda\n",
      "\n",
      "Number of Iterations Per Epoch: 454\n",
      "Iteration: 1/4540 | loss = 0.6962\n",
      "Iteration: 250/4540 | loss = 0.3965\n",
      "Epoch: 1 | Train Accuracy: 11.938 | Val Accuracy: 2.907|  Train loss: 15.1309 | Val loss: 17.5471\n",
      "\n",
      "Iteration: 500/4540 | loss = 0.3559\n",
      "Iteration: 750/4540 | loss = 0.3330\n",
      "Epoch: 2 | Train Accuracy: 19.728 | Val Accuracy: 5.964|  Train loss: 12.5688 | Val loss: 16.5821\n",
      "\n",
      "Iteration: 1000/4540 | loss = 0.3070\n",
      "Iteration: 1250/4540 | loss = 0.3168\n",
      "Epoch: 3 | Train Accuracy: 23.967 | Val Accuracy: 6.229|  Train loss: 11.6688 | Val loss: 16.8943\n",
      "\n",
      "Iteration: 1500/4540 | loss = 0.2961\n",
      "Iteration: 1750/4540 | loss = 0.2949\n",
      "Epoch: 4 | Train Accuracy: 27.338 | Val Accuracy: 6.293|  Train loss: 11.1791 | Val loss: 16.7679\n",
      "\n",
      "Iteration: 2000/4540 | loss = 0.2704\n",
      "Iteration: 2250/4540 | loss = 0.2670\n",
      "Epoch: 5 | Train Accuracy: 30.393 | Val Accuracy: 4.693|  Train loss: 10.6022 | Val loss: 17.3964\n",
      "\n",
      "Iteration: 2500/4540 | loss = 0.2610\n",
      "Epoch: 6 | Train Accuracy: 32.429 | Val Accuracy: 5.336|  Train loss: 9.9419 | Val loss: 17.0300\n",
      "\n",
      "Iteration: 2750/4540 | loss = 0.2654\n",
      "Iteration: 3000/4540 | loss = 0.2527\n",
      "Epoch: 7 | Train Accuracy: 33.964 | Val Accuracy: 4.793|  Train loss: 9.8176 | Val loss: 17.5157\n",
      "\n",
      "Iteration: 3250/4540 | loss = 0.2423\n",
      "Iteration: 3500/4540 | loss = 0.2629\n",
      "Epoch: 8 | Train Accuracy: 34.583 | Val Accuracy: 5.057|  Train loss: 9.4819 | Val loss: 16.8264\n",
      "\n",
      "Iteration: 3750/4540 | loss = 0.2343\n",
      "Iteration: 4000/4540 | loss = 0.2340\n",
      "Epoch: 9 | Train Accuracy: 35.653 | Val Accuracy: 4.300|  Train loss: 9.5145 | Val loss: 17.3400\n",
      "\n",
      "Iteration: 4250/4540 | loss = 0.2478\n",
      "Iteration: 4500/4540 | loss = 0.2339\n",
      "Epoch: 10 | Train Accuracy: 37.800 | Val Accuracy: 5.086|  Train loss: 8.9834 | Val loss: 17.3336\n",
      "\n",
      "\n",
      "BEST VAL ACCURACY : 6.2929 | Best Epoch: 4 | Val loss: 16.7679\n"
     ]
    }
   ],
   "source": [
    "# testing out sweep using a single config\n",
    "config = {\n",
    "    \"method\": \"grid\",\n",
    "    \"name\": \"sgd-grid-search\",\n",
    "    \"parameters\": {\n",
    "        \"criterion\": \"BCE\",\n",
    "        \"model\": {\n",
    "            \"input_dim\":64*64,\n",
    "            \"num_layers\": 1,\n",
    "            \"hidden_dims1\": 1024,\n",
    "            \"num_classes\": 10,\n",
    "            \"last_activation\": \"sigmoid\",\n",
    "            \"flatten_first\": True\n",
    "        },\n",
    "        \"optimizer\": {\n",
    "            \"learning_rate\": 0.01,\n",
    "        },\n",
    "        \"training\": {\n",
    "            \"batch_size\": 128,\n",
    "            \"epochs\": 10,\n",
    "            \"print_every\": 100,\n",
    "            # \"log_wandb\": True,\n",
    "            \"verbose\": True,\n",
    "            \"print_every\": 250,\n",
    "            \"argmax\": False\n",
    "        }\n",
    "    }\n",
    "}\n",
    "\n",
    "model = trigger_training(config[\"parameters\"], train_dataset, val_dataset)"
   ]
  },
  {
   "cell_type": "code",
   "execution_count": 33,
   "metadata": {},
   "outputs": [],
   "source": [
    "def sweep_agent_manager():\n",
    "    global train_dataset, val_dataset\n",
    "    run = wandb.init()\n",
    "    config = re_nest_config(dict(wandb.config))\n",
    "\n",
    "    # setting the wandb run name for the current config\n",
    "    model_type = get_model_type(config[\"model\"])\n",
    "    if model_type == \"CNN\":\n",
    "        run_name = make_wandb_run_name_cnn(config)\n",
    "    elif model_type == \"MLP\":\n",
    "        run_name = make_wandb_run_name_mlp(config)\n",
    "    else:\n",
    "        return\n",
    "    print(f\"Run Name: {run_name}\")\n",
    "    run.name = run_name\n",
    "\n",
    "    # start the training\n",
    "    trigger_training(config, train_dataset, val_dataset)"
   ]
  },
  {
   "cell_type": "code",
   "execution_count": 34,
   "metadata": {},
   "outputs": [
    {
     "name": "stdout",
     "output_type": "stream",
     "text": [
      "{'method': 'grid', 'project': 'smai-assignment3-task5', 'name': 'multi-mnist-single-layer', 'parameters': {'criterion': {'value': 'BCE'}, 'model.input_dim': {'value': 4096}, 'model.num_layers': {'value': 1}, 'model.hidden_dims1': {'values': [2048, 1024, 512]}, 'model.num_classes': {'value': 10}, 'model.last_activation': {'value': 'sigmoid'}, 'model.flatten_first': {'value': True}, 'optimizer.learning_rate': {'values': [0.01, 0.001, 0.0005]}, 'training.batch_size': {'values': [64, 128, 256]}, 'training.epochs': {'value': 10}, 'training.log_wandb': {'value': True}, 'training.verbose': {'value': True}, 'training.print_every': {'value': 250}, 'training.argmax': {'value': False}}}\n"
     ]
    }
   ],
   "source": [
    "f = open(os.path.join(YAML_FOLDER, \"task-5.1.1/multi-mnist-single-layer.yaml\"), \"r\")\n",
    "\n",
    "sweep_configuration = yaml.safe_load(f)\n",
    "print(sweep_configuration)"
   ]
  },
  {
   "cell_type": "code",
   "execution_count": 35,
   "metadata": {},
   "outputs": [
    {
     "name": "stdout",
     "output_type": "stream",
     "text": [
      "Create sweep with ID: y1ci8mik\n",
      "Sweep URL: https://wandb.ai/vanshg/smai-assignment3-task5/sweeps/y1ci8mik\n"
     ]
    }
   ],
   "source": [
    "sweep_id = wandb.sweep(sweep=sweep_configuration, project=\"smai-assignment3-task5\")"
   ]
  },
  {
   "cell_type": "code",
   "execution_count": null,
   "metadata": {},
   "outputs": [
    {
     "name": "stderr",
     "output_type": "stream",
     "text": [
      "\u001b[34m\u001b[1mwandb\u001b[0m: Agent Starting Run: kp425k2m with config:\n",
      "\u001b[34m\u001b[1mwandb\u001b[0m: \tcriterion: BCE\n",
      "\u001b[34m\u001b[1mwandb\u001b[0m: \tmodel.flatten_first: True\n",
      "\u001b[34m\u001b[1mwandb\u001b[0m: \tmodel.hidden_dims1: 2048\n",
      "\u001b[34m\u001b[1mwandb\u001b[0m: \tmodel.input_dim: 4096\n",
      "\u001b[34m\u001b[1mwandb\u001b[0m: \tmodel.last_activation: sigmoid\n",
      "\u001b[34m\u001b[1mwandb\u001b[0m: \tmodel.num_classes: 10\n",
      "\u001b[34m\u001b[1mwandb\u001b[0m: \tmodel.num_layers: 1\n",
      "\u001b[34m\u001b[1mwandb\u001b[0m: \toptimizer.learning_rate: 0.01\n",
      "\u001b[34m\u001b[1mwandb\u001b[0m: \ttraining.argmax: False\n",
      "\u001b[34m\u001b[1mwandb\u001b[0m: \ttraining.batch_size: 64\n",
      "\u001b[34m\u001b[1mwandb\u001b[0m: \ttraining.epochs: 10\n",
      "\u001b[34m\u001b[1mwandb\u001b[0m: \ttraining.log_wandb: True\n",
      "\u001b[34m\u001b[1mwandb\u001b[0m: \ttraining.print_every: 250\n",
      "\u001b[34m\u001b[1mwandb\u001b[0m: \ttraining.verbose: True\n",
      "Failed to detect the name of this notebook, you can set it manually with the WANDB_NOTEBOOK_NAME environment variable to enable code saving.\n"
     ]
    },
    {
     "data": {
      "text/html": [
       "Tracking run with wandb version 0.15.12"
      ],
      "text/plain": [
       "<IPython.core.display.HTML object>"
      ]
     },
     "metadata": {},
     "output_type": "display_data"
    },
    {
     "data": {
      "text/html": [
       "Run data is saved locally in <code>/home/vanshg/play/IIIITH/sem5/smai/assignments/assignment-3-fine-man/wandb/run-20231025_135341-kp425k2m</code>"
      ],
      "text/plain": [
       "<IPython.core.display.HTML object>"
      ]
     },
     "metadata": {},
     "output_type": "display_data"
    },
    {
     "data": {
      "text/html": [
       "Syncing run <strong><a href='https://wandb.ai/vanshg/smai-assignment3-task5/runs/kp425k2m' target=\"_blank\">zany-sweep-1</a></strong> to <a href='https://wandb.ai/vanshg/smai-assignment3-task5' target=\"_blank\">Weights & Biases</a> (<a href='https://wandb.me/run' target=\"_blank\">docs</a>)<br/>Sweep page: <a href='https://wandb.ai/vanshg/smai-assignment3-task5/sweeps/y1ci8mik' target=\"_blank\">https://wandb.ai/vanshg/smai-assignment3-task5/sweeps/y1ci8mik</a>"
      ],
      "text/plain": [
       "<IPython.core.display.HTML object>"
      ]
     },
     "metadata": {},
     "output_type": "display_data"
    },
    {
     "data": {
      "text/html": [
       " View project at <a href='https://wandb.ai/vanshg/smai-assignment3-task5' target=\"_blank\">https://wandb.ai/vanshg/smai-assignment3-task5</a>"
      ],
      "text/plain": [
       "<IPython.core.display.HTML object>"
      ]
     },
     "metadata": {},
     "output_type": "display_data"
    },
    {
     "data": {
      "text/html": [
       " View sweep at <a href='https://wandb.ai/vanshg/smai-assignment3-task5/sweeps/y1ci8mik' target=\"_blank\">https://wandb.ai/vanshg/smai-assignment3-task5/sweeps/y1ci8mik</a>"
      ],
      "text/plain": [
       "<IPython.core.display.HTML object>"
      ]
     },
     "metadata": {},
     "output_type": "display_data"
    },
    {
     "data": {
      "text/html": [
       " View run at <a href='https://wandb.ai/vanshg/smai-assignment3-task5/runs/kp425k2m' target=\"_blank\">https://wandb.ai/vanshg/smai-assignment3-task5/runs/kp425k2m</a>"
      ],
      "text/plain": [
       "<IPython.core.display.HTML object>"
      ]
     },
     "metadata": {},
     "output_type": "display_data"
    },
    {
     "name": "stdout",
     "output_type": "stream",
     "text": [
      "Run Name: H2048-lr0.01-batch64\n",
      "Model Type: MLP\n",
      "SimpleMLP(\n",
      "  (linears): ModuleList(\n",
      "    (0): Linear(in_features=4096, out_features=2048, bias=True)\n",
      "    (1): ReLU()\n",
      "    (2): Linear(in_features=2048, out_features=10, bias=True)\n",
      "    (3): Sigmoid()\n",
      "  )\n",
      ")\n",
      "\n",
      "Model is on device: cuda\n",
      "\n",
      "Number of Iterations Per Epoch: 907\n",
      "Iteration: 1/9070 | loss = 0.6934\n",
      "Iteration: 250/9070 | loss = 0.4200\n",
      "Iteration: 500/9070 | loss = 0.4453\n",
      "Iteration: 750/9070 | loss = 0.3919\n",
      "Epoch: 1 | Train Accuracy: 6.478 | Val Accuracy: 1.779|  Train loss: 15.7500 | Val loss: 17.3993\n",
      "\n",
      "Iteration: 1000/9070 | loss = 0.3797\n",
      "Iteration: 1250/9070 | loss = 0.3724\n",
      "Iteration: 1500/9070 | loss = 0.3818\n",
      "Iteration: 1750/9070 | loss = 0.3278\n",
      "Epoch: 2 | Train Accuracy: 10.984 | Val Accuracy: 2.421|  Train loss: 14.3202 | Val loss: 17.0793\n",
      "\n",
      "Iteration: 2000/9070 | loss = 0.3259\n",
      "Iteration: 2250/9070 | loss = 0.3541\n",
      "Iteration: 2500/9070 | loss = 0.3276\n",
      "Epoch: 3 | Train Accuracy: 15.710 | Val Accuracy: 2.936|  Train loss: 13.6540 | Val loss: 17.4943\n",
      "\n",
      "Iteration: 2750/9070 | loss = 0.3291\n",
      "Iteration: 3000/9070 | loss = 0.3319\n",
      "Iteration: 3250/9070 | loss = 0.3590\n",
      "Iteration: 3500/9070 | loss = 0.3410\n",
      "Epoch: 4 | Train Accuracy: 17.603 | Val Accuracy: 2.929|  Train loss: 12.9909 | Val loss: 17.6121\n",
      "\n",
      "Iteration: 3750/9070 | loss = 0.3127\n",
      "Iteration: 4000/9070 | loss = 0.3084\n",
      "Iteration: 4250/9070 | loss = 0.3130\n",
      "Iteration: 4500/9070 | loss = 0.3337\n",
      "Epoch: 5 | Train Accuracy: 18.369 | Val Accuracy: 2.000|  Train loss: 12.8910 | Val loss: 17.4236\n",
      "\n",
      "Iteration: 4750/9070 | loss = 0.3416\n",
      "Iteration: 5000/9070 | loss = 0.2702\n",
      "Iteration: 5250/9070 | loss = 0.3172\n",
      "Epoch: 6 | Train Accuracy: 20.567 | Val Accuracy: 2.593|  Train loss: 12.2552 | Val loss: 17.2171\n",
      "\n",
      "Iteration: 5500/9070 | loss = 0.2776\n",
      "Iteration: 5750/9070 | loss = 0.2710\n",
      "Iteration: 6000/9070 | loss = 0.2901\n",
      "Iteration: 6250/9070 | loss = 0.3248\n",
      "Epoch: 7 | Train Accuracy: 22.379 | Val Accuracy: 2.464|  Train loss: 11.8391 | Val loss: 17.4700\n",
      "\n",
      "Iteration: 6500/9070 | loss = 0.2766\n",
      "Iteration: 6750/9070 | loss = 0.2634\n",
      "Iteration: 7000/9070 | loss = 0.2649\n",
      "Iteration: 7250/9070 | loss = 0.2708\n",
      "Epoch: 8 | Train Accuracy: 23.598 | Val Accuracy: 2.336|  Train loss: 11.6928 | Val loss: 17.7336\n",
      "\n",
      "Iteration: 7500/9070 | loss = 0.2931\n",
      "Iteration: 7750/9070 | loss = 0.2672\n",
      "Iteration: 8000/9070 | loss = 0.3028\n",
      "Epoch: 9 | Train Accuracy: 24.336 | Val Accuracy: 3.314|  Train loss: 11.5014 | Val loss: 17.6093\n",
      "\n",
      "Iteration: 8250/9070 | loss = 0.2486\n",
      "Iteration: 8500/9070 | loss = 0.2597\n",
      "Iteration: 8750/9070 | loss = 0.2777\n",
      "Iteration: 9000/9070 | loss = 0.3145\n",
      "Epoch: 10 | Train Accuracy: 24.557 | Val Accuracy: 2.279|  Train loss: 11.5062 | Val loss: 17.8479\n",
      "\n",
      "\n",
      "BEST VAL ACCURACY : 3.3143 | Best Epoch: 9 | Val loss: 17.6093\n"
     ]
    },
    {
     "data": {
      "text/html": [
       "Waiting for W&B process to finish... <strong style=\"color:green\">(success).</strong>"
      ],
      "text/plain": [
       "<IPython.core.display.HTML object>"
      ]
     },
     "metadata": {},
     "output_type": "display_data"
    },
    {
     "data": {
      "text/html": [
       "<style>\n",
       "    table.wandb td:nth-child(1) { padding: 0 10px; text-align: left ; width: auto;} td:nth-child(2) {text-align: left ; width: 100%}\n",
       "    .wandb-row { display: flex; flex-direction: row; flex-wrap: wrap; justify-content: flex-start; width: 100% }\n",
       "    .wandb-col { display: flex; flex-direction: column; flex-basis: 100%; flex: 1; padding: 10px; }\n",
       "    </style>\n",
       "<div class=\"wandb-row\"><div class=\"wandb-col\"><h3>Run history:</h3><br/><table class=\"wandb\"><tr><td>best_epoch</td><td>▁</td></tr><tr><td>best_val_acc</td><td>▁</td></tr><tr><td>best_val_loss</td><td>▁</td></tr><tr><td>epoch</td><td>▁▂▃▃▄▅▆▆▇█</td></tr><tr><td>train_acc</td><td>▁▃▅▅▆▆▇███</td></tr><tr><td>train_loss</td><td>█▆▅▃▃▂▂▁▁▁</td></tr><tr><td>val_acc</td><td>▁▄▆▆▂▅▄▄█▃</td></tr><tr><td>val_loss</td><td>▄▁▅▆▄▂▅▇▆█</td></tr></table><br/></div><div class=\"wandb-col\"><h3>Run summary:</h3><br/><table class=\"wandb\"><tr><td>best_epoch</td><td>9</td></tr><tr><td>best_val_acc</td><td>0.03314</td></tr><tr><td>best_val_loss</td><td>17.60929</td></tr><tr><td>epoch</td><td>10</td></tr><tr><td>train_acc</td><td>0.24557</td></tr><tr><td>train_loss</td><td>11.50621</td></tr><tr><td>val_acc</td><td>0.02279</td></tr><tr><td>val_loss</td><td>17.84786</td></tr></table><br/></div></div>"
      ],
      "text/plain": [
       "<IPython.core.display.HTML object>"
      ]
     },
     "metadata": {},
     "output_type": "display_data"
    },
    {
     "data": {
      "text/html": [
       " View run <strong style=\"color:#cdcd00\">zany-sweep-1</strong> at: <a href='https://wandb.ai/vanshg/smai-assignment3-task5/runs/kp425k2m' target=\"_blank\">https://wandb.ai/vanshg/smai-assignment3-task5/runs/kp425k2m</a><br/>Synced 6 W&B file(s), 0 media file(s), 0 artifact file(s) and 0 other file(s)"
      ],
      "text/plain": [
       "<IPython.core.display.HTML object>"
      ]
     },
     "metadata": {},
     "output_type": "display_data"
    },
    {
     "data": {
      "text/html": [
       "Find logs at: <code>./wandb/run-20231025_135341-kp425k2m/logs</code>"
      ],
      "text/plain": [
       "<IPython.core.display.HTML object>"
      ]
     },
     "metadata": {},
     "output_type": "display_data"
    },
    {
     "name": "stderr",
     "output_type": "stream",
     "text": [
      "\u001b[34m\u001b[1mwandb\u001b[0m: Agent Starting Run: axiaf68e with config:\n",
      "\u001b[34m\u001b[1mwandb\u001b[0m: \tcriterion: BCE\n",
      "\u001b[34m\u001b[1mwandb\u001b[0m: \tmodel.flatten_first: True\n",
      "\u001b[34m\u001b[1mwandb\u001b[0m: \tmodel.hidden_dims1: 2048\n",
      "\u001b[34m\u001b[1mwandb\u001b[0m: \tmodel.input_dim: 4096\n",
      "\u001b[34m\u001b[1mwandb\u001b[0m: \tmodel.last_activation: sigmoid\n",
      "\u001b[34m\u001b[1mwandb\u001b[0m: \tmodel.num_classes: 10\n",
      "\u001b[34m\u001b[1mwandb\u001b[0m: \tmodel.num_layers: 1\n",
      "\u001b[34m\u001b[1mwandb\u001b[0m: \toptimizer.learning_rate: 0.01\n",
      "\u001b[34m\u001b[1mwandb\u001b[0m: \ttraining.argmax: False\n",
      "\u001b[34m\u001b[1mwandb\u001b[0m: \ttraining.batch_size: 128\n",
      "\u001b[34m\u001b[1mwandb\u001b[0m: \ttraining.epochs: 10\n",
      "\u001b[34m\u001b[1mwandb\u001b[0m: \ttraining.log_wandb: True\n",
      "\u001b[34m\u001b[1mwandb\u001b[0m: \ttraining.print_every: 250\n",
      "\u001b[34m\u001b[1mwandb\u001b[0m: \ttraining.verbose: True\n",
      "Failed to detect the name of this notebook, you can set it manually with the WANDB_NOTEBOOK_NAME environment variable to enable code saving.\n",
      "\u001b[34m\u001b[1mwandb\u001b[0m: Ctrl + C detected. Stopping sweep.\n"
     ]
    },
    {
     "data": {
      "text/html": [
       "Tracking run with wandb version 0.15.12"
      ],
      "text/plain": [
       "<IPython.core.display.HTML object>"
      ]
     },
     "metadata": {},
     "output_type": "display_data"
    },
    {
     "data": {
      "text/html": [
       "Run data is saved locally in <code>/home/vanshg/play/IIIITH/sem5/smai/assignments/assignment-3-fine-man/wandb/run-20231025_135512-axiaf68e</code>"
      ],
      "text/plain": [
       "<IPython.core.display.HTML object>"
      ]
     },
     "metadata": {},
     "output_type": "display_data"
    },
    {
     "data": {
      "text/html": [
       "Syncing run <strong><a href='https://wandb.ai/vanshg/smai-assignment3-task5/runs/axiaf68e' target=\"_blank\">crisp-sweep-2</a></strong> to <a href='https://wandb.ai/vanshg/smai-assignment3-task5' target=\"_blank\">Weights & Biases</a> (<a href='https://wandb.me/run' target=\"_blank\">docs</a>)<br/>Sweep page: <a href='https://wandb.ai/vanshg/smai-assignment3-task5/sweeps/y1ci8mik' target=\"_blank\">https://wandb.ai/vanshg/smai-assignment3-task5/sweeps/y1ci8mik</a>"
      ],
      "text/plain": [
       "<IPython.core.display.HTML object>"
      ]
     },
     "metadata": {},
     "output_type": "display_data"
    },
    {
     "data": {
      "text/html": [
       " View project at <a href='https://wandb.ai/vanshg/smai-assignment3-task5' target=\"_blank\">https://wandb.ai/vanshg/smai-assignment3-task5</a>"
      ],
      "text/plain": [
       "<IPython.core.display.HTML object>"
      ]
     },
     "metadata": {},
     "output_type": "display_data"
    },
    {
     "data": {
      "text/html": [
       " View sweep at <a href='https://wandb.ai/vanshg/smai-assignment3-task5/sweeps/y1ci8mik' target=\"_blank\">https://wandb.ai/vanshg/smai-assignment3-task5/sweeps/y1ci8mik</a>"
      ],
      "text/plain": [
       "<IPython.core.display.HTML object>"
      ]
     },
     "metadata": {},
     "output_type": "display_data"
    },
    {
     "data": {
      "text/html": [
       " View run at <a href='https://wandb.ai/vanshg/smai-assignment3-task5/runs/axiaf68e' target=\"_blank\">https://wandb.ai/vanshg/smai-assignment3-task5/runs/axiaf68e</a>"
      ],
      "text/plain": [
       "<IPython.core.display.HTML object>"
      ]
     },
     "metadata": {},
     "output_type": "display_data"
    },
    {
     "name": "stdout",
     "output_type": "stream",
     "text": [
      "Run Name: H2048-lr0.01-batch128\n",
      "Model Type: MLP\n",
      "SimpleMLP(\n",
      "  (linears): ModuleList(\n",
      "    (0): Linear(in_features=4096, out_features=2048, bias=True)\n",
      "    (1): ReLU()\n",
      "    (2): Linear(in_features=2048, out_features=10, bias=True)\n",
      "    (3): Sigmoid()\n",
      "  )\n",
      ")\n",
      "\n",
      "Model is on device: cuda\n",
      "\n",
      "Number of Iterations Per Epoch: 454\n",
      "Iteration: 1/4540 | loss = 0.6937\n",
      "Iteration: 250/4540 | loss = 0.3939\n"
     ]
    }
   ],
   "source": [
    "wandb.agent(sweep_id=sweep_id, function=sweep_agent_manager)"
   ]
  },
  {
   "cell_type": "markdown",
   "metadata": {},
   "source": [
    "### (5.1.2) CNN on DoubleMnist"
   ]
  },
  {
   "cell_type": "code",
   "execution_count": 91,
   "metadata": {},
   "outputs": [
    {
     "name": "stdout",
     "output_type": "stream",
     "text": [
      "\n",
      "Model is on device: cuda\n",
      "\n",
      "Number of Iterations Per Epoch: 454\n",
      "Iteration: 1/9080 | loss = 0.6937\n"
     ]
    },
    {
     "name": "stdout",
     "output_type": "stream",
     "text": [
      "Iteration: 250/9080 | loss = 0.2769\n",
      "Epoch: 1 | Train Accuracy: 42.176 | Val Accuracy: 15.407|  Train loss: 0.1593 | Val loss: 0.2666\n",
      "\n",
      "Iteration: 500/9080 | loss = 0.1790\n",
      "Iteration: 750/9080 | loss = 0.1576\n",
      "Epoch: 2 | Train Accuracy: 65.157 | Val Accuracy: 29.571|  Train loss: 0.1010 | Val loss: 0.2017\n",
      "\n",
      "Iteration: 1000/9080 | loss = 0.1575\n",
      "Iteration: 1250/9080 | loss = 0.1529\n",
      "Epoch: 3 | Train Accuracy: 72.333 | Val Accuracy: 36.014|  Train loss: 0.0775 | Val loss: 0.1818\n",
      "\n",
      "Iteration: 1500/9080 | loss = 0.1217\n",
      "Iteration: 1750/9080 | loss = 0.0848\n",
      "Epoch: 4 | Train Accuracy: 77.190 | Val Accuracy: 38.721|  Train loss: 0.0663 | Val loss: 0.1772\n",
      "\n",
      "Iteration: 2000/9080 | loss = 0.0872\n",
      "Iteration: 2250/9080 | loss = 0.0820\n",
      "Epoch: 5 | Train Accuracy: 81.409 | Val Accuracy: 44.271|  Train loss: 0.0540 | Val loss: 0.1551\n",
      "\n",
      "Iteration: 2500/9080 | loss = 0.0859\n",
      "Epoch: 6 | Train Accuracy: 83.541 | Val Accuracy: 45.393|  Train loss: 0.0509 | Val loss: 0.1588\n",
      "\n",
      "Iteration: 2750/9080 | loss = 0.0885\n",
      "Iteration: 3000/9080 | loss = 0.0728\n",
      "Epoch: 7 | Train Accuracy: 85.133 | Val Accuracy: 47.657|  Train loss: 0.0433 | Val loss: 0.1485\n",
      "\n",
      "Iteration: 3250/9080 | loss = 0.0679\n",
      "Iteration: 3500/9080 | loss = 0.0800\n",
      "Epoch: 8 | Train Accuracy: 85.567 | Val Accuracy: 50.921|  Train loss: 0.0402 | Val loss: 0.1385\n",
      "\n",
      "Iteration: 3750/9080 | loss = 0.0731\n",
      "Iteration: 4000/9080 | loss = 0.0626\n",
      "Epoch: 9 | Train Accuracy: 87.862 | Val Accuracy: 49.636|  Train loss: 0.0356 | Val loss: 0.1444\n",
      "\n",
      "Iteration: 4250/9080 | loss = 0.0764\n",
      "Iteration: 4500/9080 | loss = 0.0754\n",
      "Epoch: 10 | Train Accuracy: 88.978 | Val Accuracy: 52.014|  Train loss: 0.0328 | Val loss: 0.1428\n",
      "\n",
      "Iteration: 4750/9080 | loss = 0.0673\n",
      "Epoch: 11 | Train Accuracy: 89.628 | Val Accuracy: 53.807|  Train loss: 0.0313 | Val loss: 0.1343\n",
      "\n",
      "Iteration: 5000/9080 | loss = 0.0733\n",
      "Iteration: 5250/9080 | loss = 0.0729\n",
      "Epoch: 12 | Train Accuracy: 88.998 | Val Accuracy: 53.379|  Train loss: 0.0309 | Val loss: 0.1353\n",
      "\n",
      "Iteration: 5500/9080 | loss = 0.0740\n",
      "Iteration: 5750/9080 | loss = 0.0639\n",
      "Epoch: 13 | Train Accuracy: 90.203 | Val Accuracy: 54.193|  Train loss: 0.0289 | Val loss: 0.1353\n",
      "\n",
      "Iteration: 6000/9080 | loss = 0.0696\n",
      "Iteration: 6250/9080 | loss = 0.0552\n",
      "Epoch: 14 | Train Accuracy: 90.748 | Val Accuracy: 55.921|  Train loss: 0.0271 | Val loss: 0.1307\n",
      "\n",
      "Iteration: 6500/9080 | loss = 0.0692\n",
      "Iteration: 6750/9080 | loss = 0.0710\n",
      "Epoch: 15 | Train Accuracy: 90.986 | Val Accuracy: 56.750|  Train loss: 0.0261 | Val loss: 0.1284\n",
      "\n",
      "Iteration: 7000/9080 | loss = 0.0605\n",
      "Iteration: 7250/9080 | loss = 0.0820\n",
      "Epoch: 16 | Train Accuracy: 91.528 | Val Accuracy: 54.393|  Train loss: 0.0249 | Val loss: 0.1370\n",
      "\n",
      "Iteration: 7500/9080 | loss = 0.0483\n",
      "Epoch: 17 | Train Accuracy: 91.634 | Val Accuracy: 56.507|  Train loss: 0.0241 | Val loss: 0.1270\n",
      "\n",
      "Iteration: 7750/9080 | loss = 0.0318\n",
      "Iteration: 8000/9080 | loss = 0.0452\n",
      "Epoch: 18 | Train Accuracy: 91.774 | Val Accuracy: 57.007|  Train loss: 0.0227 | Val loss: 0.1301\n",
      "\n",
      "Iteration: 8250/9080 | loss = 0.0508\n",
      "Iteration: 8500/9080 | loss = 0.0531\n",
      "Epoch: 19 | Train Accuracy: 92.255 | Val Accuracy: 57.379|  Train loss: 0.0236 | Val loss: 0.1259\n",
      "\n",
      "Iteration: 8750/9080 | loss = 0.0418\n",
      "Iteration: 9000/9080 | loss = 0.0403\n"
     ]
    }
   ],
   "source": [
    "torch.manual_seed(42)\n",
    "cnn_model = SimpleCNN(input_dim=64, num_channels=8, kernel_size=5, num_classes=10)\n",
    "criterion = nn.BCEWithLogitsLoss()\n",
    "optimizer = optim.Adam(cnn_model.parameters(), lr=0.001)\n",
    "\n",
    "train_config = {\n",
    "    \"device\": device,\n",
    "    # \"calc_accuracy\": False,\n",
    "    \"print_every\": 250,\n",
    "    \"batch_size\": 128,\n",
    "    \"epochs\": 20,\n",
    "    \"argmax\": False\n",
    "}\n",
    "\n",
    "_ = train(cnn_model, criterion, optimizer, train_dataset, val_dataset, **train_config)"
   ]
  },
  {
   "cell_type": "code",
   "execution_count": 89,
   "metadata": {},
   "outputs": [
    {
     "name": "stdout",
     "output_type": "stream",
     "text": [
      "Test Accuracy: 16.2056 | Test Loss: 0.3073\n"
     ]
    }
   ],
   "source": [
    "eval_config = {\n",
    "    \"device\": device,\n",
    "    \"argmax\": False,\n",
    "    \"criterion\": nn.BCEWithLogitsLoss(),\n",
    "}\n",
    "\n",
    "test_acc, test_loss = evaluate(cnn_model, test_dataset, **eval_config)\n",
    "print(f\"Test Accuracy: {test_acc*100:.4f} | Test Loss: {test_loss:.4f}\")"
   ]
  },
  {
   "cell_type": "markdown",
   "metadata": {},
   "source": [
    "#### (5.1.2.2) - Hyper-parameter Tuning with Wandb"
   ]
  },
  {
   "cell_type": "code",
   "execution_count": 59,
   "metadata": {},
   "outputs": [],
   "source": [
    "def sweep_agent_manager():\n",
    "    global train_dataset, val_dataset\n",
    "    run = wandb.init()\n",
    "    config = re_nest_config(dict(wandb.config))\n",
    "\n",
    "    # setting the wandb run name for the current config\n",
    "    model_type = get_model_type(config[\"model\"])\n",
    "    if model_type == \"CNN\":\n",
    "        run_name = make_wandb_run_name_cnn(config)\n",
    "    elif model_type == \"MLP\":\n",
    "        run_name = make_wandb_run_name_mlp(config)\n",
    "    else:\n",
    "        return\n",
    "    print(f\"Run Name: {run_name}\")\n",
    "    run.name = run_name\n",
    "\n",
    "    # start the training\n",
    "    trigger_training(config, train_dataset, val_dataset)"
   ]
  },
  {
   "cell_type": "code",
   "execution_count": null,
   "metadata": {},
   "outputs": [],
   "source": [
    "f = open(os.path.join(YAML_FOLDER, \"task-5.1/multi-mnist-two-conv-layers.yaml\"), \"r\")\n",
    "\n",
    "sweep_configuration = yaml.safe_load(f)\n",
    "print(sweep_configuration)"
   ]
  },
  {
   "cell_type": "code",
   "execution_count": null,
   "metadata": {},
   "outputs": [],
   "source": [
    "sweep_id = wandb.sweep(sweep=sweep_configuration, project=\"smai-assignment3-task5.1\")"
   ]
  },
  {
   "cell_type": "code",
   "execution_count": null,
   "metadata": {},
   "outputs": [],
   "source": [
    "wandb.agent(sweep_id=sweep_id, function=sweep_agent_manager)"
   ]
  },
  {
   "cell_type": "markdown",
   "metadata": {},
   "source": [
    "## (5.2) - Permuted MNIST"
   ]
  },
  {
   "cell_type": "markdown",
   "metadata": {},
   "source": [
    "### (5.2.0) Data Loading, PreProcessing and Visualizing"
   ]
  },
  {
   "cell_type": "code",
   "execution_count": 7,
   "metadata": {},
   "outputs": [
    {
     "name": "stdout",
     "output_type": "stream",
     "text": [
      "torch.Size([60000, 1, 28, 28])\n",
      "torch.Size([60000])\n",
      "torch.Size([10000, 1, 28, 28])\n",
      "torch.Size([10000])\n"
     ]
    }
   ],
   "source": [
    "PERMUTED_MNIST_FILE = os.path.join(DATA_FOLDER, \"permuted_mnist.npz\")\n",
    "\n",
    "data = np.load(PERMUTED_MNIST_FILE)\n",
    "\n",
    "train_images = torch.tensor(data['train_images'])/255.0\n",
    "train_images = train_images.unsqueeze(1)\n",
    "train_labels = torch.tensor(data['train_labels'])\n",
    "test_images = torch.tensor(data['test_images'])/255.0\n",
    "test_images = test_images.unsqueeze(1)\n",
    "test_labels = torch.tensor(data['test_labels'])\n",
    "\n",
    "complete_train_dataset = TensorDataset(train_images, train_labels)\n",
    "test_dataset = TensorDataset(test_images, test_labels)\n",
    "\n",
    "print(train_images.shape)\n",
    "print(train_labels.shape)\n",
    "print(test_images.shape)\n",
    "print(test_labels.shape)"
   ]
  },
  {
   "cell_type": "markdown",
   "metadata": {},
   "source": [
    "#### Splitting into Train/Val Data"
   ]
  },
  {
   "cell_type": "code",
   "execution_count": 8,
   "metadata": {},
   "outputs": [
    {
     "name": "stdout",
     "output_type": "stream",
     "text": [
      "Length of Training Data: 42000\n",
      "Length of Validation Data: 18000\n",
      "Length of Testing Data: 10000\n"
     ]
    }
   ],
   "source": [
    "val_ratio = 0.3\n",
    "val_size = int(val_ratio * len(complete_train_dataset))\n",
    "train_size = len(complete_train_dataset) - val_size\n",
    "\n",
    "train_dataset, val_dataset = random_split(complete_train_dataset, [train_size, val_size])\n",
    "\n",
    "print(f\"Length of Training Data: {len(train_dataset)}\")\n",
    "print(f\"Length of Validation Data: {len(val_dataset)}\")\n",
    "print(f\"Length of Testing Data: {len(test_dataset)}\")"
   ]
  },
  {
   "cell_type": "markdown",
   "metadata": {},
   "source": [
    "### (5.2.1) - MLP on Permuted MNIST"
   ]
  },
  {
   "cell_type": "code",
   "execution_count": 9,
   "metadata": {},
   "outputs": [
    {
     "name": "stdout",
     "output_type": "stream",
     "text": [
      "SimpleMLP(\n",
      "  (linears): ModuleList(\n",
      "    (0): Linear(in_features=784, out_features=10, bias=True)\n",
      "  )\n",
      ")\n",
      "\n",
      "Model is on device: cuda\n",
      "\n",
      "Number of Iterations Per Epoch: 420\n",
      "Iteration: 1/4200 | loss = 2.3044\n",
      "Iteration: 100/4200 | loss = 0.4677\n",
      "Iteration: 200/4200 | loss = 0.2488\n",
      "Iteration: 300/4200 | loss = 0.1896\n",
      "Iteration: 400/4200 | loss = 0.3136\n",
      "Epoch: 1 | Train Accuracy: 92.107 | Val Accuracy: 91.600|  Train loss: 0.2865 | Val loss: 0.3030\n",
      "\n",
      "Iteration: 500/4200 | loss = 0.2994\n",
      "Iteration: 600/4200 | loss = 0.2329\n",
      "Iteration: 700/4200 | loss = 0.3318\n",
      "Iteration: 800/4200 | loss = 0.1789\n",
      "Epoch: 2 | Train Accuracy: 91.771 | Val Accuracy: 90.844|  Train loss: 0.2837 | Val loss: 0.3090\n",
      "\n",
      "Iteration: 900/4200 | loss = 0.2744\n",
      "Iteration: 1000/4200 | loss = 0.3343\n",
      "Iteration: 1100/4200 | loss = 0.2791\n",
      "Iteration: 1200/4200 | loss = 0.2781\n",
      "Epoch: 3 | Train Accuracy: 92.374 | Val Accuracy: 91.461|  Train loss: 0.2692 | Val loss: 0.3075\n",
      "\n",
      "Iteration: 1300/4200 | loss = 0.1850\n",
      "Iteration: 1400/4200 | loss = 0.3495\n",
      "Iteration: 1500/4200 | loss = 0.3520\n",
      "Iteration: 1600/4200 | loss = 0.2765\n",
      "Epoch: 4 | Train Accuracy: 93.057 | Val Accuracy: 91.889|  Train loss: 0.2504 | Val loss: 0.3004\n",
      "\n",
      "Iteration: 1700/4200 | loss = 0.1867\n",
      "Iteration: 1800/4200 | loss = 0.2586\n",
      "Iteration: 1900/4200 | loss = 0.2968\n",
      "Iteration: 2000/4200 | loss = 0.2200\n",
      "Iteration: 2100/4200 | loss = 0.1555\n",
      "Epoch: 5 | Train Accuracy: 92.710 | Val Accuracy: 91.289|  Train loss: 0.2529 | Val loss: 0.3106\n",
      "\n",
      "Iteration: 2200/4200 | loss = 0.1143\n",
      "Iteration: 2300/4200 | loss = 0.2380\n",
      "Iteration: 2400/4200 | loss = 0.2535\n",
      "Iteration: 2500/4200 | loss = 0.1067\n",
      "Epoch: 6 | Train Accuracy: 92.517 | Val Accuracy: 91.217|  Train loss: 0.2665 | Val loss: 0.3262\n",
      "\n",
      "Iteration: 2600/4200 | loss = 0.3801\n",
      "Iteration: 2700/4200 | loss = 0.2059\n",
      "Iteration: 2800/4200 | loss = 0.1987\n",
      "Iteration: 2900/4200 | loss = 0.2193\n",
      "Epoch: 7 | Train Accuracy: 93.369 | Val Accuracy: 91.944|  Train loss: 0.2383 | Val loss: 0.3010\n",
      "\n",
      "Iteration: 3000/4200 | loss = 0.4049\n",
      "Iteration: 3100/4200 | loss = 0.2293\n",
      "Iteration: 3200/4200 | loss = 0.1374\n",
      "Iteration: 3300/4200 | loss = 0.2770\n",
      "Epoch: 8 | Train Accuracy: 92.252 | Val Accuracy: 90.772|  Train loss: 0.2653 | Val loss: 0.3334\n",
      "\n",
      "Iteration: 3400/4200 | loss = 0.4402\n",
      "Iteration: 3500/4200 | loss = 0.1895\n",
      "Iteration: 3600/4200 | loss = 0.2539\n",
      "Iteration: 3700/4200 | loss = 0.2827\n",
      "Epoch: 9 | Train Accuracy: 93.079 | Val Accuracy: 91.472|  Train loss: 0.2455 | Val loss: 0.3204\n",
      "\n",
      "Iteration: 3800/4200 | loss = 0.1662\n",
      "Iteration: 3900/4200 | loss = 0.5072\n",
      "Iteration: 4000/4200 | loss = 0.2515\n",
      "Iteration: 4100/4200 | loss = 0.1984\n",
      "Iteration: 4200/4200 | loss = 0.2422\n",
      "Epoch: 10 | Train Accuracy: 93.121 | Val Accuracy: 91.389|  Train loss: 0.2434 | Val loss: 0.3204\n",
      "\n",
      "\n",
      "BEST VAL ACCURACY : 91.9444 | Best Epoch: 7 | Val loss: 0.3010\n"
     ]
    }
   ],
   "source": [
    "model_config = {\n",
    "    \"input_dim\": 28*28,\n",
    "    \"hidden_dims\": [],\n",
    "    \"num_classes\": 10,\n",
    "    \"flatten_first\": True\n",
    "}\n",
    "\n",
    "mlp_model = SimpleMLP(**model_config)\n",
    "criterion = nn.CrossEntropyLoss()\n",
    "optimizer = optim.Adam(mlp_model.parameters(), lr=0.01)\n",
    "\n",
    "print(mlp_model)\n",
    "\n",
    "train_config = {\n",
    "    \"device\": device,\n",
    "    \"print_every\": 100\n",
    "}\n",
    "\n",
    "_ = train(mlp_model, criterion, optimizer, train_dataset, val_dataset, **train_config)"
   ]
  },
  {
   "cell_type": "code",
   "execution_count": 30,
   "metadata": {},
   "outputs": [
    {
     "name": "stdout",
     "output_type": "stream",
     "text": [
      "Test Accuracy: 91.8700 | Test Loss: 0.3127\n"
     ]
    }
   ],
   "source": [
    "# Testing performance on Test Dataset\n",
    "test_acc, test_loss = evaluate(mlp_model, test_dataset, device=device)\n",
    "print(f\"Test Accuracy: {test_acc*100:.4f} | Test Loss: {test_loss:.4f}\")"
   ]
  },
  {
   "cell_type": "markdown",
   "metadata": {},
   "source": [
    "#### (5.2.1.2) Hyperparameter Tuning with Wandb"
   ]
  },
  {
   "cell_type": "code",
   "execution_count": null,
   "metadata": {},
   "outputs": [],
   "source": [
    "# testing out sweep using a single config\n",
    "config = {\n",
    "    \"method\": \"grid\",\n",
    "    \"name\": \"sgd-grid-search\",\n",
    "    \"parameters\": {\n",
    "        \"criterion\": \"CE\",\n",
    "        \"model\": {\n",
    "            \"input_dim\":28*28,\n",
    "            \"num_layers\": 1,\n",
    "            \"hidden_dims1\": 2048,\n",
    "            \"num_classes\": 10,\n",
    "            \"flatten_first\": True\n",
    "        },\n",
    "        \"optimizer\": {\n",
    "            \"learning_rate\": 0.01,\n",
    "        },\n",
    "        \"training\": {\n",
    "            \"batch_size\": 128,\n",
    "            \"epochs\": 10,\n",
    "            \"print_every\": 100,\n",
    "            # \"log_wandb\": True,\n",
    "            \"verbose\": True,\n",
    "            \"print_every\": 250,\n",
    "        }\n",
    "    }\n",
    "}\n",
    "\n",
    "model = trigger_training(config[\"parameters\"], train_dataset, val_dataset)"
   ]
  },
  {
   "cell_type": "code",
   "execution_count": 17,
   "metadata": {},
   "outputs": [],
   "source": [
    "def sweep_agent_manager():\n",
    "    global train_dataset, val_dataset\n",
    "    run = wandb.init()\n",
    "    config = re_nest_config(dict(wandb.config))\n",
    "\n",
    "    # setting the wandb run name for the current config\n",
    "    model_type = get_model_type(config[\"model\"])\n",
    "    if model_type == \"CNN\":\n",
    "        run_name = make_wandb_run_name_cnn(config)\n",
    "    elif model_type == \"MLP\":\n",
    "        run_name = make_wandb_run_name_mlp(config)\n",
    "    else:\n",
    "        return\n",
    "    print(f\"Run Name: {run_name}\")\n",
    "    run.name = run_name\n",
    "\n",
    "    # start the training\n",
    "    trigger_training(config, train_dataset, val_dataset)"
   ]
  },
  {
   "cell_type": "code",
   "execution_count": 25,
   "metadata": {},
   "outputs": [
    {
     "name": "stdout",
     "output_type": "stream",
     "text": [
      "{'method': 'grid', 'project': 'smai-assignment3-task5', 'name': 'permuted-mnist-single-layer', 'parameters': {'criterion': {'value': 'CE'}, 'model.input_dim': {'value': 784}, 'model.num_layers': {'value': 1}, 'model.hidden_dims1': {'values': [1024, 512, 256]}, 'model.num_classes': {'value': 10}, 'model.flatten_first': {'value': True}, 'optimizer.learning_rate': {'values': [0.01, 0.001, 0.0005]}, 'training.batch_size': {'values': [64, 128, 256]}, 'training.epochs': {'value': 10}, 'training.log_wandb': {'value': True}, 'training.verbose': {'value': True}, 'training.print_every': {'value': 250}}}\n"
     ]
    }
   ],
   "source": [
    "f = open(os.path.join(YAML_FOLDER, \"task-5.1.2/permuted-mnist-single-layer.yaml\"), \"r\")\n",
    "\n",
    "sweep_configuration = yaml.safe_load(f)\n",
    "print(sweep_configuration)"
   ]
  },
  {
   "cell_type": "code",
   "execution_count": 26,
   "metadata": {},
   "outputs": [
    {
     "name": "stdout",
     "output_type": "stream",
     "text": [
      "Create sweep with ID: kr42ue6x\n",
      "Sweep URL: https://wandb.ai/vanshg/smai-assignment3-task5/sweeps/kr42ue6x\n"
     ]
    }
   ],
   "source": [
    "sweep_id = wandb.sweep(sweep=sweep_configuration, project=\"smai-assignment3-task5\")"
   ]
  },
  {
   "cell_type": "code",
   "execution_count": null,
   "metadata": {},
   "outputs": [
    {
     "name": "stderr",
     "output_type": "stream",
     "text": [
      "\u001b[34m\u001b[1mwandb\u001b[0m: Agent Starting Run: rx7h1i0g with config:\n",
      "\u001b[34m\u001b[1mwandb\u001b[0m: \tcriterion: CE\n",
      "\u001b[34m\u001b[1mwandb\u001b[0m: \tmodel.flatten_first: True\n",
      "\u001b[34m\u001b[1mwandb\u001b[0m: \tmodel.hidden_dims1: 1024\n",
      "\u001b[34m\u001b[1mwandb\u001b[0m: \tmodel.input_dim: 784\n",
      "\u001b[34m\u001b[1mwandb\u001b[0m: \tmodel.num_classes: 10\n",
      "\u001b[34m\u001b[1mwandb\u001b[0m: \tmodel.num_layers: 1\n",
      "\u001b[34m\u001b[1mwandb\u001b[0m: \toptimizer.learning_rate: 0.01\n",
      "\u001b[34m\u001b[1mwandb\u001b[0m: \ttraining.batch_size: 64\n",
      "\u001b[34m\u001b[1mwandb\u001b[0m: \ttraining.epochs: 10\n",
      "\u001b[34m\u001b[1mwandb\u001b[0m: \ttraining.log_wandb: True\n",
      "\u001b[34m\u001b[1mwandb\u001b[0m: \ttraining.print_every: 250\n",
      "\u001b[34m\u001b[1mwandb\u001b[0m: \ttraining.verbose: True\n",
      "Failed to detect the name of this notebook, you can set it manually with the WANDB_NOTEBOOK_NAME environment variable to enable code saving.\n"
     ]
    },
    {
     "data": {
      "text/html": [
       "Tracking run with wandb version 0.15.12"
      ],
      "text/plain": [
       "<IPython.core.display.HTML object>"
      ]
     },
     "metadata": {},
     "output_type": "display_data"
    },
    {
     "data": {
      "text/html": [
       "Run data is saved locally in <code>/home/vanshg/play/IIIITH/sem5/smai/assignments/assignment-3-fine-man/wandb/run-20231025_134932-rx7h1i0g</code>"
      ],
      "text/plain": [
       "<IPython.core.display.HTML object>"
      ]
     },
     "metadata": {},
     "output_type": "display_data"
    },
    {
     "data": {
      "text/html": [
       "Syncing run <strong><a href='https://wandb.ai/vanshg/smai-assignment3-task5/runs/rx7h1i0g' target=\"_blank\">stilted-sweep-1</a></strong> to <a href='https://wandb.ai/vanshg/smai-assignment3-task5' target=\"_blank\">Weights & Biases</a> (<a href='https://wandb.me/run' target=\"_blank\">docs</a>)<br/>Sweep page: <a href='https://wandb.ai/vanshg/smai-assignment3-task5/sweeps/kr42ue6x' target=\"_blank\">https://wandb.ai/vanshg/smai-assignment3-task5/sweeps/kr42ue6x</a>"
      ],
      "text/plain": [
       "<IPython.core.display.HTML object>"
      ]
     },
     "metadata": {},
     "output_type": "display_data"
    },
    {
     "data": {
      "text/html": [
       " View project at <a href='https://wandb.ai/vanshg/smai-assignment3-task5' target=\"_blank\">https://wandb.ai/vanshg/smai-assignment3-task5</a>"
      ],
      "text/plain": [
       "<IPython.core.display.HTML object>"
      ]
     },
     "metadata": {},
     "output_type": "display_data"
    },
    {
     "data": {
      "text/html": [
       " View sweep at <a href='https://wandb.ai/vanshg/smai-assignment3-task5/sweeps/kr42ue6x' target=\"_blank\">https://wandb.ai/vanshg/smai-assignment3-task5/sweeps/kr42ue6x</a>"
      ],
      "text/plain": [
       "<IPython.core.display.HTML object>"
      ]
     },
     "metadata": {},
     "output_type": "display_data"
    },
    {
     "data": {
      "text/html": [
       " View run at <a href='https://wandb.ai/vanshg/smai-assignment3-task5/runs/rx7h1i0g' target=\"_blank\">https://wandb.ai/vanshg/smai-assignment3-task5/runs/rx7h1i0g</a>"
      ],
      "text/plain": [
       "<IPython.core.display.HTML object>"
      ]
     },
     "metadata": {},
     "output_type": "display_data"
    },
    {
     "name": "stdout",
     "output_type": "stream",
     "text": [
      "Run Name: H1024-lr0.01-batch64\n",
      "Model Type: MLP\n",
      "SimpleMLP(\n",
      "  (linears): ModuleList(\n",
      "    (0): Linear(in_features=784, out_features=1024, bias=True)\n",
      "    (1): ReLU()\n",
      "    (2): Linear(in_features=1024, out_features=10, bias=True)\n",
      "  )\n",
      ")\n",
      "\n",
      "Model is on device: cuda\n",
      "\n",
      "Number of Iterations Per Epoch: 657\n",
      "Iteration: 1/6570 | loss = 2.2978\n",
      "Iteration: 250/6570 | loss = 0.2229\n",
      "Iteration: 500/6570 | loss = 0.0947\n",
      "Epoch: 1 | Train Accuracy: 95.890 | Val Accuracy: 94.844|  Train loss: 0.1382 | Val loss: 0.1929\n",
      "\n",
      "Iteration: 750/6570 | loss = 0.2264\n",
      "Iteration: 1000/6570 | loss = 0.0503\n",
      "Iteration: 1250/6570 | loss = 0.0982\n",
      "Epoch: 2 | Train Accuracy: 96.243 | Val Accuracy: 94.822|  Train loss: 0.1389 | Val loss: 0.2290\n",
      "\n",
      "Iteration: 1500/6570 | loss = 0.1171\n",
      "Iteration: 1750/6570 | loss = 0.1380\n",
      "Epoch: 3 | Train Accuracy: 98.136 | Val Accuracy: 96.378|  Train loss: 0.0665 | Val loss: 0.1592\n",
      "\n",
      "Iteration: 2000/6570 | loss = 0.1707\n",
      "Iteration: 2250/6570 | loss = 0.0130\n",
      "Iteration: 2500/6570 | loss = 0.0051\n",
      "Epoch: 4 | Train Accuracy: 97.940 | Val Accuracy: 96.056|  Train loss: 0.0780 | Val loss: 0.2123\n",
      "\n",
      "Iteration: 2750/6570 | loss = 0.1805\n",
      "Iteration: 3000/6570 | loss = 0.3052\n",
      "Iteration: 3250/6570 | loss = 0.1747\n",
      "Epoch: 5 | Train Accuracy: 98.176 | Val Accuracy: 96.133|  Train loss: 0.0636 | Val loss: 0.1967\n",
      "\n",
      "Iteration: 3500/6570 | loss = 0.0557\n",
      "Iteration: 3750/6570 | loss = 0.0646\n",
      "Epoch: 6 | Train Accuracy: 97.688 | Val Accuracy: 95.822|  Train loss: 0.0841 | Val loss: 0.2386\n",
      "\n",
      "Iteration: 4000/6570 | loss = 0.0304\n",
      "Iteration: 4250/6570 | loss = 0.0416\n",
      "Iteration: 4500/6570 | loss = 0.3277\n",
      "Epoch: 7 | Train Accuracy: 98.607 | Val Accuracy: 96.400|  Train loss: 0.0462 | Val loss: 0.2077\n",
      "\n",
      "Iteration: 4750/6570 | loss = 0.0042\n",
      "Iteration: 5000/6570 | loss = 0.0494\n",
      "Iteration: 5250/6570 | loss = 0.0150\n",
      "Epoch: 8 | Train Accuracy: 98.557 | Val Accuracy: 96.383|  Train loss: 0.0522 | Val loss: 0.2323\n",
      "\n",
      "Iteration: 5500/6570 | loss = 0.0009\n",
      "Iteration: 5750/6570 | loss = 0.1393\n",
      "Epoch: 9 | Train Accuracy: 98.690 | Val Accuracy: 96.372|  Train loss: 0.0472 | Val loss: 0.2401\n",
      "\n",
      "Iteration: 6000/6570 | loss = 0.2204\n",
      "Iteration: 6250/6570 | loss = 0.0250\n",
      "Iteration: 6500/6570 | loss = 0.0042\n",
      "Epoch: 10 | Train Accuracy: 98.093 | Val Accuracy: 96.044|  Train loss: 0.0898 | Val loss: 0.3270\n",
      "\n",
      "\n",
      "BEST VAL ACCURACY : 96.4000 | Best Epoch: 7 | Val loss: 0.2077\n"
     ]
    },
    {
     "data": {
      "text/html": [
       "Waiting for W&B process to finish... <strong style=\"color:green\">(success).</strong>"
      ],
      "text/plain": [
       "<IPython.core.display.HTML object>"
      ]
     },
     "metadata": {},
     "output_type": "display_data"
    },
    {
     "name": "stderr",
     "output_type": "stream",
     "text": [
      "\u001b[34m\u001b[1mwandb\u001b[0m: Ctrl + C detected. Stopping sweep.\n"
     ]
    },
    {
     "data": {
      "text/html": [
       "<style>\n",
       "    table.wandb td:nth-child(1) { padding: 0 10px; text-align: left ; width: auto;} td:nth-child(2) {text-align: left ; width: 100%}\n",
       "    .wandb-row { display: flex; flex-direction: row; flex-wrap: wrap; justify-content: flex-start; width: 100% }\n",
       "    .wandb-col { display: flex; flex-direction: column; flex-basis: 100%; flex: 1; padding: 10px; }\n",
       "    </style>\n",
       "<div class=\"wandb-row\"><div class=\"wandb-col\"><h3>Run history:</h3><br/><table class=\"wandb\"><tr><td>best_epoch</td><td>▁</td></tr><tr><td>best_val_acc</td><td>▁</td></tr><tr><td>best_val_loss</td><td>▁</td></tr><tr><td>epoch</td><td>▁▂▃▃▄▅▆▆▇█</td></tr><tr><td>train_acc</td><td>▁▂▇▆▇▅███▇</td></tr><tr><td>train_loss</td><td>██▃▃▂▄▁▁▁▄</td></tr><tr><td>val_acc</td><td>▁▁█▆▇▅███▆</td></tr><tr><td>val_loss</td><td>▂▄▁▃▃▄▃▄▄█</td></tr></table><br/></div><div class=\"wandb-col\"><h3>Run summary:</h3><br/><table class=\"wandb\"><tr><td>best_epoch</td><td>7</td></tr><tr><td>best_val_acc</td><td>0.964</td></tr><tr><td>best_val_loss</td><td>0.20768</td></tr><tr><td>epoch</td><td>10</td></tr><tr><td>train_acc</td><td>0.98093</td></tr><tr><td>train_loss</td><td>0.08978</td></tr><tr><td>val_acc</td><td>0.96044</td></tr><tr><td>val_loss</td><td>0.32698</td></tr></table><br/></div></div>"
      ],
      "text/plain": [
       "<IPython.core.display.HTML object>"
      ]
     },
     "metadata": {},
     "output_type": "display_data"
    },
    {
     "data": {
      "text/html": [
       " View run <strong style=\"color:#cdcd00\">stilted-sweep-1</strong> at: <a href='https://wandb.ai/vanshg/smai-assignment3-task5/runs/rx7h1i0g' target=\"_blank\">https://wandb.ai/vanshg/smai-assignment3-task5/runs/rx7h1i0g</a><br/>Synced 6 W&B file(s), 0 media file(s), 0 artifact file(s) and 0 other file(s)"
      ],
      "text/plain": [
       "<IPython.core.display.HTML object>"
      ]
     },
     "metadata": {},
     "output_type": "display_data"
    },
    {
     "data": {
      "text/html": [
       "Find logs at: <code>./wandb/run-20231025_134932-rx7h1i0g/logs</code>"
      ],
      "text/plain": [
       "<IPython.core.display.HTML object>"
      ]
     },
     "metadata": {},
     "output_type": "display_data"
    }
   ],
   "source": [
    "wandb.agent(sweep_id=sweep_id, function=sweep_agent_manager)"
   ]
  },
  {
   "cell_type": "markdown",
   "metadata": {},
   "source": [
    "### (5.2.2) CNN on Permuted MNIST"
   ]
  },
  {
   "cell_type": "code",
   "execution_count": 10,
   "metadata": {},
   "outputs": [
    {
     "name": "stdout",
     "output_type": "stream",
     "text": [
      "\n",
      "Model is on device: cuda\n",
      "\n",
      "Number of Iterations Per Epoch: 420\n"
     ]
    },
    {
     "name": "stdout",
     "output_type": "stream",
     "text": [
      "Iteration: 1/4200 | loss = 2.2936\n",
      "Iteration: 100/4200 | loss = 0.5255\n",
      "Iteration: 200/4200 | loss = 0.3674\n",
      "Iteration: 300/4200 | loss = 0.2020\n",
      "Iteration: 400/4200 | loss = 0.3121\n",
      "Epoch: 1 | Train Accuracy: 93.924 | Val Accuracy: 92.917|  Train loss: 0.1974 | Val loss: 0.2287\n",
      "\n",
      "Iteration: 500/4200 | loss = 0.2596\n",
      "Iteration: 600/4200 | loss = 0.1675\n",
      "Iteration: 700/4200 | loss = 0.3777\n",
      "Iteration: 800/4200 | loss = 0.4231\n",
      "Epoch: 2 | Train Accuracy: 94.250 | Val Accuracy: 92.867|  Train loss: 0.1790 | Val loss: 0.2258\n",
      "\n",
      "Iteration: 900/4200 | loss = 0.2809\n",
      "Iteration: 1000/4200 | loss = 0.1896\n",
      "Iteration: 1100/4200 | loss = 0.2677\n",
      "Iteration: 1200/4200 | loss = 0.2256\n",
      "Epoch: 3 | Train Accuracy: 95.355 | Val Accuracy: 93.706|  Train loss: 0.1491 | Val loss: 0.2142\n",
      "\n",
      "Iteration: 1300/4200 | loss = 0.3346\n",
      "Iteration: 1400/4200 | loss = 0.3543\n",
      "Iteration: 1500/4200 | loss = 0.1842\n",
      "Iteration: 1600/4200 | loss = 0.1868\n",
      "Epoch: 4 | Train Accuracy: 95.100 | Val Accuracy: 93.489|  Train loss: 0.1730 | Val loss: 0.2561\n",
      "\n",
      "Iteration: 1700/4200 | loss = 0.2225\n",
      "Iteration: 1800/4200 | loss = 0.2887\n",
      "Iteration: 1900/4200 | loss = 0.1947\n",
      "Iteration: 2000/4200 | loss = 0.2061\n",
      "Iteration: 2100/4200 | loss = 0.2663\n",
      "Epoch: 5 | Train Accuracy: 96.381 | Val Accuracy: 94.517|  Train loss: 0.1161 | Val loss: 0.2045\n",
      "\n",
      "Iteration: 2200/4200 | loss = 0.1802\n",
      "Iteration: 2300/4200 | loss = 0.1554\n",
      "Iteration: 2400/4200 | loss = 0.1386\n",
      "Iteration: 2500/4200 | loss = 0.0999\n",
      "Epoch: 6 | Train Accuracy: 95.993 | Val Accuracy: 93.722|  Train loss: 0.1259 | Val loss: 0.2313\n",
      "\n",
      "Iteration: 2600/4200 | loss = 0.1762\n",
      "Iteration: 2700/4200 | loss = 0.0359\n",
      "Iteration: 2800/4200 | loss = 0.1329\n",
      "Iteration: 2900/4200 | loss = 0.2449\n",
      "Epoch: 7 | Train Accuracy: 96.583 | Val Accuracy: 93.944|  Train loss: 0.1083 | Val loss: 0.2264\n",
      "\n",
      "Iteration: 3000/4200 | loss = 0.1862\n",
      "Iteration: 3100/4200 | loss = 0.1967\n",
      "Iteration: 3200/4200 | loss = 0.0880\n",
      "Iteration: 3300/4200 | loss = 0.1961\n",
      "Epoch: 8 | Train Accuracy: 96.452 | Val Accuracy: 93.861|  Train loss: 0.1070 | Val loss: 0.2125\n",
      "\n",
      "Iteration: 3400/4200 | loss = 0.1451\n",
      "Iteration: 3500/4200 | loss = 0.1829\n",
      "Iteration: 3600/4200 | loss = 0.1108\n",
      "Iteration: 3700/4200 | loss = 0.2773\n",
      "Epoch: 9 | Train Accuracy: 96.636 | Val Accuracy: 93.928|  Train loss: 0.1026 | Val loss: 0.2225\n",
      "\n",
      "Iteration: 3800/4200 | loss = 0.2784\n",
      "Iteration: 3900/4200 | loss = 0.1633\n",
      "Iteration: 4000/4200 | loss = 0.1075\n",
      "Iteration: 4100/4200 | loss = 0.0948\n",
      "Iteration: 4200/4200 | loss = 0.0922\n",
      "Epoch: 10 | Train Accuracy: 96.348 | Val Accuracy: 93.644|  Train loss: 0.1130 | Val loss: 0.2370\n",
      "\n",
      "\n",
      "BEST VAL ACCURACY : 94.5167 | Best Epoch: 5 | Val loss: 0.2045\n"
     ]
    }
   ],
   "source": [
    "cnn_model = SimpleCNN(kernel_size=5, num_channels=128, stride=1, dropout=0.1)\n",
    "criterion = nn.CrossEntropyLoss()\n",
    "optimizer = optim.Adam(cnn_model.parameters(), lr=0.01)\n",
    "\n",
    "train_config = {\n",
    "    \"device\": device,\n",
    "    \"print_every\": 100\n",
    "}\n",
    "\n",
    "_ = train(cnn_model, criterion, optimizer, train_dataset, val_dataset, **train_config)"
   ]
  },
  {
   "cell_type": "code",
   "execution_count": 14,
   "metadata": {},
   "outputs": [
    {
     "name": "stdout",
     "output_type": "stream",
     "text": [
      "Test Accuracy: 94.0400 | Test Loss: 0.2229\n"
     ]
    }
   ],
   "source": [
    "test_acc, test_loss = evaluate(cnn_model, test_dataset, device=device)\n",
    "print(f\"Test Accuracy: {test_acc*100:.4f} | Test Loss: {test_loss:.4f}\")"
   ]
  },
  {
   "cell_type": "markdown",
   "metadata": {},
   "source": [
    "#### (5.2.2.2) Hyperparameter Tuning with Wandb"
   ]
  },
  {
   "cell_type": "code",
   "execution_count": 21,
   "metadata": {},
   "outputs": [
    {
     "name": "stdout",
     "output_type": "stream",
     "text": [
      "Model Type: CNN\n",
      "SimpleCNN(\n",
      "  (conv1): Conv2d(1, 128, kernel_size=(5, 5), stride=(1, 1), padding=(2, 2))\n",
      "  (relu1): ReLU()\n",
      "  (maxpool1): MaxPool2d(kernel_size=2, stride=2, padding=0, dilation=1, ceil_mode=False)\n",
      "  (conv2): Conv2d(128, 256, kernel_size=(5, 5), stride=(1, 1), padding=(2, 2))\n",
      "  (relu2): ReLU()\n",
      "  (maxpool2): MaxPool2d(kernel_size=2, stride=2, padding=0, dilation=1, ceil_mode=False)\n",
      "  (dropout): Dropout(p=0.1, inplace=False)\n",
      "  (fc): Linear(in_features=12544, out_features=10, bias=True)\n",
      ")\n",
      "\n",
      "Model is on device: cuda\n",
      "\n",
      "Number of Iterations Per Epoch: 420\n"
     ]
    },
    {
     "name": "stdout",
     "output_type": "stream",
     "text": [
      "Iteration: 1/4200 | loss = 2.3129\n",
      "Iteration: 100/4200 | loss = 0.4289\n",
      "Iteration: 200/4200 | loss = 0.1083\n",
      "Iteration: 300/4200 | loss = 0.3153\n",
      "Iteration: 400/4200 | loss = 0.0704\n",
      "Epoch: 1 | Train Accuracy: 94.367 | Val Accuracy: 93.294|  Train loss: 0.1789 | Val loss: 0.2143\n",
      "\n",
      "Iteration: 500/4200 | loss = 0.3283\n",
      "Iteration: 600/4200 | loss = 0.2205\n",
      "Iteration: 700/4200 | loss = 0.1709\n",
      "Iteration: 800/4200 | loss = 0.2059\n",
      "Epoch: 2 | Train Accuracy: 95.750 | Val Accuracy: 93.978|  Train loss: 0.1357 | Val loss: 0.2013\n",
      "\n",
      "Iteration: 900/4200 | loss = 0.0430\n",
      "Iteration: 1000/4200 | loss = 0.2748\n",
      "Iteration: 1100/4200 | loss = 0.1318\n",
      "Iteration: 1200/4200 | loss = 0.3149\n",
      "Epoch: 3 | Train Accuracy: 93.698 | Val Accuracy: 91.806|  Train loss: 0.1887 | Val loss: 0.2596\n",
      "\n",
      "Iteration: 1300/4200 | loss = 0.1118\n",
      "Iteration: 1400/4200 | loss = 0.1045\n",
      "Iteration: 1500/4200 | loss = 0.2480\n",
      "Iteration: 1600/4200 | loss = 0.2119\n",
      "Epoch: 4 | Train Accuracy: 96.067 | Val Accuracy: 93.772|  Train loss: 0.1245 | Val loss: 0.2189\n",
      "\n",
      "Iteration: 1700/4200 | loss = 0.1751\n",
      "Iteration: 1800/4200 | loss = 0.1110\n",
      "Iteration: 1900/4200 | loss = 0.2889\n",
      "Iteration: 2000/4200 | loss = 0.1402\n",
      "Iteration: 2100/4200 | loss = 0.1168\n",
      "Epoch: 5 | Train Accuracy: 95.833 | Val Accuracy: 93.589|  Train loss: 0.1261 | Val loss: 0.2211\n",
      "\n",
      "Iteration: 2200/4200 | loss = 0.0270\n",
      "Iteration: 2300/4200 | loss = 0.1666\n",
      "Iteration: 2400/4200 | loss = 0.1395\n",
      "Iteration: 2500/4200 | loss = 0.1859\n",
      "Epoch: 6 | Train Accuracy: 96.336 | Val Accuracy: 93.828|  Train loss: 0.1130 | Val loss: 0.2147\n",
      "\n",
      "Iteration: 2600/4200 | loss = 0.1396\n",
      "Iteration: 2700/4200 | loss = 0.2109\n",
      "Iteration: 2800/4200 | loss = 0.3673\n",
      "Iteration: 2900/4200 | loss = 0.2447\n",
      "Epoch: 7 | Train Accuracy: 96.479 | Val Accuracy: 93.967|  Train loss: 0.1057 | Val loss: 0.2064\n",
      "\n",
      "Iteration: 3000/4200 | loss = 0.2052\n",
      "Iteration: 3100/4200 | loss = 0.2843\n",
      "Iteration: 3200/4200 | loss = 0.0216\n",
      "Iteration: 3300/4200 | loss = 0.2403\n",
      "Epoch: 8 | Train Accuracy: 96.679 | Val Accuracy: 94.006|  Train loss: 0.1066 | Val loss: 0.2416\n",
      "\n",
      "Iteration: 3400/4200 | loss = 0.1875\n",
      "Iteration: 3500/4200 | loss = 0.2315\n",
      "Iteration: 3600/4200 | loss = 0.0733\n",
      "Iteration: 3700/4200 | loss = 0.2166\n",
      "Epoch: 9 | Train Accuracy: 96.581 | Val Accuracy: 93.633|  Train loss: 0.1043 | Val loss: 0.2313\n",
      "\n",
      "Iteration: 3800/4200 | loss = 0.0494\n",
      "Iteration: 3900/4200 | loss = 0.2550\n",
      "Iteration: 4000/4200 | loss = 0.2430\n",
      "Iteration: 4100/4200 | loss = 0.1650\n",
      "Iteration: 4200/4200 | loss = 0.0715\n",
      "Epoch: 10 | Train Accuracy: 97.012 | Val Accuracy: 93.800|  Train loss: 0.0965 | Val loss: 0.2614\n",
      "\n",
      "\n",
      "BEST VAL ACCURACY : 94.0056 | Best Epoch: 8 | Val loss: 0.2416\n"
     ]
    }
   ],
   "source": [
    "# testing out sweep using a single config\n",
    "config = {\n",
    "    \"method\": \"grid\",\n",
    "    \"name\": \"sgd-grid-search\",\n",
    "    \"parameters\": {\n",
    "        \"criterion\": \"CE\",\n",
    "        \"model\": {\n",
    "            \"input_dim\": 28,\n",
    "            \"conv_layers\": 2,\n",
    "            \"num_channels\": 128,\n",
    "            \"kernel_size\": 5,\n",
    "            \"stride\": 1,\n",
    "            \"dropout\": 0.1,\n",
    "            \"num_classes\": 10,\n",
    "        },\n",
    "        \"optimizer\": {\n",
    "            \"learning_rate\": 0.01,\n",
    "        },\n",
    "        \"training\": {\n",
    "            \"batch_size\": 100,\n",
    "            \"epochs\": 10,\n",
    "            \"print_every\": 100,\n",
    "            # \"log_wandb\": True,\n",
    "            \"verbose\": True\n",
    "        }\n",
    "    }\n",
    "}\n",
    "\n",
    "model = trigger_training(config[\"parameters\"], train_dataset, val_dataset)"
   ]
  },
  {
   "cell_type": "code",
   "execution_count": 23,
   "metadata": {},
   "outputs": [],
   "source": [
    "def sweep_agent_manager():\n",
    "    global train_dataset, val_dataset\n",
    "    run = wandb.init()\n",
    "    config = re_nest_config(dict(wandb.config))\n",
    "\n",
    "    # setting the wandb run name for the current config\n",
    "    model_type = get_model_type(config[\"model\"])\n",
    "    if model_type == \"CNN\":\n",
    "        run_name = make_wandb_run_name_cnn(config)\n",
    "    elif model_type == \"MLP\":\n",
    "        run_name = make_wandb_run_name_mlp(config)\n",
    "    else:\n",
    "        return\n",
    "    print(f\"Run Name: {run_name}\")\n",
    "    run.name = run_name\n",
    "\n",
    "    # start the training\n",
    "    trigger_training(config, train_dataset, val_dataset)"
   ]
  },
  {
   "cell_type": "code",
   "execution_count": 24,
   "metadata": {},
   "outputs": [
    {
     "name": "stdout",
     "output_type": "stream",
     "text": [
      "{'method': 'grid', 'project': 'smai-assignment3-task5', 'name': 'permuted-mnist-two-conv-layers', 'parameters': {'criterion': {'value': 'CE'}, 'model.conv_layers': {'value': 2}, 'model.num_channels': {'values': [32, 64, 128]}, 'model.kernel_size': {'values': [3, 5]}, 'model.stride': {'values': [1, 3]}, 'model.dropout': {'values': [0, 0.1]}, 'model.num_classes': {'value': 10}, 'optimizer.learning_rate': {'values': [0.01, 0.001]}, 'training.batch_size': {'values': [128]}, 'training.epochs': {'value': 20}, 'training.log_wandb': {'value': True}, 'training.verbose': {'value': True}, 'training.print_every': {'value': 100}}}\n"
     ]
    }
   ],
   "source": [
    "f = open(os.path.join(YAML_FOLDER, \"task-5.1.2/permuted-mnist-two-conv-layers.yaml\"), \"r\")\n",
    "\n",
    "sweep_configuration = yaml.safe_load(f)\n",
    "print(sweep_configuration)"
   ]
  },
  {
   "cell_type": "code",
   "execution_count": 25,
   "metadata": {},
   "outputs": [
    {
     "name": "stdout",
     "output_type": "stream",
     "text": [
      "Create sweep with ID: rb3s2jcm\n",
      "Sweep URL: https://wandb.ai/vanshg/smai-assignment3-task4/sweeps/rb3s2jcm\n"
     ]
    }
   ],
   "source": [
    "sweep_id = wandb.sweep(sweep=sweep_configuration, project=\"smai-assignment3-task4\")"
   ]
  },
  {
   "cell_type": "code",
   "execution_count": 26,
   "metadata": {},
   "outputs": [
    {
     "name": "stderr",
     "output_type": "stream",
     "text": [
      "\u001b[34m\u001b[1mwandb\u001b[0m: Agent Starting Run: ou5vzzca with config:\n",
      "\u001b[34m\u001b[1mwandb\u001b[0m: \tcriterion: CE\n",
      "\u001b[34m\u001b[1mwandb\u001b[0m: \tmodel.conv_layers: 2\n",
      "\u001b[34m\u001b[1mwandb\u001b[0m: \tmodel.dropout: 0\n",
      "\u001b[34m\u001b[1mwandb\u001b[0m: \tmodel.kernel_size: 3\n",
      "\u001b[34m\u001b[1mwandb\u001b[0m: \tmodel.num_channels: 32\n",
      "\u001b[34m\u001b[1mwandb\u001b[0m: \tmodel.num_classes: 10\n",
      "\u001b[34m\u001b[1mwandb\u001b[0m: \tmodel.stride: 1\n",
      "\u001b[34m\u001b[1mwandb\u001b[0m: \toptimizer.learning_rate: 0.01\n",
      "\u001b[34m\u001b[1mwandb\u001b[0m: \ttraining.batch_size: 128\n",
      "\u001b[34m\u001b[1mwandb\u001b[0m: \ttraining.epochs: 20\n",
      "\u001b[34m\u001b[1mwandb\u001b[0m: \ttraining.log_wandb: True\n",
      "\u001b[34m\u001b[1mwandb\u001b[0m: \ttraining.print_every: 100\n",
      "\u001b[34m\u001b[1mwandb\u001b[0m: \ttraining.verbose: True\n",
      "Failed to detect the name of this notebook, you can set it manually with the WANDB_NOTEBOOK_NAME environment variable to enable code saving.\n"
     ]
    },
    {
     "data": {
      "text/html": [
       "Tracking run with wandb version 0.15.12"
      ],
      "text/plain": [
       "<IPython.core.display.HTML object>"
      ]
     },
     "metadata": {},
     "output_type": "display_data"
    },
    {
     "data": {
      "text/html": [
       "Run data is saved locally in <code>/home/vanshg/play/IIIITH/sem5/smai/assignments/assignment-3-fine-man/wandb/run-20231025_145937-ou5vzzca</code>"
      ],
      "text/plain": [
       "<IPython.core.display.HTML object>"
      ]
     },
     "metadata": {},
     "output_type": "display_data"
    },
    {
     "data": {
      "text/html": [
       "Syncing run <strong><a href='https://wandb.ai/vanshg/smai-assignment3-task4/runs/ou5vzzca' target=\"_blank\">jolly-sweep-1</a></strong> to <a href='https://wandb.ai/vanshg/smai-assignment3-task4' target=\"_blank\">Weights & Biases</a> (<a href='https://wandb.me/run' target=\"_blank\">docs</a>)<br/>Sweep page: <a href='https://wandb.ai/vanshg/smai-assignment3-task4/sweeps/rb3s2jcm' target=\"_blank\">https://wandb.ai/vanshg/smai-assignment3-task4/sweeps/rb3s2jcm</a>"
      ],
      "text/plain": [
       "<IPython.core.display.HTML object>"
      ]
     },
     "metadata": {},
     "output_type": "display_data"
    },
    {
     "data": {
      "text/html": [
       " View project at <a href='https://wandb.ai/vanshg/smai-assignment3-task4' target=\"_blank\">https://wandb.ai/vanshg/smai-assignment3-task4</a>"
      ],
      "text/plain": [
       "<IPython.core.display.HTML object>"
      ]
     },
     "metadata": {},
     "output_type": "display_data"
    },
    {
     "data": {
      "text/html": [
       " View sweep at <a href='https://wandb.ai/vanshg/smai-assignment3-task4/sweeps/rb3s2jcm' target=\"_blank\">https://wandb.ai/vanshg/smai-assignment3-task4/sweeps/rb3s2jcm</a>"
      ],
      "text/plain": [
       "<IPython.core.display.HTML object>"
      ]
     },
     "metadata": {},
     "output_type": "display_data"
    },
    {
     "data": {
      "text/html": [
       " View run at <a href='https://wandb.ai/vanshg/smai-assignment3-task4/runs/ou5vzzca' target=\"_blank\">https://wandb.ai/vanshg/smai-assignment3-task4/runs/ou5vzzca</a>"
      ],
      "text/plain": [
       "<IPython.core.display.HTML object>"
      ]
     },
     "metadata": {},
     "output_type": "display_data"
    },
    {
     "name": "stdout",
     "output_type": "stream",
     "text": [
      "Run Name: C32-k3-s1-dropout0-lr0.01-batch128\n",
      "Model Type: CNN\n",
      "SimpleCNN(\n",
      "  (conv1): Conv2d(1, 32, kernel_size=(3, 3), stride=(1, 1), padding=(1, 1))\n",
      "  (relu1): ReLU()\n",
      "  (maxpool1): MaxPool2d(kernel_size=2, stride=2, padding=0, dilation=1, ceil_mode=False)\n",
      "  (conv2): Conv2d(32, 64, kernel_size=(3, 3), stride=(1, 1), padding=(1, 1))\n",
      "  (relu2): ReLU()\n",
      "  (maxpool2): MaxPool2d(kernel_size=2, stride=2, padding=0, dilation=1, ceil_mode=False)\n",
      "  (dropout): Dropout(p=0, inplace=False)\n",
      "  (fc): Linear(in_features=3136, out_features=10, bias=True)\n",
      ")\n",
      "\n",
      "Model is on device: cuda\n",
      "\n",
      "Number of Iterations Per Epoch: 329\n",
      "Iteration: 1/6580 | loss = 2.3121\n",
      "Iteration: 100/6580 | loss = 0.3998\n",
      "Iteration: 200/6580 | loss = 0.2578\n",
      "Iteration: 300/6580 | loss = 0.3579\n",
      "Epoch: 1 | Train Accuracy: 92.748 | Val Accuracy: 91.822|  Train loss: 0.2360 | Val loss: 0.2594\n",
      "\n",
      "Iteration: 400/6580 | loss = 0.1967\n",
      "Iteration: 500/6580 | loss = 0.2018\n",
      "Iteration: 600/6580 | loss = 0.2544\n",
      "Epoch: 2 | Train Accuracy: 94.755 | Val Accuracy: 93.233|  Train loss: 0.1685 | Val loss: 0.2134\n",
      "\n",
      "Iteration: 700/6580 | loss = 0.1968\n",
      "Iteration: 800/6580 | loss = 0.1275\n",
      "Iteration: 900/6580 | loss = 0.1609\n",
      "Epoch: 3 | Train Accuracy: 95.688 | Val Accuracy: 93.950|  Train loss: 0.1364 | Val loss: 0.1966\n",
      "\n",
      "Iteration: 1000/6580 | loss = 0.2227\n",
      "Iteration: 1100/6580 | loss = 0.2019\n",
      "Iteration: 1200/6580 | loss = 0.1266\n",
      "Iteration: 1300/6580 | loss = 0.1453\n",
      "Epoch: 4 | Train Accuracy: 94.962 | Val Accuracy: 93.100|  Train loss: 0.1546 | Val loss: 0.2248\n",
      "\n",
      "Iteration: 1400/6580 | loss = 0.1444\n",
      "Iteration: 1500/6580 | loss = 0.1072\n",
      "Iteration: 1600/6580 | loss = 0.2115\n",
      "Epoch: 5 | Train Accuracy: 96.619 | Val Accuracy: 94.217|  Train loss: 0.1084 | Val loss: 0.1995\n",
      "\n",
      "Iteration: 1700/6580 | loss = 0.1744\n",
      "Iteration: 1800/6580 | loss = 0.1170\n",
      "Iteration: 1900/6580 | loss = 0.1041\n",
      "Epoch: 6 | Train Accuracy: 95.995 | Val Accuracy: 93.706|  Train loss: 0.1210 | Val loss: 0.2159\n",
      "\n",
      "Iteration: 2000/6580 | loss = 0.0568\n",
      "Iteration: 2100/6580 | loss = 0.1074\n",
      "Iteration: 2200/6580 | loss = 0.0668\n",
      "Iteration: 2300/6580 | loss = 0.3096\n",
      "Epoch: 7 | Train Accuracy: 96.379 | Val Accuracy: 93.900|  Train loss: 0.1103 | Val loss: 0.2193\n",
      "\n",
      "Iteration: 2400/6580 | loss = 0.0546\n",
      "Iteration: 2500/6580 | loss = 0.2310\n",
      "Iteration: 2600/6580 | loss = 0.2423\n",
      "Epoch: 8 | Train Accuracy: 95.971 | Val Accuracy: 93.494|  Train loss: 0.1204 | Val loss: 0.2308\n",
      "\n",
      "Iteration: 2700/6580 | loss = 0.0921\n",
      "Iteration: 2800/6580 | loss = 0.1473\n",
      "Iteration: 2900/6580 | loss = 0.0821\n",
      "Epoch: 9 | Train Accuracy: 97.179 | Val Accuracy: 94.406|  Train loss: 0.0829 | Val loss: 0.2004\n",
      "\n",
      "Iteration: 3000/6580 | loss = 0.1723\n",
      "Iteration: 3100/6580 | loss = 0.1046\n",
      "Iteration: 3200/6580 | loss = 0.0960\n",
      "Epoch: 10 | Train Accuracy: 96.905 | Val Accuracy: 94.006|  Train loss: 0.0916 | Val loss: 0.2190\n",
      "\n",
      "Iteration: 3300/6580 | loss = 0.0787\n",
      "Iteration: 3400/6580 | loss = 0.0945\n",
      "Iteration: 3500/6580 | loss = 0.0768\n",
      "Iteration: 3600/6580 | loss = 0.1307\n",
      "Epoch: 11 | Train Accuracy: 97.005 | Val Accuracy: 93.911|  Train loss: 0.0876 | Val loss: 0.2374\n",
      "\n",
      "Iteration: 3700/6580 | loss = 0.1195\n",
      "Iteration: 3800/6580 | loss = 0.1572\n",
      "Iteration: 3900/6580 | loss = 0.1398\n",
      "Epoch: 12 | Train Accuracy: 97.260 | Val Accuracy: 94.067|  Train loss: 0.0828 | Val loss: 0.2401\n",
      "\n",
      "Iteration: 4000/6580 | loss = 0.0681\n",
      "Iteration: 4100/6580 | loss = 0.0934\n",
      "Iteration: 4200/6580 | loss = 0.2152\n",
      "Epoch: 13 | Train Accuracy: 97.545 | Val Accuracy: 94.367|  Train loss: 0.0734 | Val loss: 0.2488\n",
      "\n",
      "Iteration: 4300/6580 | loss = 0.0530\n",
      "Iteration: 4400/6580 | loss = 0.1340\n",
      "Iteration: 4500/6580 | loss = 0.0810\n",
      "Iteration: 4600/6580 | loss = 0.2398\n",
      "Epoch: 14 | Train Accuracy: 97.581 | Val Accuracy: 94.244|  Train loss: 0.0718 | Val loss: 0.2458\n",
      "\n",
      "Iteration: 4700/6580 | loss = 0.0351\n",
      "Iteration: 4800/6580 | loss = 0.1476\n",
      "Iteration: 4900/6580 | loss = 0.1116\n",
      "Epoch: 15 | Train Accuracy: 97.167 | Val Accuracy: 93.994|  Train loss: 0.0849 | Val loss: 0.2689\n",
      "\n",
      "Iteration: 5000/6580 | loss = 0.0378\n",
      "Iteration: 5100/6580 | loss = 0.0965\n",
      "Iteration: 5200/6580 | loss = 0.0702\n",
      "Epoch: 16 | Train Accuracy: 96.852 | Val Accuracy: 93.478|  Train loss: 0.0904 | Val loss: 0.2782\n",
      "\n",
      "Iteration: 5300/6580 | loss = 0.0918\n",
      "Iteration: 5400/6580 | loss = 0.0796\n",
      "Iteration: 5500/6580 | loss = 0.1254\n",
      "Epoch: 17 | Train Accuracy: 98.017 | Val Accuracy: 94.500|  Train loss: 0.0569 | Val loss: 0.2653\n",
      "\n",
      "Iteration: 5600/6580 | loss = 0.0412\n",
      "Iteration: 5700/6580 | loss = 0.1800\n",
      "Iteration: 5800/6580 | loss = 0.1381\n",
      "Iteration: 5900/6580 | loss = 0.0884\n",
      "Epoch: 18 | Train Accuracy: 97.529 | Val Accuracy: 93.856|  Train loss: 0.0743 | Val loss: 0.2907\n",
      "\n",
      "Iteration: 6000/6580 | loss = 0.0083\n",
      "Iteration: 6100/6580 | loss = 0.1490\n",
      "Iteration: 6200/6580 | loss = 0.1831\n",
      "Epoch: 19 | Train Accuracy: 97.771 | Val Accuracy: 94.089|  Train loss: 0.0676 | Val loss: 0.3002\n",
      "\n",
      "Iteration: 6300/6580 | loss = 0.0526\n",
      "Iteration: 6400/6580 | loss = 0.0822\n",
      "Iteration: 6500/6580 | loss = 0.1374\n",
      "Epoch: 20 | Train Accuracy: 97.405 | Val Accuracy: 93.622|  Train loss: 0.0819 | Val loss: 0.3249\n",
      "\n",
      "\n",
      "BEST VAL ACCURACY : 94.5000 | Best Epoch: 17 | Val loss: 0.2653\n"
     ]
    },
    {
     "data": {
      "text/html": [
       "Waiting for W&B process to finish... <strong style=\"color:green\">(success).</strong>"
      ],
      "text/plain": [
       "<IPython.core.display.HTML object>"
      ]
     },
     "metadata": {},
     "output_type": "display_data"
    },
    {
     "name": "stderr",
     "output_type": "stream",
     "text": [
      "\u001b[34m\u001b[1mwandb\u001b[0m: Ctrl + C detected. Stopping sweep.\n"
     ]
    }
   ],
   "source": [
    "wandb.agent(sweep_id=sweep_id, function=sweep_agent_manager)"
   ]
  },
  {
   "cell_type": "markdown",
   "metadata": {},
   "source": [
    "## (5.3) Analysis"
   ]
  }
 ],
 "metadata": {
  "kernelspec": {
   "display_name": "coursework",
   "language": "python",
   "name": "python3"
  },
  "language_info": {
   "codemirror_mode": {
    "name": "ipython",
    "version": 3
   },
   "file_extension": ".py",
   "mimetype": "text/x-python",
   "name": "python",
   "nbconvert_exporter": "python",
   "pygments_lexer": "ipython3",
   "version": "3.10.13"
  }
 },
 "nbformat": 4,
 "nbformat_minor": 2
}
